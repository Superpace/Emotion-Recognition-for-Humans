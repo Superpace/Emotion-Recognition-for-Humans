{
 "cells": [
  {
   "cell_type": "code",
   "execution_count": null,
   "metadata": {
    "colab": {
     "base_uri": "https://localhost:8080/"
    },
    "id": "_bqLssF1uIaI",
    "outputId": "65b48de5-0231-4c9f-9701-c899887e385a"
   },
   "outputs": [
    {
     "name": "stdout",
     "output_type": "stream",
     "text": [
      "Collecting noisereduce\n",
      "  Downloading https://files.pythonhosted.org/packages/04/d0/4e50cac3daaa1522a3730ec22750ca86f6c221a480e65c8d6b0ab18a21ed/noisereduce-1.1.0.tar.gz\n",
      "Requirement already satisfied: scipy in /usr/local/lib/python3.7/dist-packages (from noisereduce) (1.4.1)\n",
      "Requirement already satisfied: matplotlib in /usr/local/lib/python3.7/dist-packages (from noisereduce) (3.2.2)\n",
      "Requirement already satisfied: librosa in /usr/local/lib/python3.7/dist-packages (from noisereduce) (0.8.1)\n",
      "Requirement already satisfied: numpy in /usr/local/lib/python3.7/dist-packages (from noisereduce) (1.19.5)\n",
      "Requirement already satisfied: tqdm in /usr/local/lib/python3.7/dist-packages (from noisereduce) (4.41.1)\n",
      "Requirement already satisfied: python-dateutil>=2.1 in /usr/local/lib/python3.7/dist-packages (from matplotlib->noisereduce) (2.8.1)\n",
      "Requirement already satisfied: pyparsing!=2.0.4,!=2.1.2,!=2.1.6,>=2.0.1 in /usr/local/lib/python3.7/dist-packages (from matplotlib->noisereduce) (2.4.7)\n",
      "Requirement already satisfied: cycler>=0.10 in /usr/local/lib/python3.7/dist-packages (from matplotlib->noisereduce) (0.10.0)\n",
      "Requirement already satisfied: kiwisolver>=1.0.1 in /usr/local/lib/python3.7/dist-packages (from matplotlib->noisereduce) (1.3.1)\n",
      "Requirement already satisfied: resampy>=0.2.2 in /usr/local/lib/python3.7/dist-packages (from librosa->noisereduce) (0.2.2)\n",
      "Requirement already satisfied: pooch>=1.0 in /usr/local/lib/python3.7/dist-packages (from librosa->noisereduce) (1.4.0)\n",
      "Requirement already satisfied: soundfile>=0.10.2 in /usr/local/lib/python3.7/dist-packages (from librosa->noisereduce) (0.10.3.post1)\n",
      "Requirement already satisfied: scikit-learn!=0.19.0,>=0.14.0 in /usr/local/lib/python3.7/dist-packages (from librosa->noisereduce) (0.22.2.post1)\n",
      "Requirement already satisfied: numba>=0.43.0 in /usr/local/lib/python3.7/dist-packages (from librosa->noisereduce) (0.51.2)\n",
      "Requirement already satisfied: audioread>=2.0.0 in /usr/local/lib/python3.7/dist-packages (from librosa->noisereduce) (2.1.9)\n",
      "Requirement already satisfied: decorator>=3.0.0 in /usr/local/lib/python3.7/dist-packages (from librosa->noisereduce) (4.4.2)\n",
      "Requirement already satisfied: packaging>=20.0 in /usr/local/lib/python3.7/dist-packages (from librosa->noisereduce) (20.9)\n",
      "Requirement already satisfied: joblib>=0.14 in /usr/local/lib/python3.7/dist-packages (from librosa->noisereduce) (1.0.1)\n",
      "Requirement already satisfied: six>=1.5 in /usr/local/lib/python3.7/dist-packages (from python-dateutil>=2.1->matplotlib->noisereduce) (1.15.0)\n",
      "Requirement already satisfied: requests in /usr/local/lib/python3.7/dist-packages (from pooch>=1.0->librosa->noisereduce) (2.23.0)\n",
      "Requirement already satisfied: appdirs in /usr/local/lib/python3.7/dist-packages (from pooch>=1.0->librosa->noisereduce) (1.4.4)\n",
      "Requirement already satisfied: cffi>=1.0 in /usr/local/lib/python3.7/dist-packages (from soundfile>=0.10.2->librosa->noisereduce) (1.14.5)\n",
      "Requirement already satisfied: llvmlite<0.35,>=0.34.0.dev0 in /usr/local/lib/python3.7/dist-packages (from numba>=0.43.0->librosa->noisereduce) (0.34.0)\n",
      "Requirement already satisfied: setuptools in /usr/local/lib/python3.7/dist-packages (from numba>=0.43.0->librosa->noisereduce) (57.0.0)\n",
      "Requirement already satisfied: chardet<4,>=3.0.2 in /usr/local/lib/python3.7/dist-packages (from requests->pooch>=1.0->librosa->noisereduce) (3.0.4)\n",
      "Requirement already satisfied: urllib3!=1.25.0,!=1.25.1,<1.26,>=1.21.1 in /usr/local/lib/python3.7/dist-packages (from requests->pooch>=1.0->librosa->noisereduce) (1.24.3)\n",
      "Requirement already satisfied: idna<3,>=2.5 in /usr/local/lib/python3.7/dist-packages (from requests->pooch>=1.0->librosa->noisereduce) (2.10)\n",
      "Requirement already satisfied: certifi>=2017.4.17 in /usr/local/lib/python3.7/dist-packages (from requests->pooch>=1.0->librosa->noisereduce) (2021.5.30)\n",
      "Requirement already satisfied: pycparser in /usr/local/lib/python3.7/dist-packages (from cffi>=1.0->soundfile>=0.10.2->librosa->noisereduce) (2.20)\n",
      "Building wheels for collected packages: noisereduce\n",
      "  Building wheel for noisereduce (setup.py) ... \u001b[?25l\u001b[?25hdone\n",
      "  Created wheel for noisereduce: filename=noisereduce-1.1.0-cp37-none-any.whl size=7610 sha256=fd7aa780b852dbbda7656186fc3ab1bb25c59d9f55e1b374ddb0449eed54cc96\n",
      "  Stored in directory: /root/.cache/pip/wheels/a6/2c/70/f9ccb41280dcfbe3eaeb7930f913dd85394617f3d3136f29cc\n",
      "Successfully built noisereduce\n",
      "Installing collected packages: noisereduce\n",
      "Successfully installed noisereduce-1.1.0\n",
      "Collecting pyswarms\n",
      "\u001b[?25l  Downloading https://files.pythonhosted.org/packages/d1/fd/5c2baba82425b75baf7dbec5af57219cd252aa8a1ace4f5cd1d88e472276/pyswarms-1.3.0-py2.py3-none-any.whl (104kB)\n",
      "\u001b[K     |████████████████████████████████| 112kB 29.1MB/s \n",
      "\u001b[?25hRequirement already satisfied: matplotlib>=1.3.1 in /usr/local/lib/python3.7/dist-packages (from pyswarms) (3.2.2)\n",
      "Requirement already satisfied: scipy in /usr/local/lib/python3.7/dist-packages (from pyswarms) (1.4.1)\n",
      "Requirement already satisfied: future in /usr/local/lib/python3.7/dist-packages (from pyswarms) (0.16.0)\n",
      "Requirement already satisfied: pyyaml in /usr/local/lib/python3.7/dist-packages (from pyswarms) (3.13)\n",
      "Requirement already satisfied: tqdm in /usr/local/lib/python3.7/dist-packages (from pyswarms) (4.41.1)\n",
      "Requirement already satisfied: attrs in /usr/local/lib/python3.7/dist-packages (from pyswarms) (21.2.0)\n",
      "Requirement already satisfied: numpy in /usr/local/lib/python3.7/dist-packages (from pyswarms) (1.19.5)\n",
      "Requirement already satisfied: cycler>=0.10 in /usr/local/lib/python3.7/dist-packages (from matplotlib>=1.3.1->pyswarms) (0.10.0)\n",
      "Requirement already satisfied: python-dateutil>=2.1 in /usr/local/lib/python3.7/dist-packages (from matplotlib>=1.3.1->pyswarms) (2.8.1)\n",
      "Requirement already satisfied: kiwisolver>=1.0.1 in /usr/local/lib/python3.7/dist-packages (from matplotlib>=1.3.1->pyswarms) (1.3.1)\n",
      "Requirement already satisfied: pyparsing!=2.0.4,!=2.1.2,!=2.1.6,>=2.0.1 in /usr/local/lib/python3.7/dist-packages (from matplotlib>=1.3.1->pyswarms) (2.4.7)\n",
      "Requirement already satisfied: six in /usr/local/lib/python3.7/dist-packages (from cycler>=0.10->matplotlib>=1.3.1->pyswarms) (1.15.0)\n",
      "Installing collected packages: pyswarms\n",
      "Successfully installed pyswarms-1.3.0\n",
      "Collecting keras-adabound\n",
      "  Downloading https://files.pythonhosted.org/packages/bf/74/85de8379eba8e0f819ef9b62ff32d24a3f624758800e12bd9572e3afb546/keras-adabound-0.6.0.tar.gz\n",
      "Requirement already satisfied: numpy in /usr/local/lib/python3.7/dist-packages (from keras-adabound) (1.19.5)\n",
      "Requirement already satisfied: Keras in /usr/local/lib/python3.7/dist-packages (from keras-adabound) (2.4.3)\n",
      "Requirement already satisfied: typeguard in /usr/local/lib/python3.7/dist-packages (from keras-adabound) (2.7.1)\n",
      "Requirement already satisfied: pyyaml in /usr/local/lib/python3.7/dist-packages (from Keras->keras-adabound) (3.13)\n",
      "Requirement already satisfied: scipy>=0.14 in /usr/local/lib/python3.7/dist-packages (from Keras->keras-adabound) (1.4.1)\n",
      "Requirement already satisfied: h5py in /usr/local/lib/python3.7/dist-packages (from Keras->keras-adabound) (3.1.0)\n",
      "Requirement already satisfied: cached-property; python_version < \"3.8\" in /usr/local/lib/python3.7/dist-packages (from h5py->Keras->keras-adabound) (1.5.2)\n",
      "Building wheels for collected packages: keras-adabound\n",
      "  Building wheel for keras-adabound (setup.py) ... \u001b[?25l\u001b[?25hdone\n",
      "  Created wheel for keras-adabound: filename=keras_adabound-0.6.0-cp37-none-any.whl size=6610 sha256=51cc98c7f2d7922fedb76f8260b9cf148385dc075439ea006538f44ac8765030\n",
      "  Stored in directory: /root/.cache/pip/wheels/f1/81/9c/04af926d62bddd280c97af1704a9baaef511664b56865958e8\n",
      "Successfully built keras-adabound\n",
      "Installing collected packages: keras-adabound\n",
      "Successfully installed keras-adabound-0.6.0\n"
     ]
    },
    {
     "name": "stderr",
     "output_type": "stream",
     "text": [
      "/usr/local/lib/python3.7/dist-packages/noisereduce/noisereduce.py:5: TqdmExperimentalWarning: Using `tqdm.autonotebook.tqdm` in notebook mode. Use `tqdm.tqdm` instead to force console mode (e.g. in jupyter console)\n",
      "  from tqdm.autonotebook import tqdm\n"
     ]
    }
   ],
   "source": [
    "import librosa\n",
    "import librosa.display\n",
    "\n",
    "from sklearn.model_selection import train_test_split,KFold\n",
    "from sklearn.tree import DecisionTreeClassifier\n",
    "from sklearn.neighbors import KNeighborsClassifier\n",
    "from sklearn.neural_network import MLPClassifier\n",
    "from sklearn.metrics import accuracy_score\n",
    "from sklearn.metrics import classification_report\n",
    "from sklearn.ensemble import RandomForestClassifier\n",
    "from keras.callbacks import ReduceLROnPlateau\n",
    "from sklearn.model_selection import GridSearchCV\n",
    "\n",
    "import math \n",
    "import matplotlib.pyplot as plt\n",
    "import soundfile\n",
    "import os, glob , pickle\n",
    "import numpy as np\n",
    "import pandas as pd\n",
    "from tqdm.notebook import tqdm\n",
    "from sklearn.metrics import precision_recall_fscore_support\n",
    "\n",
    "!pip install noisereduce\n",
    "!pip install pyswarms\n",
    "!pip install keras-adabound\n",
    "\n",
    "from keras_adabound import AdaBound\n",
    "\n",
    "import noisereduce as nr\n",
    "import pyswarms as ps"
   ]
  },
  {
   "cell_type": "code",
   "execution_count": null,
   "metadata": {
    "colab": {
     "base_uri": "https://localhost:8080/"
    },
    "id": "lk-Jawgvuxq-",
    "outputId": "3a051883-a96c-40cf-ca2e-89658f8975db"
   },
   "outputs": [
    {
     "name": "stdout",
     "output_type": "stream",
     "text": [
      "Mounted at /content/drive\n"
     ]
    }
   ],
   "source": [
    "from google.colab import drive\n",
    "drive.mount('/content/drive',force_remount=True)"
   ]
  },
  {
   "cell_type": "code",
   "execution_count": null,
   "metadata": {
    "id": "RNFNO7dNuIaS"
   },
   "outputs": [],
   "source": [
    "#Tüm Duyguları bir dictionary'e aktardık\n",
    "emotions={\n",
    "  0:'Normal',\n",
    "  1:'Sakin',\n",
    "  2:'Mutlu',\n",
    "  3:'Üzgün',\n",
    "  4:'Sinirli',\n",
    "  5:'Korkulu',\n",
    "  6:'İğrenme',\n",
    "  7:'Şaşırma'\n",
    "}"
   ]
  },
  {
   "cell_type": "code",
   "execution_count": null,
   "metadata": {
    "id": "EnJngOoVuIaX"
   },
   "outputs": [],
   "source": [
    "def extract_features(file_name, noisy):\n",
    "    audio_duration = 3\n",
    "    sample_rate = 22050\n",
    "\n",
    "    y, sr = librosa.load(os.path.join(file_name),res_type='kaiser_fast')\n",
    "    \n",
    "    if noisy:\n",
    "        y = nr.reduce_noise(audio_clip=y, noise_clip=y)\n",
    "\n",
    "    mfcc=np.mean(librosa.feature.mfcc(y=y, sr=sr, n_mfcc=40,fmin=30,fmax=2700).T,axis=0)\n",
    "    return mfcc"
   ]
  },
  {
   "cell_type": "code",
   "execution_count": null,
   "metadata": {
    "id": "2cF_C2fyuIaW"
   },
   "outputs": [],
   "source": [
    "x,y = [],[]"
   ]
  },
  {
   "cell_type": "code",
   "execution_count": null,
   "metadata": {
    "id": "bMVdde8i0uB5"
   },
   "outputs": [],
   "source": [
    "def load_data(test_size=0.2):\n",
    "    global x,y\n",
    "    x,y=[],[]\n",
    "    print(\"Ravdess Datas Loading ...\")\n",
    "    for file in tqdm(glob.glob('/content/drive/MyDrive/Colab Notebooks/RAVDESS/Audio_Speech_Actors_01-24/Actor_*/*.wav')):\n",
    "        feature=\"\"\n",
    "        file_name=os.path.basename(file)\n",
    "        \n",
    "        emotion=int(file_name.split(\"-\")[2])-1\n",
    "        feature=extract_features(file,noisy=False)\n",
    "\n",
    "        x.append(feature)\n",
    "        y.append(emotion)\n",
    "    return train_test_split(np.array(x), np.array(y), test_size=test_size, train_size= 1-test_size,random_state=42,shuffle=1)"
   ]
  },
  {
   "cell_type": "code",
   "execution_count": null,
   "metadata": {
    "colab": {
     "base_uri": "https://localhost:8080/",
     "height": 355,
     "referenced_widgets": [
      "d153754947f0471391e6be012b07c703",
      "9e0688ef13f745f7ad1bf027ddfed2de",
      "d292c824d8c74fbdac065af0a18f6a7b",
      "9ceb6e7edec9463ab6192d10902c5c7b",
      "4a2e806b1a5243b0af361778732f137c",
      "cf80a04fdda34d62a507291fa84a521e",
      "6eab77adf1f542ab9c22d76a63251f33",
      "83ad67d5c119441dbedf53f234bebdf5"
     ]
    },
    "id": "8zQxha1WuIaY",
    "outputId": "8b30f91e-65b6-4783-faf9-b6f4906d8992",
    "scrolled": true
   },
   "outputs": [
    {
     "name": "stdout",
     "output_type": "stream",
     "text": [
      "Ravdess Datas Loading ...\n"
     ]
    },
    {
     "data": {
      "application/vnd.jupyter.widget-view+json": {
       "model_id": "d153754947f0471391e6be012b07c703",
       "version_major": 2,
       "version_minor": 0
      },
      "text/plain": [
       "HBox(children=(FloatProgress(value=0.0, max=5252.0), HTML(value='')))"
      ]
     },
     "metadata": {
      "tags": []
     },
     "output_type": "display_data"
    },
    {
     "ename": "KeyboardInterrupt",
     "evalue": "ignored",
     "output_type": "error",
     "traceback": [
      "\u001b[0;31m---------------------------------------------------------------------------\u001b[0m",
      "\u001b[0;31mKeyboardInterrupt\u001b[0m                         Traceback (most recent call last)",
      "\u001b[0;32m<ipython-input-7-293528c55123>\u001b[0m in \u001b[0;36m<module>\u001b[0;34m()\u001b[0m\n\u001b[0;32m----> 1\u001b[0;31m \u001b[0mx_train\u001b[0m\u001b[0;34m,\u001b[0m\u001b[0mx_test\u001b[0m\u001b[0;34m,\u001b[0m\u001b[0my_train\u001b[0m\u001b[0;34m,\u001b[0m\u001b[0my_test\u001b[0m\u001b[0;34m=\u001b[0m\u001b[0mload_data\u001b[0m\u001b[0;34m(\u001b[0m\u001b[0mtest_size\u001b[0m\u001b[0;34m=\u001b[0m\u001b[0;36m0.2\u001b[0m\u001b[0;34m)\u001b[0m\u001b[0;34m\u001b[0m\u001b[0;34m\u001b[0m\u001b[0m\n\u001b[0m",
      "\u001b[0;32m<ipython-input-6-65ff1cc91666>\u001b[0m in \u001b[0;36mload_data\u001b[0;34m(test_size)\u001b[0m\n\u001b[1;32m      8\u001b[0m \u001b[0;34m\u001b[0m\u001b[0m\n\u001b[1;32m      9\u001b[0m         \u001b[0memotion\u001b[0m\u001b[0;34m=\u001b[0m\u001b[0mint\u001b[0m\u001b[0;34m(\u001b[0m\u001b[0mfile_name\u001b[0m\u001b[0;34m.\u001b[0m\u001b[0msplit\u001b[0m\u001b[0;34m(\u001b[0m\u001b[0;34m\"-\"\u001b[0m\u001b[0;34m)\u001b[0m\u001b[0;34m[\u001b[0m\u001b[0;36m2\u001b[0m\u001b[0;34m]\u001b[0m\u001b[0;34m)\u001b[0m\u001b[0;34m-\u001b[0m\u001b[0;36m1\u001b[0m\u001b[0;34m\u001b[0m\u001b[0;34m\u001b[0m\u001b[0m\n\u001b[0;32m---> 10\u001b[0;31m         \u001b[0mfeature\u001b[0m\u001b[0;34m=\u001b[0m\u001b[0mextract_features\u001b[0m\u001b[0;34m(\u001b[0m\u001b[0mfile\u001b[0m\u001b[0;34m,\u001b[0m\u001b[0mnoisy\u001b[0m\u001b[0;34m=\u001b[0m\u001b[0;32mFalse\u001b[0m\u001b[0;34m)\u001b[0m\u001b[0;34m\u001b[0m\u001b[0;34m\u001b[0m\u001b[0m\n\u001b[0m\u001b[1;32m     11\u001b[0m \u001b[0;34m\u001b[0m\u001b[0m\n\u001b[1;32m     12\u001b[0m         \u001b[0mx\u001b[0m\u001b[0;34m.\u001b[0m\u001b[0mappend\u001b[0m\u001b[0;34m(\u001b[0m\u001b[0mfeature\u001b[0m\u001b[0;34m)\u001b[0m\u001b[0;34m\u001b[0m\u001b[0;34m\u001b[0m\u001b[0m\n",
      "\u001b[0;32m<ipython-input-4-70a21c8f4d4c>\u001b[0m in \u001b[0;36mextract_features\u001b[0;34m(file_name, noisy)\u001b[0m\n\u001b[1;32m      3\u001b[0m     \u001b[0msample_rate\u001b[0m \u001b[0;34m=\u001b[0m \u001b[0;36m22050\u001b[0m\u001b[0;34m\u001b[0m\u001b[0;34m\u001b[0m\u001b[0m\n\u001b[1;32m      4\u001b[0m \u001b[0;34m\u001b[0m\u001b[0m\n\u001b[0;32m----> 5\u001b[0;31m     \u001b[0my\u001b[0m\u001b[0;34m,\u001b[0m \u001b[0msr\u001b[0m \u001b[0;34m=\u001b[0m \u001b[0mlibrosa\u001b[0m\u001b[0;34m.\u001b[0m\u001b[0mload\u001b[0m\u001b[0;34m(\u001b[0m\u001b[0mos\u001b[0m\u001b[0;34m.\u001b[0m\u001b[0mpath\u001b[0m\u001b[0;34m.\u001b[0m\u001b[0mjoin\u001b[0m\u001b[0;34m(\u001b[0m\u001b[0mfile_name\u001b[0m\u001b[0;34m)\u001b[0m\u001b[0;34m,\u001b[0m\u001b[0mres_type\u001b[0m\u001b[0;34m=\u001b[0m\u001b[0;34m'kaiser_fast'\u001b[0m\u001b[0;34m)\u001b[0m\u001b[0;34m\u001b[0m\u001b[0;34m\u001b[0m\u001b[0m\n\u001b[0m\u001b[1;32m      6\u001b[0m \u001b[0;34m\u001b[0m\u001b[0m\n\u001b[1;32m      7\u001b[0m     \u001b[0;32mif\u001b[0m \u001b[0mnoisy\u001b[0m\u001b[0;34m:\u001b[0m\u001b[0;34m\u001b[0m\u001b[0;34m\u001b[0m\u001b[0m\n",
      "\u001b[0;32m/usr/local/lib/python3.7/dist-packages/librosa/core/audio.py\u001b[0m in \u001b[0;36mload\u001b[0;34m(path, sr, mono, offset, duration, dtype, res_type)\u001b[0m\n\u001b[1;32m    147\u001b[0m \u001b[0;34m\u001b[0m\u001b[0m\n\u001b[1;32m    148\u001b[0m     \u001b[0;32mtry\u001b[0m\u001b[0;34m:\u001b[0m\u001b[0;34m\u001b[0m\u001b[0;34m\u001b[0m\u001b[0m\n\u001b[0;32m--> 149\u001b[0;31m         \u001b[0;32mwith\u001b[0m \u001b[0msf\u001b[0m\u001b[0;34m.\u001b[0m\u001b[0mSoundFile\u001b[0m\u001b[0;34m(\u001b[0m\u001b[0mpath\u001b[0m\u001b[0;34m)\u001b[0m \u001b[0;32mas\u001b[0m \u001b[0msf_desc\u001b[0m\u001b[0;34m:\u001b[0m\u001b[0;34m\u001b[0m\u001b[0;34m\u001b[0m\u001b[0m\n\u001b[0m\u001b[1;32m    150\u001b[0m             \u001b[0msr_native\u001b[0m \u001b[0;34m=\u001b[0m \u001b[0msf_desc\u001b[0m\u001b[0;34m.\u001b[0m\u001b[0msamplerate\u001b[0m\u001b[0;34m\u001b[0m\u001b[0;34m\u001b[0m\u001b[0m\n\u001b[1;32m    151\u001b[0m             \u001b[0;32mif\u001b[0m \u001b[0moffset\u001b[0m\u001b[0;34m:\u001b[0m\u001b[0;34m\u001b[0m\u001b[0;34m\u001b[0m\u001b[0m\n",
      "\u001b[0;32m/usr/local/lib/python3.7/dist-packages/soundfile.py\u001b[0m in \u001b[0;36m__init__\u001b[0;34m(self, file, mode, samplerate, channels, subtype, endian, format, closefd)\u001b[0m\n\u001b[1;32m    627\u001b[0m         self._info = _create_info_struct(file, mode, samplerate, channels,\n\u001b[1;32m    628\u001b[0m                                          format, subtype, endian)\n\u001b[0;32m--> 629\u001b[0;31m         \u001b[0mself\u001b[0m\u001b[0;34m.\u001b[0m\u001b[0m_file\u001b[0m \u001b[0;34m=\u001b[0m \u001b[0mself\u001b[0m\u001b[0;34m.\u001b[0m\u001b[0m_open\u001b[0m\u001b[0;34m(\u001b[0m\u001b[0mfile\u001b[0m\u001b[0;34m,\u001b[0m \u001b[0mmode_int\u001b[0m\u001b[0;34m,\u001b[0m \u001b[0mclosefd\u001b[0m\u001b[0;34m)\u001b[0m\u001b[0;34m\u001b[0m\u001b[0;34m\u001b[0m\u001b[0m\n\u001b[0m\u001b[1;32m    630\u001b[0m         \u001b[0;32mif\u001b[0m \u001b[0mset\u001b[0m\u001b[0;34m(\u001b[0m\u001b[0mmode\u001b[0m\u001b[0;34m)\u001b[0m\u001b[0;34m.\u001b[0m\u001b[0missuperset\u001b[0m\u001b[0;34m(\u001b[0m\u001b[0;34m'r+'\u001b[0m\u001b[0;34m)\u001b[0m \u001b[0;32mand\u001b[0m \u001b[0mself\u001b[0m\u001b[0;34m.\u001b[0m\u001b[0mseekable\u001b[0m\u001b[0;34m(\u001b[0m\u001b[0;34m)\u001b[0m\u001b[0;34m:\u001b[0m\u001b[0;34m\u001b[0m\u001b[0;34m\u001b[0m\u001b[0m\n\u001b[1;32m    631\u001b[0m             \u001b[0;31m# Move write position to 0 (like in Python file objects)\u001b[0m\u001b[0;34m\u001b[0m\u001b[0;34m\u001b[0m\u001b[0;34m\u001b[0m\u001b[0m\n",
      "\u001b[0;32m/usr/local/lib/python3.7/dist-packages/soundfile.py\u001b[0m in \u001b[0;36m_open\u001b[0;34m(self, file, mode_int, closefd)\u001b[0m\n\u001b[1;32m   1173\u001b[0m                 \u001b[0;32melse\u001b[0m\u001b[0;34m:\u001b[0m\u001b[0;34m\u001b[0m\u001b[0;34m\u001b[0m\u001b[0m\n\u001b[1;32m   1174\u001b[0m                     \u001b[0mfile\u001b[0m \u001b[0;34m=\u001b[0m \u001b[0mfile\u001b[0m\u001b[0;34m.\u001b[0m\u001b[0mencode\u001b[0m\u001b[0;34m(\u001b[0m\u001b[0m_sys\u001b[0m\u001b[0;34m.\u001b[0m\u001b[0mgetfilesystemencoding\u001b[0m\u001b[0;34m(\u001b[0m\u001b[0;34m)\u001b[0m\u001b[0;34m)\u001b[0m\u001b[0;34m\u001b[0m\u001b[0;34m\u001b[0m\u001b[0m\n\u001b[0;32m-> 1175\u001b[0;31m             \u001b[0mfile_ptr\u001b[0m \u001b[0;34m=\u001b[0m \u001b[0mopenfunction\u001b[0m\u001b[0;34m(\u001b[0m\u001b[0mfile\u001b[0m\u001b[0;34m,\u001b[0m \u001b[0mmode_int\u001b[0m\u001b[0;34m,\u001b[0m \u001b[0mself\u001b[0m\u001b[0;34m.\u001b[0m\u001b[0m_info\u001b[0m\u001b[0;34m)\u001b[0m\u001b[0;34m\u001b[0m\u001b[0;34m\u001b[0m\u001b[0m\n\u001b[0m\u001b[1;32m   1176\u001b[0m         \u001b[0;32melif\u001b[0m \u001b[0misinstance\u001b[0m\u001b[0;34m(\u001b[0m\u001b[0mfile\u001b[0m\u001b[0;34m,\u001b[0m \u001b[0mint\u001b[0m\u001b[0;34m)\u001b[0m\u001b[0;34m:\u001b[0m\u001b[0;34m\u001b[0m\u001b[0;34m\u001b[0m\u001b[0m\n\u001b[1;32m   1177\u001b[0m             \u001b[0mfile_ptr\u001b[0m \u001b[0;34m=\u001b[0m \u001b[0m_snd\u001b[0m\u001b[0;34m.\u001b[0m\u001b[0msf_open_fd\u001b[0m\u001b[0;34m(\u001b[0m\u001b[0mfile\u001b[0m\u001b[0;34m,\u001b[0m \u001b[0mmode_int\u001b[0m\u001b[0;34m,\u001b[0m \u001b[0mself\u001b[0m\u001b[0;34m.\u001b[0m\u001b[0m_info\u001b[0m\u001b[0;34m,\u001b[0m \u001b[0mclosefd\u001b[0m\u001b[0;34m)\u001b[0m\u001b[0;34m\u001b[0m\u001b[0;34m\u001b[0m\u001b[0m\n",
      "\u001b[0;31mKeyboardInterrupt\u001b[0m: "
     ]
    }
   ],
   "source": [
    "x_train,x_test,y_train,y_test=load_data(test_size=0.2)"
   ]
  },
  {
   "cell_type": "code",
   "execution_count": null,
   "metadata": {
    "colab": {
     "base_uri": "https://localhost:8080/"
    },
    "id": "U6Vd8dituIaa",
    "outputId": "77669c41-dac7-481d-b6b0-5bd989756dc0"
   },
   "outputs": [
    {
     "name": "stdout",
     "output_type": "stream",
     "text": [
      "(5252, 40)\n"
     ]
    }
   ],
   "source": [
    "import random\n",
    "temp = list(zip(x, y))\n",
    "random.shuffle(temp)\n",
    "x, y = zip(*temp)\n",
    "x = np.array(x)\n",
    "print(x.shape)\n",
    "\n",
    "#mean = np.mean(x_train, axis=0)\n",
    "#std = np.std(x_train, axis=0)\n",
    "\n",
    "\n",
    "#X_train = (x_train - mean)/std\n",
    "#X_test = (x_test - mean)/std"
   ]
  },
  {
   "cell_type": "code",
   "execution_count": null,
   "metadata": {
    "colab": {
     "base_uri": "https://localhost:8080/"
    },
    "id": "F63L8Hy5_WJL",
    "outputId": "1838ca9a-1981-4f66-cab3-3ee176220c9d"
   },
   "outputs": [
    {
     "data": {
      "text/plain": [
       "['/content/drive/MyDrive/Colab Notebooks/FeaturesLabels/Y.joblib']"
      ]
     },
     "execution_count": 13,
     "metadata": {
      "tags": []
     },
     "output_type": "execute_result"
    }
   ],
   "source": [
    "joblib.dump(x, os.path.join(\"/content/drive/MyDrive/Colab Notebooks/FeaturesLabels\", \"X.joblib\"))\n",
    "joblib.dump(y, os.path.join(\"/content/drive/MyDrive/Colab Notebooks/FeaturesLabels\", \"Y.joblib\"))"
   ]
  },
  {
   "cell_type": "code",
   "execution_count": null,
   "metadata": {
    "id": "SNR-hMqEhXa_"
   },
   "outputs": [],
   "source": [
    "import joblib\n",
    "\n",
    "x = joblib.load('/content/drive/MyDrive/Colab Notebooks/FeaturesLabels/X.joblib')\n",
    "y = joblib.load('/content/drive/MyDrive/Colab Notebooks/FeaturesLabels/Y.joblib')"
   ]
  },
  {
   "cell_type": "code",
   "execution_count": null,
   "metadata": {
    "id": "49Y8QUj0q0jD"
   },
   "outputs": [],
   "source": [
    "test_size = 0.2\n",
    "x_train,x_test,y_train,y_test = train_test_split(np.array(x), np.array(y), test_size=test_size, train_size= 1-test_size,random_state=42,shuffle=1)"
   ]
  },
  {
   "cell_type": "code",
   "execution_count": null,
   "metadata": {
    "colab": {
     "base_uri": "https://localhost:8080/"
    },
    "id": "PK-jMJJmrMGX",
    "outputId": "b43be04d-de93-405a-9ab1-847912031f13"
   },
   "outputs": [
    {
     "data": {
      "text/plain": [
       "(4201, 40)"
      ]
     },
     "execution_count": 10,
     "metadata": {
      "tags": []
     },
     "output_type": "execute_result"
    }
   ],
   "source": [
    "x_train.shape"
   ]
  },
  {
   "cell_type": "markdown",
   "metadata": {
    "id": "CzI5J8mruIad"
   },
   "source": [
    "## Decision Tree\n",
    "### -Parametresiz"
   ]
  },
  {
   "cell_type": "code",
   "execution_count": null,
   "metadata": {
    "colab": {
     "base_uri": "https://localhost:8080/"
    },
    "id": "0UiXG1ukuIad",
    "outputId": "368fcb79-5e58-4fcc-ea52-3eb11fe7715c"
   },
   "outputs": [
    {
     "name": "stdout",
     "output_type": "stream",
     "text": [
      "0.698382492863939\n"
     ]
    },
    {
     "data": {
      "text/plain": [
       "(0.6986775653080882, 0.698382492863939, 0.6978077423985058, None)"
      ]
     },
     "execution_count": 12,
     "metadata": {
      "tags": []
     },
     "output_type": "execute_result"
    }
   ],
   "source": [
    "from sklearn.metrics import precision_recall_fscore_support\n",
    "\n",
    "modelDT = DecisionTreeClassifier()\n",
    "modelDT.fit(x_train,y_train)\n",
    "y_pred = modelDT.predict(x_test)\n",
    "\n",
    "print(accuracy_score(y_test, y_pred))\n",
    "precision_recall_fscore_support(y_test,y_pred,average=\"weighted\")"
   ]
  },
  {
   "cell_type": "markdown",
   "metadata": {
    "id": "WzQq_BZuuIae"
   },
   "source": [
    "## KNN ve GridSearchCV"
   ]
  },
  {
   "cell_type": "code",
   "execution_count": null,
   "metadata": {
    "colab": {
     "base_uri": "https://localhost:8080/"
    },
    "id": "0tKk1SHxuIaf",
    "outputId": "d437198c-acff-4a49-af25-49b74e2f582a",
    "scrolled": true
   },
   "outputs": [
    {
     "name": "stdout",
     "output_type": "stream",
     "text": [
      "Fitting 10 folds for each of 18 candidates, totalling 180 fits\n"
     ]
    },
    {
     "name": "stderr",
     "output_type": "stream",
     "text": [
      "[Parallel(n_jobs=-1)]: Using backend LokyBackend with 2 concurrent workers.\n",
      "[Parallel(n_jobs=-1)]: Done  37 tasks      | elapsed:   10.8s\n",
      "[Parallel(n_jobs=-1)]: Done 158 tasks      | elapsed:   53.5s\n",
      "[Parallel(n_jobs=-1)]: Done 180 out of 180 | elapsed:  1.0min finished\n"
     ]
    },
    {
     "data": {
      "text/plain": [
       "GridSearchCV(cv=10, error_score=nan,\n",
       "             estimator=KNeighborsClassifier(algorithm='auto', leaf_size=30,\n",
       "                                            metric='minkowski',\n",
       "                                            metric_params=None, n_jobs=None,\n",
       "                                            n_neighbors=5, p=2,\n",
       "                                            weights='uniform'),\n",
       "             iid='deprecated', n_jobs=-1,\n",
       "             param_grid={'algorithm': ['auto'], 'leaf_size': [2],\n",
       "                         'metric': ['manhattan'],\n",
       "                         'n_neighbors': [10, 20, 30, 40, 50, 60, 70, 80, 90],\n",
       "                         'weights': ['uniform', 'distance']},\n",
       "             pre_dispatch='2*n_jobs', refit=True, return_train_score=False,\n",
       "             scoring=None, verbose=2)"
      ]
     },
     "execution_count": 161,
     "metadata": {
      "tags": []
     },
     "output_type": "execute_result"
    }
   ],
   "source": [
    "# Sonrasında KNN algoritmasını GridSearchCV ile taratarak\n",
    "# algoritma için en iyi parametreleri araştırdık\n",
    "\n",
    "from sklearn.model_selection import GridSearchCV\n",
    "\n",
    "# Aranacak ve diğerleri ile kombinlenecek olan \n",
    "# Hiper parametreleri bir sözlük(dict) veri tipine aktardık \n",
    "grid_params = {\n",
    "    'n_neighbors': [x for x in range(10,100,10)],\n",
    "    'weights': ['uniform','distance'],\n",
    "    'algorithm': ['auto'],\n",
    "    'leaf_size': [2],\n",
    "    'metric': ['manhattan']\n",
    "}\n",
    "\n",
    "# KNN modelimizi GridSearchCV ile oluşturduk ve parametreleri ekledik\n",
    "modelKNN = GridSearchCV(KNeighborsClassifier(), grid_params, cv=10, n_jobs=-1,verbose=2)\n",
    "modelKNN.fit(x_train, y_train)"
   ]
  },
  {
   "cell_type": "code",
   "execution_count": null,
   "metadata": {
    "id": "fOuTotpUuIah"
   },
   "outputs": [],
   "source": [
    "# GridSearchCV bizim için sözlüğümüzdeki\n",
    "# en uygun KNN parametrelerini buldu\n",
    "print(modelKNN.best_score_)\n",
    "print(modelKNN.best_estimator_)\n",
    "print(modelKNN.best_params_)"
   ]
  },
  {
   "cell_type": "markdown",
   "metadata": {
    "id": "RYv2E_ZmuIai"
   },
   "source": [
    "## KNN"
   ]
  },
  {
   "cell_type": "code",
   "execution_count": null,
   "metadata": {
    "colab": {
     "base_uri": "https://localhost:8080/"
    },
    "id": "uDcGtHkruIai",
    "outputId": "2b810cc1-5854-47f0-c973-eb27443d21f5"
   },
   "outputs": [
    {
     "name": "stdout",
     "output_type": "stream",
     "text": [
      "0.8106565176022835\n"
     ]
    },
    {
     "data": {
      "text/plain": [
       "(0.8125310041967058, 0.8106565176022835, 0.8100928034628097, None)"
      ]
     },
     "execution_count": 17,
     "metadata": {
      "tags": []
     },
     "output_type": "execute_result"
    }
   ],
   "source": [
    "modelKNN = KNeighborsClassifier(algorithm='auto', leaf_size=2, metric='manhattan',\n",
    "                     metric_params=None, n_jobs=None, n_neighbors=10, p=2,\n",
    "                     weights='distance')\n",
    "modelKNN.fit(x_train,y_train)\n",
    "\n",
    "y_pred = modelKNN.predict(x_test)\n",
    "\n",
    "print(accuracy_score(y_test, y_pred))\n",
    "precision_recall_fscore_support(y_test,y_pred,average=\"weighted\")"
   ]
  },
  {
   "cell_type": "markdown",
   "metadata": {
    "id": "7D1XhRTMuIaj"
   },
   "source": [
    "## SVM"
   ]
  },
  {
   "cell_type": "code",
   "execution_count": null,
   "metadata": {
    "colab": {
     "base_uri": "https://localhost:8080/"
    },
    "id": "3rMHukxN219-",
    "outputId": "419beb6f-cc6b-4d59-a045-5933d719d967"
   },
   "outputs": [
    {
     "name": "stdout",
     "output_type": "stream",
     "text": [
      "Fitting 10 folds for each of 10 candidates, totalling 100 fits\n",
      "[CV] C=0.1, gamma=0.001, kernel=rbf ..................................\n"
     ]
    },
    {
     "name": "stderr",
     "output_type": "stream",
     "text": [
      "[Parallel(n_jobs=1)]: Using backend SequentialBackend with 1 concurrent workers.\n"
     ]
    },
    {
     "name": "stdout",
     "output_type": "stream",
     "text": [
      "[CV] ...... C=0.1, gamma=0.001, kernel=rbf, score=0.709, total=   2.5s\n",
      "[CV] C=0.1, gamma=0.001, kernel=rbf ..................................\n"
     ]
    },
    {
     "name": "stderr",
     "output_type": "stream",
     "text": [
      "[Parallel(n_jobs=1)]: Done   1 out of   1 | elapsed:    2.5s remaining:    0.0s\n"
     ]
    },
    {
     "name": "stdout",
     "output_type": "stream",
     "text": [
      "[CV] ...... C=0.1, gamma=0.001, kernel=rbf, score=0.675, total=   2.5s\n",
      "[CV] C=0.1, gamma=0.001, kernel=rbf ..................................\n"
     ]
    },
    {
     "name": "stderr",
     "output_type": "stream",
     "text": [
      "[Parallel(n_jobs=1)]: Done   2 out of   2 | elapsed:    5.0s remaining:    0.0s\n"
     ]
    },
    {
     "name": "stdout",
     "output_type": "stream",
     "text": [
      "[CV] ...... C=0.1, gamma=0.001, kernel=rbf, score=0.665, total=   2.5s\n",
      "[CV] C=0.1, gamma=0.001, kernel=rbf ..................................\n",
      "[CV] ...... C=0.1, gamma=0.001, kernel=rbf, score=0.688, total=   2.5s\n",
      "[CV] C=0.1, gamma=0.001, kernel=rbf ..................................\n",
      "[CV] ...... C=0.1, gamma=0.001, kernel=rbf, score=0.690, total=   2.5s\n",
      "[CV] C=0.1, gamma=0.001, kernel=rbf ..................................\n",
      "[CV] ...... C=0.1, gamma=0.001, kernel=rbf, score=0.688, total=   2.5s\n",
      "[CV] C=0.1, gamma=0.001, kernel=rbf ..................................\n",
      "[CV] ...... C=0.1, gamma=0.001, kernel=rbf, score=0.695, total=   2.4s\n",
      "[CV] C=0.1, gamma=0.001, kernel=rbf ..................................\n",
      "[CV] ...... C=0.1, gamma=0.001, kernel=rbf, score=0.686, total=   2.5s\n",
      "[CV] C=0.1, gamma=0.001, kernel=rbf ..................................\n",
      "[CV] ...... C=0.1, gamma=0.001, kernel=rbf, score=0.682, total=   2.5s\n",
      "[CV] C=0.1, gamma=0.001, kernel=rbf ..................................\n",
      "[CV] ...... C=0.1, gamma=0.001, kernel=rbf, score=0.690, total=   2.5s\n",
      "[CV] C=0.1, gamma=0.0001, kernel=rbf .................................\n",
      "[CV] ..... C=0.1, gamma=0.0001, kernel=rbf, score=0.658, total=   1.9s\n",
      "[CV] C=0.1, gamma=0.0001, kernel=rbf .................................\n",
      "[CV] ..... C=0.1, gamma=0.0001, kernel=rbf, score=0.652, total=   1.8s\n",
      "[CV] C=0.1, gamma=0.0001, kernel=rbf .................................\n",
      "[CV] ..... C=0.1, gamma=0.0001, kernel=rbf, score=0.613, total=   1.9s\n",
      "[CV] C=0.1, gamma=0.0001, kernel=rbf .................................\n",
      "[CV] ..... C=0.1, gamma=0.0001, kernel=rbf, score=0.651, total=   1.9s\n",
      "[CV] C=0.1, gamma=0.0001, kernel=rbf .................................\n",
      "[CV] ..... C=0.1, gamma=0.0001, kernel=rbf, score=0.651, total=   1.9s\n",
      "[CV] C=0.1, gamma=0.0001, kernel=rbf .................................\n",
      "[CV] ..... C=0.1, gamma=0.0001, kernel=rbf, score=0.663, total=   1.9s\n",
      "[CV] C=0.1, gamma=0.0001, kernel=rbf .................................\n",
      "[CV] ..... C=0.1, gamma=0.0001, kernel=rbf, score=0.661, total=   1.9s\n",
      "[CV] C=0.1, gamma=0.0001, kernel=rbf .................................\n",
      "[CV] ..... C=0.1, gamma=0.0001, kernel=rbf, score=0.636, total=   1.9s\n",
      "[CV] C=0.1, gamma=0.0001, kernel=rbf .................................\n",
      "[CV] ..... C=0.1, gamma=0.0001, kernel=rbf, score=0.659, total=   1.9s\n",
      "[CV] C=0.1, gamma=0.0001, kernel=rbf .................................\n",
      "[CV] ..... C=0.1, gamma=0.0001, kernel=rbf, score=0.661, total=   1.9s\n",
      "[CV] C=1, gamma=0.001, kernel=rbf ....................................\n",
      "[CV] ........ C=1, gamma=0.001, kernel=rbf, score=0.850, total=   1.9s\n",
      "[CV] C=1, gamma=0.001, kernel=rbf ....................................\n",
      "[CV] ........ C=1, gamma=0.001, kernel=rbf, score=0.816, total=   1.9s\n",
      "[CV] C=1, gamma=0.001, kernel=rbf ....................................\n",
      "[CV] ........ C=1, gamma=0.001, kernel=rbf, score=0.796, total=   1.9s\n",
      "[CV] C=1, gamma=0.001, kernel=rbf ....................................\n",
      "[CV] ........ C=1, gamma=0.001, kernel=rbf, score=0.838, total=   1.9s\n",
      "[CV] C=1, gamma=0.001, kernel=rbf ....................................\n",
      "[CV] ........ C=1, gamma=0.001, kernel=rbf, score=0.829, total=   1.9s\n",
      "[CV] C=1, gamma=0.001, kernel=rbf ....................................\n",
      "[CV] ........ C=1, gamma=0.001, kernel=rbf, score=0.819, total=   1.9s\n",
      "[CV] C=1, gamma=0.001, kernel=rbf ....................................\n",
      "[CV] ........ C=1, gamma=0.001, kernel=rbf, score=0.815, total=   1.9s\n",
      "[CV] C=1, gamma=0.001, kernel=rbf ....................................\n",
      "[CV] ........ C=1, gamma=0.001, kernel=rbf, score=0.811, total=   1.9s\n",
      "[CV] C=1, gamma=0.001, kernel=rbf ....................................\n",
      "[CV] ........ C=1, gamma=0.001, kernel=rbf, score=0.802, total=   1.9s\n",
      "[CV] C=1, gamma=0.001, kernel=rbf ....................................\n",
      "[CV] ........ C=1, gamma=0.001, kernel=rbf, score=0.840, total=   1.9s\n",
      "[CV] C=1, gamma=0.0001, kernel=rbf ...................................\n",
      "[CV] ....... C=1, gamma=0.0001, kernel=rbf, score=0.772, total=   1.3s\n",
      "[CV] C=1, gamma=0.0001, kernel=rbf ...................................\n",
      "[CV] ....... C=1, gamma=0.0001, kernel=rbf, score=0.759, total=   1.3s\n",
      "[CV] C=1, gamma=0.0001, kernel=rbf ...................................\n",
      "[CV] ....... C=1, gamma=0.0001, kernel=rbf, score=0.735, total=   1.3s\n",
      "[CV] C=1, gamma=0.0001, kernel=rbf ...................................\n",
      "[CV] ....... C=1, gamma=0.0001, kernel=rbf, score=0.792, total=   1.3s\n",
      "[CV] C=1, gamma=0.0001, kernel=rbf ...................................\n",
      "[CV] ....... C=1, gamma=0.0001, kernel=rbf, score=0.766, total=   1.3s\n",
      "[CV] C=1, gamma=0.0001, kernel=rbf ...................................\n",
      "[CV] ....... C=1, gamma=0.0001, kernel=rbf, score=0.770, total=   1.3s\n",
      "[CV] C=1, gamma=0.0001, kernel=rbf ...................................\n",
      "[CV] ....... C=1, gamma=0.0001, kernel=rbf, score=0.775, total=   1.3s\n",
      "[CV] C=1, gamma=0.0001, kernel=rbf ...................................\n",
      "[CV] ....... C=1, gamma=0.0001, kernel=rbf, score=0.745, total=   1.3s\n",
      "[CV] C=1, gamma=0.0001, kernel=rbf ...................................\n",
      "[CV] ....... C=1, gamma=0.0001, kernel=rbf, score=0.768, total=   1.2s\n",
      "[CV] C=1, gamma=0.0001, kernel=rbf ...................................\n",
      "[CV] ....... C=1, gamma=0.0001, kernel=rbf, score=0.758, total=   1.3s\n",
      "[CV] C=10, gamma=0.001, kernel=rbf ...................................\n",
      "[CV] ....... C=10, gamma=0.001, kernel=rbf, score=0.882, total=   2.0s\n",
      "[CV] C=10, gamma=0.001, kernel=rbf ...................................\n",
      "[CV] ....... C=10, gamma=0.001, kernel=rbf, score=0.844, total=   1.9s\n",
      "[CV] C=10, gamma=0.001, kernel=rbf ...................................\n",
      "[CV] ....... C=10, gamma=0.001, kernel=rbf, score=0.840, total=   1.9s\n",
      "[CV] C=10, gamma=0.001, kernel=rbf ...................................\n",
      "[CV] ....... C=10, gamma=0.001, kernel=rbf, score=0.891, total=   2.0s\n",
      "[CV] C=10, gamma=0.001, kernel=rbf ...................................\n",
      "[CV] ....... C=10, gamma=0.001, kernel=rbf, score=0.865, total=   2.0s\n",
      "[CV] C=10, gamma=0.001, kernel=rbf ...................................\n",
      "[CV] ....... C=10, gamma=0.001, kernel=rbf, score=0.846, total=   2.0s\n",
      "[CV] C=10, gamma=0.001, kernel=rbf ...................................\n",
      "[CV] ....... C=10, gamma=0.001, kernel=rbf, score=0.869, total=   1.9s\n",
      "[CV] C=10, gamma=0.001, kernel=rbf ...................................\n",
      "[CV] ....... C=10, gamma=0.001, kernel=rbf, score=0.865, total=   2.0s\n",
      "[CV] C=10, gamma=0.001, kernel=rbf ...................................\n",
      "[CV] ....... C=10, gamma=0.001, kernel=rbf, score=0.859, total=   2.0s\n",
      "[CV] C=10, gamma=0.001, kernel=rbf ...................................\n",
      "[CV] ....... C=10, gamma=0.001, kernel=rbf, score=0.886, total=   2.0s\n",
      "[CV] C=10, gamma=0.0001, kernel=rbf ..................................\n",
      "[CV] ...... C=10, gamma=0.0001, kernel=rbf, score=0.835, total=   1.0s\n",
      "[CV] C=10, gamma=0.0001, kernel=rbf ..................................\n",
      "[CV] ...... C=10, gamma=0.0001, kernel=rbf, score=0.816, total=   1.0s\n",
      "[CV] C=10, gamma=0.0001, kernel=rbf ..................................\n",
      "[CV] ...... C=10, gamma=0.0001, kernel=rbf, score=0.794, total=   1.0s\n",
      "[CV] C=10, gamma=0.0001, kernel=rbf ..................................\n",
      "[CV] ...... C=10, gamma=0.0001, kernel=rbf, score=0.838, total=   1.0s\n",
      "[CV] C=10, gamma=0.0001, kernel=rbf ..................................\n",
      "[CV] ...... C=10, gamma=0.0001, kernel=rbf, score=0.836, total=   1.1s\n",
      "[CV] C=10, gamma=0.0001, kernel=rbf ..................................\n",
      "[CV] ...... C=10, gamma=0.0001, kernel=rbf, score=0.808, total=   1.0s\n",
      "[CV] C=10, gamma=0.0001, kernel=rbf ..................................\n",
      "[CV] ...... C=10, gamma=0.0001, kernel=rbf, score=0.829, total=   1.0s\n",
      "[CV] C=10, gamma=0.0001, kernel=rbf ..................................\n",
      "[CV] ...... C=10, gamma=0.0001, kernel=rbf, score=0.810, total=   1.1s\n",
      "[CV] C=10, gamma=0.0001, kernel=rbf ..................................\n",
      "[CV] ...... C=10, gamma=0.0001, kernel=rbf, score=0.829, total=   1.0s\n",
      "[CV] C=10, gamma=0.0001, kernel=rbf ..................................\n",
      "[CV] ...... C=10, gamma=0.0001, kernel=rbf, score=0.840, total=   1.0s\n",
      "[CV] C=100, gamma=0.001, kernel=rbf ..................................\n",
      "[CV] ...... C=100, gamma=0.001, kernel=rbf, score=0.884, total=   2.0s\n",
      "[CV] C=100, gamma=0.001, kernel=rbf ..................................\n",
      "[CV] ...... C=100, gamma=0.001, kernel=rbf, score=0.840, total=   1.9s\n",
      "[CV] C=100, gamma=0.001, kernel=rbf ..................................\n",
      "[CV] ...... C=100, gamma=0.001, kernel=rbf, score=0.840, total=   2.0s\n",
      "[CV] C=100, gamma=0.001, kernel=rbf ..................................\n",
      "[CV] ...... C=100, gamma=0.001, kernel=rbf, score=0.891, total=   2.0s\n",
      "[CV] C=100, gamma=0.001, kernel=rbf ..................................\n",
      "[CV] ...... C=100, gamma=0.001, kernel=rbf, score=0.861, total=   2.0s\n",
      "[CV] C=100, gamma=0.001, kernel=rbf ..................................\n",
      "[CV] ...... C=100, gamma=0.001, kernel=rbf, score=0.853, total=   2.0s\n",
      "[CV] C=100, gamma=0.001, kernel=rbf ..................................\n",
      "[CV] ...... C=100, gamma=0.001, kernel=rbf, score=0.874, total=   2.0s\n",
      "[CV] C=100, gamma=0.001, kernel=rbf ..................................\n",
      "[CV] ...... C=100, gamma=0.001, kernel=rbf, score=0.863, total=   2.0s\n",
      "[CV] C=100, gamma=0.001, kernel=rbf ..................................\n",
      "[CV] ...... C=100, gamma=0.001, kernel=rbf, score=0.855, total=   2.0s\n",
      "[CV] C=100, gamma=0.001, kernel=rbf ..................................\n",
      "[CV] ...... C=100, gamma=0.001, kernel=rbf, score=0.886, total=   2.0s\n",
      "[CV] C=100, gamma=0.0001, kernel=rbf .................................\n",
      "[CV] ..... C=100, gamma=0.0001, kernel=rbf, score=0.905, total=   1.1s\n",
      "[CV] C=100, gamma=0.0001, kernel=rbf .................................\n",
      "[CV] ..... C=100, gamma=0.0001, kernel=rbf, score=0.819, total=   1.1s\n",
      "[CV] C=100, gamma=0.0001, kernel=rbf .................................\n",
      "[CV] ..... C=100, gamma=0.0001, kernel=rbf, score=0.827, total=   1.1s\n",
      "[CV] C=100, gamma=0.0001, kernel=rbf .................................\n",
      "[CV] ..... C=100, gamma=0.0001, kernel=rbf, score=0.857, total=   1.1s\n",
      "[CV] C=100, gamma=0.0001, kernel=rbf .................................\n",
      "[CV] ..... C=100, gamma=0.0001, kernel=rbf, score=0.874, total=   1.1s\n",
      "[CV] C=100, gamma=0.0001, kernel=rbf .................................\n",
      "[CV] ..... C=100, gamma=0.0001, kernel=rbf, score=0.838, total=   1.1s\n",
      "[CV] C=100, gamma=0.0001, kernel=rbf .................................\n",
      "[CV] ..... C=100, gamma=0.0001, kernel=rbf, score=0.865, total=   1.1s\n",
      "[CV] C=100, gamma=0.0001, kernel=rbf .................................\n",
      "[CV] ..... C=100, gamma=0.0001, kernel=rbf, score=0.848, total=   1.1s\n",
      "[CV] C=100, gamma=0.0001, kernel=rbf .................................\n",
      "[CV] ..... C=100, gamma=0.0001, kernel=rbf, score=0.821, total=   1.1s\n",
      "[CV] C=100, gamma=0.0001, kernel=rbf .................................\n",
      "[CV] ..... C=100, gamma=0.0001, kernel=rbf, score=0.872, total=   1.1s\n",
      "[CV] C=1000, gamma=0.001, kernel=rbf .................................\n",
      "[CV] ..... C=1000, gamma=0.001, kernel=rbf, score=0.884, total=   2.1s\n",
      "[CV] C=1000, gamma=0.001, kernel=rbf .................................\n",
      "[CV] ..... C=1000, gamma=0.001, kernel=rbf, score=0.840, total=   2.0s\n",
      "[CV] C=1000, gamma=0.001, kernel=rbf .................................\n",
      "[CV] ..... C=1000, gamma=0.001, kernel=rbf, score=0.840, total=   2.0s\n",
      "[CV] C=1000, gamma=0.001, kernel=rbf .................................\n",
      "[CV] ..... C=1000, gamma=0.001, kernel=rbf, score=0.891, total=   2.0s\n",
      "[CV] C=1000, gamma=0.001, kernel=rbf .................................\n",
      "[CV] ..... C=1000, gamma=0.001, kernel=rbf, score=0.861, total=   2.0s\n",
      "[CV] C=1000, gamma=0.001, kernel=rbf .................................\n",
      "[CV] ..... C=1000, gamma=0.001, kernel=rbf, score=0.853, total=   2.0s\n",
      "[CV] C=1000, gamma=0.001, kernel=rbf .................................\n",
      "[CV] ..... C=1000, gamma=0.001, kernel=rbf, score=0.874, total=   2.0s\n",
      "[CV] C=1000, gamma=0.001, kernel=rbf .................................\n",
      "[CV] ..... C=1000, gamma=0.001, kernel=rbf, score=0.863, total=   2.0s\n",
      "[CV] C=1000, gamma=0.001, kernel=rbf .................................\n",
      "[CV] ..... C=1000, gamma=0.001, kernel=rbf, score=0.855, total=   2.0s\n",
      "[CV] C=1000, gamma=0.001, kernel=rbf .................................\n",
      "[CV] ..... C=1000, gamma=0.001, kernel=rbf, score=0.886, total=   2.0s\n",
      "[CV] C=1000, gamma=0.0001, kernel=rbf ................................\n",
      "[CV] .... C=1000, gamma=0.0001, kernel=rbf, score=0.876, total=   1.3s\n",
      "[CV] C=1000, gamma=0.0001, kernel=rbf ................................\n",
      "[CV] .... C=1000, gamma=0.0001, kernel=rbf, score=0.804, total=   1.3s\n",
      "[CV] C=1000, gamma=0.0001, kernel=rbf ................................\n",
      "[CV] .... C=1000, gamma=0.0001, kernel=rbf, score=0.821, total=   1.3s\n",
      "[CV] C=1000, gamma=0.0001, kernel=rbf ................................\n",
      "[CV] .... C=1000, gamma=0.0001, kernel=rbf, score=0.859, total=   1.3s\n",
      "[CV] C=1000, gamma=0.0001, kernel=rbf ................................\n",
      "[CV] .... C=1000, gamma=0.0001, kernel=rbf, score=0.863, total=   1.3s\n",
      "[CV] C=1000, gamma=0.0001, kernel=rbf ................................\n",
      "[CV] .... C=1000, gamma=0.0001, kernel=rbf, score=0.838, total=   1.4s\n",
      "[CV] C=1000, gamma=0.0001, kernel=rbf ................................\n",
      "[CV] .... C=1000, gamma=0.0001, kernel=rbf, score=0.863, total=   1.3s\n",
      "[CV] C=1000, gamma=0.0001, kernel=rbf ................................\n",
      "[CV] .... C=1000, gamma=0.0001, kernel=rbf, score=0.853, total=   1.3s\n",
      "[CV] C=1000, gamma=0.0001, kernel=rbf ................................\n",
      "[CV] .... C=1000, gamma=0.0001, kernel=rbf, score=0.838, total=   1.3s\n",
      "[CV] C=1000, gamma=0.0001, kernel=rbf ................................\n",
      "[CV] .... C=1000, gamma=0.0001, kernel=rbf, score=0.859, total=   1.4s\n"
     ]
    },
    {
     "name": "stderr",
     "output_type": "stream",
     "text": [
      "[Parallel(n_jobs=1)]: Done 100 out of 100 | elapsed:  2.8min finished\n"
     ]
    },
    {
     "data": {
      "text/plain": [
       "GridSearchCV(cv=10, error_score=nan,\n",
       "             estimator=SVC(C=1.0, break_ties=False, cache_size=200,\n",
       "                           class_weight=None, coef0=0.0,\n",
       "                           decision_function_shape='ovr', degree=3,\n",
       "                           gamma='scale', kernel='rbf', max_iter=-1,\n",
       "                           probability=False, random_state=None, shrinking=True,\n",
       "                           tol=0.001, verbose=False),\n",
       "             iid='deprecated', n_jobs=None,\n",
       "             param_grid={'C': [0.1, 1, 10, 100, 1000], 'gamma': [0.001, 0.0001],\n",
       "                         'kernel': ['rbf']},\n",
       "             pre_dispatch='2*n_jobs', refit=True, return_train_score=False,\n",
       "             scoring=None, verbose=3)"
      ]
     },
     "execution_count": 170,
     "metadata": {
      "tags": []
     },
     "output_type": "execute_result"
    }
   ],
   "source": [
    "from sklearn.svm import SVC\n",
    "\n",
    "param_grid = {'C': [0.1, 1, 10, 100, 1000], \n",
    "              'gamma': [0.001, 0.0001],\n",
    "              'kernel': ['rbf']} \n",
    "grid = GridSearchCV(SVC(), param_grid, refit = True, verbose = 3,cv=10)\n",
    "grid.fit(x, y)"
   ]
  },
  {
   "cell_type": "code",
   "execution_count": null,
   "metadata": {
    "id": "GOUER-R73Lnw"
   },
   "outputs": [],
   "source": [
    "print(grid.best_score_)\n",
    "print(grid.best_estimator_)\n",
    "print(grid.best_params_)"
   ]
  },
  {
   "cell_type": "code",
   "execution_count": null,
   "metadata": {
    "colab": {
     "base_uri": "https://localhost:8080/"
    },
    "id": "cTp0oJTnuIaj",
    "outputId": "59fbcbbb-3d44-4136-88a7-582a1f3f0010"
   },
   "outputs": [
    {
     "name": "stdout",
     "output_type": "stream",
     "text": [
      "0.8553758325404377\n"
     ]
    },
    {
     "data": {
      "text/plain": [
       "(0.8566405126421588, 0.8553758325404377, 0.8555071520669754, None)"
      ]
     },
     "execution_count": 95,
     "metadata": {
      "tags": []
     },
     "output_type": "execute_result"
    }
   ],
   "source": [
    "from sklearn.svm import SVC\n",
    "\n",
    "svclassifier = SVC(gamma = 0.001 ,C = 100,kernel='rbf')\n",
    "svclassifier.fit(x_train,y_train)\n",
    "y_pred = svclassifier.predict(x_test)\n",
    "\n",
    "print(accuracy_score(y_test, y_pred))\n",
    "precision_recall_fscore_support(y_test,y_pred,average=\"weighted\")"
   ]
  },
  {
   "cell_type": "markdown",
   "metadata": {
    "id": "HWCC22luuIak"
   },
   "source": [
    "## MLP"
   ]
  },
  {
   "cell_type": "code",
   "execution_count": null,
   "metadata": {
    "colab": {
     "base_uri": "https://localhost:8080/"
    },
    "id": "JASCmjfA6t35",
    "outputId": "25f3d347-0e82-4833-f3f4-4c9067deb6a9"
   },
   "outputs": [
    {
     "name": "stdout",
     "output_type": "stream",
     "text": [
      "{'activation': 'tanh', 'alpha': 0.05, 'hidden_layer_sizes': (2000,), 'learning_rate': 'adaptive', 'solver': 'adam'}\n",
      "0.8388451532632054\n"
     ]
    }
   ],
   "source": [
    "parameter_space = {\n",
    "    'hidden_layer_sizes': [(200,),(500,),(1000,),(2000,)],\n",
    "    'activation': ['tanh', 'relu'],\n",
    "    'solver': ['adam'],\n",
    "    'alpha': [0.05],\n",
    "    'learning_rate': ['adaptive'],\n",
    "}\n",
    "\n",
    "mlp_gs = MLPClassifier(max_iter=2000)\n",
    "\n",
    "clf = GridSearchCV(mlp_gs, parameter_space, n_jobs=-1, cv=10)\n",
    "clf.fit(x_train, y_train)\n",
    "\n",
    "print(clf.best_params_)\n",
    "print(clf.best_score_)"
   ]
  },
  {
   "cell_type": "code",
   "execution_count": null,
   "metadata": {
    "colab": {
     "base_uri": "https://localhost:8080/"
    },
    "id": "D3pdH9_R7ED5",
    "outputId": "38ba5415-8071-4121-96e3-f8e19e40db4e"
   },
   "outputs": [
    {
     "name": "stdout",
     "output_type": "stream",
     "text": [
      "{'activation': 'tanh', 'alpha': 0.05, 'hidden_layer_sizes': (2000,), 'learning_rate': 'adaptive', 'solver': 'adam'}\n"
     ]
    },
    {
     "data": {
      "text/plain": [
       "0.8388451532632054"
      ]
     },
     "execution_count": 24,
     "metadata": {
      "tags": []
     },
     "output_type": "execute_result"
    }
   ],
   "source": [
    "print(clf.best_params_)\n",
    "clf.best_score_"
   ]
  },
  {
   "cell_type": "code",
   "execution_count": null,
   "metadata": {
    "colab": {
     "base_uri": "https://localhost:8080/"
    },
    "id": "BT-Bgn_CuIak",
    "outputId": "c89edadd-dc80-43d6-93c7-464ae6ba78d0"
   },
   "outputs": [
    {
     "name": "stdout",
     "output_type": "stream",
     "text": [
      "0.7145575642245481\n"
     ]
    },
    {
     "data": {
      "text/plain": [
       "(0.7686000206505497, 0.7459562321598477, 0.7494984575859066, None)"
      ]
     },
     "execution_count": 25,
     "metadata": {
      "tags": []
     },
     "output_type": "execute_result"
    }
   ],
   "source": [
    "modelMLP=MLPClassifier(hidden_layer_sizes=(2000,), learning_rate='adaptive', max_iter=2000,activation='tanh',alpha=0.05,solver='adam')\n",
    "\n",
    "modelMLP.fit(x_train,y_train)\n",
    "\n",
    "print(accuracy_score(y_test, y_pred))\n",
    "y_pred = modelMLP.predict(x_test)\n",
    "precision_recall_fscore_support(y_test,y_pred,average=\"weighted\")"
   ]
  },
  {
   "cell_type": "code",
   "execution_count": null,
   "metadata": {
    "id": "Wi_aaX7CuIal"
   },
   "outputs": [],
   "source": [
    "# Burada hangi duyguların hangi başarı skorlarına sahip olduklarını\n",
    "# Yani modelimizin hangi duygularda daha başarılı olduğunu anlıyoruz\n",
    "\n",
    "print(classification_report(y_test,y_pred))"
   ]
  },
  {
   "cell_type": "markdown",
   "metadata": {
    "id": "IVVW2KlOuIao"
   },
   "source": [
    "## Random Forest"
   ]
  },
  {
   "cell_type": "code",
   "execution_count": null,
   "metadata": {
    "colab": {
     "base_uri": "https://localhost:8080/"
    },
    "id": "VutANNrQLFUk",
    "outputId": "d26e5387-3eee-4d4b-a7af-c2d1ba2d2224"
   },
   "outputs": [
    {
     "name": "stdout",
     "output_type": "stream",
     "text": [
      "{'n_estimators': [20, 140, 260, 380, 500], 'max_features': ['auto', 'sqrt'], 'max_depth': [10, 43, 76, 110, None], 'min_samples_split': [2, 5, 10], 'min_samples_leaf': [1, 2, 4]}\n"
     ]
    }
   ],
   "source": [
    "# Number of trees in random forest\n",
    "n_estimators = [int(x) for x in np.linspace(start = 20, stop = 500, num = 5)]\n",
    "# Number of features to consider at every split\n",
    "max_features = ['auto', 'sqrt']\n",
    "# Maximum number of levels in tree\n",
    "max_depth = [int(x) for x in np.linspace(10, 110, num = 4)]\n",
    "max_depth.append(None)\n",
    "# Minimum number of samples required to split a node\n",
    "min_samples_split = [2, 5, 10]\n",
    "# Minimum number of samples required at each leaf node\n",
    "min_samples_leaf = [1, 2, 4]\n",
    "# Create the random grid\n",
    "random_grid = {'n_estimators': n_estimators,\n",
    "               'max_features': max_features,\n",
    "               'max_depth': max_depth,\n",
    "               'min_samples_split': min_samples_split,\n",
    "               'min_samples_leaf': min_samples_leaf,}\n",
    "print(random_grid)"
   ]
  },
  {
   "cell_type": "code",
   "execution_count": null,
   "metadata": {
    "colab": {
     "base_uri": "https://localhost:8080/"
    },
    "id": "VHwn3MsaLM7Y",
    "outputId": "cbacd499-fc5d-4809-ae8f-0d6ebe3eabd9"
   },
   "outputs": [
    {
     "name": "stdout",
     "output_type": "stream",
     "text": [
      "Fitting 10 folds for each of 10 candidates, totalling 100 fits\n"
     ]
    },
    {
     "name": "stderr",
     "output_type": "stream",
     "text": [
      "[Parallel(n_jobs=-1)]: Using backend LokyBackend with 2 concurrent workers.\n",
      "[Parallel(n_jobs=-1)]: Done  37 tasks      | elapsed:  2.9min\n",
      "[Parallel(n_jobs=-1)]: Done 100 out of 100 | elapsed:  6.1min finished\n"
     ]
    },
    {
     "data": {
      "text/plain": [
       "RandomizedSearchCV(cv=10, error_score=nan,\n",
       "                   estimator=RandomForestClassifier(bootstrap=True,\n",
       "                                                    ccp_alpha=0.0,\n",
       "                                                    class_weight=None,\n",
       "                                                    criterion='gini',\n",
       "                                                    max_depth=None,\n",
       "                                                    max_features='auto',\n",
       "                                                    max_leaf_nodes=None,\n",
       "                                                    max_samples=None,\n",
       "                                                    min_impurity_decrease=0.0,\n",
       "                                                    min_impurity_split=None,\n",
       "                                                    min_samples_leaf=1,\n",
       "                                                    min_samples_split=2,\n",
       "                                                    min_weight_fraction_leaf=0.0,\n",
       "                                                    n_estimators=100,\n",
       "                                                    n_job...\n",
       "                                                    random_state=42, verbose=0,\n",
       "                                                    warm_start=False),\n",
       "                   iid='deprecated', n_iter=10, n_jobs=-1,\n",
       "                   param_distributions={'max_depth': [10, 43, 76, 110, None],\n",
       "                                        'max_features': ['auto', 'sqrt'],\n",
       "                                        'min_samples_leaf': [1, 2, 4],\n",
       "                                        'min_samples_split': [2, 5, 10],\n",
       "                                        'n_estimators': [20, 140, 260, 380,\n",
       "                                                         500]},\n",
       "                   pre_dispatch='2*n_jobs', random_state=42, refit=True,\n",
       "                   return_train_score=False, scoring=None, verbose=2)"
      ]
     },
     "execution_count": 200,
     "metadata": {
      "tags": []
     },
     "output_type": "execute_result"
    }
   ],
   "source": [
    "from sklearn.model_selection import RandomizedSearchCV\n",
    "\n",
    "rf = RandomForestClassifier(random_state=42)\n",
    "\n",
    "rf_random = RandomizedSearchCV(estimator = rf, param_distributions = random_grid, n_iter = 10, cv = 10, verbose=2, random_state=42, n_jobs = -1)\n",
    "# Fit the random search model\n",
    "rf_random.fit(x, y)"
   ]
  },
  {
   "cell_type": "code",
   "execution_count": null,
   "metadata": {
    "colab": {
     "base_uri": "https://localhost:8080/"
    },
    "id": "JKD9JuzYPyZZ",
    "outputId": "7dbd2ad0-d957-4e3c-b77e-d3813ceba34a"
   },
   "outputs": [
    {
     "name": "stdout",
     "output_type": "stream",
     "text": [
      "{'n_estimators': 260, 'min_samples_split': 2, 'min_samples_leaf': 1, 'max_features': 'sqrt', 'max_depth': None}\n",
      "0.8389176172370089\n"
     ]
    }
   ],
   "source": [
    "print(rf_random.best_params_)\n",
    "print(rf_random.best_score_)"
   ]
  },
  {
   "cell_type": "code",
   "execution_count": null,
   "metadata": {
    "colab": {
     "base_uri": "https://localhost:8080/"
    },
    "id": "Mkn-Lor5uIap",
    "outputId": "87f91733-3fbb-4c91-fa1b-5bbc20eab402"
   },
   "outputs": [
    {
     "name": "stdout",
     "output_type": "stream",
     "text": [
      "0.8372978116079924\n"
     ]
    },
    {
     "data": {
      "text/plain": [
       "(0.8473228501692681, 0.8372978116079924, 0.8384170949266735, None)"
      ]
     },
     "execution_count": 96,
     "metadata": {
      "tags": []
     },
     "output_type": "execute_result"
    }
   ],
   "source": [
    "modelRF = RandomForestClassifier(n_estimators = 260,min_samples_split=2,min_samples_leaf=1,max_features=\"sqrt\",max_depth=None,random_state=42)\n",
    "modelRF.fit(x_train,y_train)\n",
    "y_pred = modelRF.predict(x_test)\n",
    "\n",
    "print(accuracy_score(y_test, y_pred))\n",
    "precision_recall_fscore_support(y_test,y_pred,average=\"weighted\")"
   ]
  },
  {
   "cell_type": "markdown",
   "metadata": {},
   "source": [
    "## Derin Öğrenme Teknikleri"
   ]
  },
  {
   "cell_type": "markdown",
   "metadata": {},
   "source": [
    "### LSTM"
   ]
  },
  {
   "cell_type": "code",
   "execution_count": null,
   "metadata": {
    "colab": {
     "base_uri": "https://localhost:8080/"
    },
    "id": "DnKgwU1_uIaq",
    "outputId": "1929400e-8932-4a34-f90a-2bf1d26335a4"
   },
   "outputs": [
    {
     "data": {
      "text/plain": [
       "(40, 1)"
      ]
     },
     "execution_count": 13,
     "metadata": {
      "tags": []
     },
     "output_type": "execute_result"
    }
   ],
   "source": [
    "# Yeni boyutlarımız aşağıdaki gibidir \n",
    "x_traincnn = np.expand_dims(x_train , axis = 2)\n",
    "x_testcnn = np.expand_dims(x_test , axis = 2)\n",
    "\n",
    "x_traincnn.shape[1:]"
   ]
  },
  {
   "cell_type": "code",
   "execution_count": null,
   "metadata": {
    "id": "0RfjENZ3uIaq"
   },
   "outputs": [],
   "source": [
    "# CNN için gerekli olan keras kütüphanesinden\n",
    "# ihtiyacımız olanları projemize dahil ediyoruz\n",
    "import keras\n",
    "import tensorflow\n",
    "from keras.models import Sequential\n",
    "from keras.layers import Conv1D,MaxPooling1D,AveragePooling1D,Dense,BatchNormalization\n",
    "from keras.layers import Flatten,Dropout,Activation,LSTM,TimeDistributed,ReLU\n",
    "from keras.models import Model\n",
    "from keras.applications.vgg16 import VGG16\n",
    "from keras import optimizers\n",
    "from keras.callbacks import  History, ReduceLROnPlateau, ModelCheckpoint\n",
    "from keras.utils.vis_utils import plot_model"
   ]
  },
  {
   "cell_type": "code",
   "execution_count": null,
   "metadata": {
    "colab": {
     "base_uri": "https://localhost:8080/"
    },
    "id": "Ku8bEdsZt2tx",
    "outputId": "e37c0a7c-888a-4b16-98c8-14eee1efe753"
   },
   "outputs": [
    {
     "name": "stdout",
     "output_type": "stream",
     "text": [
      "Epoch 1/500\n",
      "132/132 [==============================] - 5s 16ms/step - loss: 2.0839 - accuracy: 0.1160 - val_loss: 2.0623 - val_accuracy: 0.1323\n",
      "Epoch 2/500\n",
      "132/132 [==============================] - 1s 10ms/step - loss: 2.0504 - accuracy: 0.1640 - val_loss: 2.0409 - val_accuracy: 0.1551\n",
      "Epoch 3/500\n",
      "132/132 [==============================] - 1s 9ms/step - loss: 2.0261 - accuracy: 0.1895 - val_loss: 2.0222 - val_accuracy: 0.1694\n",
      "Epoch 4/500\n",
      "132/132 [==============================] - 1s 9ms/step - loss: 2.0057 - accuracy: 0.2028 - val_loss: 2.0027 - val_accuracy: 0.1931\n",
      "Epoch 5/500\n",
      "132/132 [==============================] - 1s 9ms/step - loss: 1.9767 - accuracy: 0.2301 - val_loss: 1.9812 - val_accuracy: 0.2293\n",
      "Epoch 6/500\n",
      "132/132 [==============================] - 1s 9ms/step - loss: 1.9509 - accuracy: 0.2528 - val_loss: 1.9549 - val_accuracy: 0.2464\n",
      "Epoch 7/500\n",
      "132/132 [==============================] - 1s 10ms/step - loss: 1.9172 - accuracy: 0.2816 - val_loss: 1.9234 - val_accuracy: 0.2674\n",
      "Epoch 8/500\n",
      "132/132 [==============================] - 1s 10ms/step - loss: 1.8754 - accuracy: 0.3143 - val_loss: 1.8873 - val_accuracy: 0.2864\n",
      "Epoch 9/500\n",
      "132/132 [==============================] - 1s 10ms/step - loss: 1.8447 - accuracy: 0.3275 - val_loss: 1.8506 - val_accuracy: 0.3045\n",
      "Epoch 10/500\n",
      "132/132 [==============================] - 1s 10ms/step - loss: 1.7964 - accuracy: 0.3381 - val_loss: 1.8176 - val_accuracy: 0.3197\n",
      "Epoch 11/500\n",
      "132/132 [==============================] - 1s 10ms/step - loss: 1.7397 - accuracy: 0.3728 - val_loss: 1.7880 - val_accuracy: 0.3511\n",
      "Epoch 12/500\n",
      "132/132 [==============================] - 1s 11ms/step - loss: 1.7115 - accuracy: 0.3930 - val_loss: 1.7610 - val_accuracy: 0.3815\n",
      "Epoch 13/500\n",
      "132/132 [==============================] - 1s 11ms/step - loss: 1.6941 - accuracy: 0.4085 - val_loss: 1.7346 - val_accuracy: 0.3977\n",
      "Epoch 14/500\n",
      "132/132 [==============================] - 1s 9ms/step - loss: 1.6536 - accuracy: 0.4332 - val_loss: 1.7110 - val_accuracy: 0.4091\n",
      "Epoch 15/500\n",
      "132/132 [==============================] - 1s 9ms/step - loss: 1.6322 - accuracy: 0.4259 - val_loss: 1.6888 - val_accuracy: 0.4120\n",
      "Epoch 16/500\n",
      "132/132 [==============================] - 1s 10ms/step - loss: 1.6005 - accuracy: 0.4439 - val_loss: 1.6703 - val_accuracy: 0.4101\n",
      "Epoch 17/500\n",
      "132/132 [==============================] - 1s 11ms/step - loss: 1.5854 - accuracy: 0.4487 - val_loss: 1.6529 - val_accuracy: 0.4120\n",
      "Epoch 18/500\n",
      "132/132 [==============================] - 1s 9ms/step - loss: 1.5773 - accuracy: 0.4502 - val_loss: 1.6399 - val_accuracy: 0.4186\n",
      "Epoch 19/500\n",
      "132/132 [==============================] - 1s 10ms/step - loss: 1.5527 - accuracy: 0.4481 - val_loss: 1.6247 - val_accuracy: 0.4225\n",
      "Epoch 20/500\n",
      "132/132 [==============================] - 1s 9ms/step - loss: 1.5311 - accuracy: 0.4574 - val_loss: 1.6128 - val_accuracy: 0.4253\n",
      "Epoch 21/500\n",
      "132/132 [==============================] - 1s 9ms/step - loss: 1.5304 - accuracy: 0.4551 - val_loss: 1.5995 - val_accuracy: 0.4396\n",
      "Epoch 22/500\n",
      "132/132 [==============================] - 1s 9ms/step - loss: 1.5151 - accuracy: 0.4641 - val_loss: 1.5867 - val_accuracy: 0.4396\n",
      "Epoch 23/500\n",
      "132/132 [==============================] - 1s 9ms/step - loss: 1.4830 - accuracy: 0.4807 - val_loss: 1.5757 - val_accuracy: 0.4405\n",
      "Epoch 24/500\n",
      "132/132 [==============================] - 1s 9ms/step - loss: 1.4901 - accuracy: 0.4656 - val_loss: 1.5629 - val_accuracy: 0.4520\n",
      "Epoch 25/500\n",
      "132/132 [==============================] - 1s 9ms/step - loss: 1.4769 - accuracy: 0.4846 - val_loss: 1.5518 - val_accuracy: 0.4539\n",
      "Epoch 26/500\n",
      "132/132 [==============================] - 1s 10ms/step - loss: 1.4536 - accuracy: 0.4909 - val_loss: 1.5383 - val_accuracy: 0.4548\n",
      "Epoch 27/500\n",
      "132/132 [==============================] - 1s 9ms/step - loss: 1.4358 - accuracy: 0.4940 - val_loss: 1.5244 - val_accuracy: 0.4634\n",
      "Epoch 28/500\n",
      "132/132 [==============================] - 1s 10ms/step - loss: 1.4390 - accuracy: 0.5014 - val_loss: 1.5115 - val_accuracy: 0.4643\n",
      "Epoch 29/500\n",
      "132/132 [==============================] - 1s 9ms/step - loss: 1.4194 - accuracy: 0.5057 - val_loss: 1.4994 - val_accuracy: 0.4700\n",
      "Epoch 30/500\n",
      "132/132 [==============================] - 1s 10ms/step - loss: 1.4059 - accuracy: 0.5058 - val_loss: 1.4897 - val_accuracy: 0.4672\n",
      "Epoch 31/500\n",
      "132/132 [==============================] - 1s 9ms/step - loss: 1.3916 - accuracy: 0.5106 - val_loss: 1.4721 - val_accuracy: 0.4738\n",
      "Epoch 32/500\n",
      "132/132 [==============================] - 1s 9ms/step - loss: 1.3846 - accuracy: 0.5291 - val_loss: 1.4601 - val_accuracy: 0.4814\n",
      "Epoch 33/500\n",
      "132/132 [==============================] - 1s 9ms/step - loss: 1.3715 - accuracy: 0.5208 - val_loss: 1.4452 - val_accuracy: 0.4833\n",
      "Epoch 34/500\n",
      "132/132 [==============================] - 1s 9ms/step - loss: 1.3403 - accuracy: 0.5281 - val_loss: 1.4310 - val_accuracy: 0.4853\n",
      "Epoch 35/500\n",
      "132/132 [==============================] - 1s 10ms/step - loss: 1.3446 - accuracy: 0.5213 - val_loss: 1.4192 - val_accuracy: 0.4872\n",
      "Epoch 36/500\n",
      "132/132 [==============================] - 1s 10ms/step - loss: 1.3440 - accuracy: 0.5227 - val_loss: 1.4023 - val_accuracy: 0.4929\n",
      "Epoch 37/500\n",
      "132/132 [==============================] - 1s 10ms/step - loss: 1.2958 - accuracy: 0.5459 - val_loss: 1.3857 - val_accuracy: 0.4976\n",
      "Epoch 38/500\n",
      "132/132 [==============================] - 1s 9ms/step - loss: 1.2743 - accuracy: 0.5513 - val_loss: 1.3725 - val_accuracy: 0.5014\n",
      "Epoch 39/500\n",
      "132/132 [==============================] - 1s 10ms/step - loss: 1.2859 - accuracy: 0.5411 - val_loss: 1.3583 - val_accuracy: 0.5033\n",
      "Epoch 40/500\n",
      "132/132 [==============================] - 1s 10ms/step - loss: 1.2701 - accuracy: 0.5548 - val_loss: 1.3414 - val_accuracy: 0.5100\n",
      "Epoch 41/500\n",
      "132/132 [==============================] - 1s 10ms/step - loss: 1.2488 - accuracy: 0.5557 - val_loss: 1.3279 - val_accuracy: 0.5157\n",
      "Epoch 42/500\n",
      "132/132 [==============================] - 1s 9ms/step - loss: 1.2320 - accuracy: 0.5631 - val_loss: 1.3105 - val_accuracy: 0.5262\n",
      "Epoch 43/500\n",
      "132/132 [==============================] - 1s 9ms/step - loss: 1.2263 - accuracy: 0.5640 - val_loss: 1.3007 - val_accuracy: 0.5271\n",
      "Epoch 44/500\n",
      "132/132 [==============================] - 1s 9ms/step - loss: 1.2050 - accuracy: 0.5684 - val_loss: 1.2827 - val_accuracy: 0.5309\n",
      "Epoch 45/500\n",
      "132/132 [==============================] - 1s 10ms/step - loss: 1.1777 - accuracy: 0.5873 - val_loss: 1.2718 - val_accuracy: 0.5338\n",
      "Epoch 46/500\n",
      "132/132 [==============================] - 1s 9ms/step - loss: 1.1789 - accuracy: 0.5736 - val_loss: 1.2576 - val_accuracy: 0.5452\n",
      "Epoch 47/500\n",
      "132/132 [==============================] - 1s 9ms/step - loss: 1.1880 - accuracy: 0.5769 - val_loss: 1.2398 - val_accuracy: 0.5519\n",
      "Epoch 48/500\n",
      "132/132 [==============================] - 1s 10ms/step - loss: 1.1659 - accuracy: 0.5927 - val_loss: 1.2290 - val_accuracy: 0.5604\n",
      "Epoch 49/500\n",
      "132/132 [==============================] - 1s 10ms/step - loss: 1.1352 - accuracy: 0.5921 - val_loss: 1.2160 - val_accuracy: 0.5642\n",
      "Epoch 50/500\n",
      "132/132 [==============================] - 1s 10ms/step - loss: 1.1176 - accuracy: 0.5971 - val_loss: 1.2040 - val_accuracy: 0.5699\n",
      "Epoch 51/500\n",
      "132/132 [==============================] - 1s 10ms/step - loss: 1.1115 - accuracy: 0.6016 - val_loss: 1.1888 - val_accuracy: 0.5652\n",
      "Epoch 52/500\n",
      "132/132 [==============================] - 1s 10ms/step - loss: 1.1237 - accuracy: 0.6060 - val_loss: 1.1739 - val_accuracy: 0.5747\n",
      "Epoch 53/500\n",
      "132/132 [==============================] - 1s 10ms/step - loss: 1.0871 - accuracy: 0.6060 - val_loss: 1.1651 - val_accuracy: 0.5737\n",
      "Epoch 54/500\n",
      "132/132 [==============================] - 1s 10ms/step - loss: 1.0916 - accuracy: 0.6081 - val_loss: 1.1584 - val_accuracy: 0.5728\n",
      "Epoch 55/500\n",
      "132/132 [==============================] - 1s 10ms/step - loss: 1.0731 - accuracy: 0.6094 - val_loss: 1.1480 - val_accuracy: 0.5785\n",
      "Epoch 56/500\n",
      "132/132 [==============================] - 1s 10ms/step - loss: 1.0458 - accuracy: 0.6247 - val_loss: 1.1375 - val_accuracy: 0.5871\n",
      "Epoch 57/500\n",
      "132/132 [==============================] - 1s 9ms/step - loss: 1.0682 - accuracy: 0.6135 - val_loss: 1.1314 - val_accuracy: 0.5766\n",
      "Epoch 58/500\n",
      "132/132 [==============================] - 1s 10ms/step - loss: 1.0504 - accuracy: 0.6188 - val_loss: 1.1221 - val_accuracy: 0.5947\n",
      "Epoch 59/500\n",
      "132/132 [==============================] - 1s 10ms/step - loss: 1.0591 - accuracy: 0.6190 - val_loss: 1.1138 - val_accuracy: 0.5966\n",
      "Epoch 60/500\n",
      "132/132 [==============================] - 1s 10ms/step - loss: 1.0336 - accuracy: 0.6298 - val_loss: 1.1080 - val_accuracy: 0.5985\n",
      "Epoch 61/500\n",
      "132/132 [==============================] - 1s 11ms/step - loss: 1.0205 - accuracy: 0.6346 - val_loss: 1.0999 - val_accuracy: 0.5994\n",
      "Epoch 62/500\n",
      "132/132 [==============================] - 1s 11ms/step - loss: 1.0244 - accuracy: 0.6310 - val_loss: 1.0978 - val_accuracy: 0.5947\n",
      "Epoch 63/500\n",
      "132/132 [==============================] - 1s 10ms/step - loss: 1.0254 - accuracy: 0.6215 - val_loss: 1.0940 - val_accuracy: 0.5966\n",
      "Epoch 64/500\n",
      "132/132 [==============================] - 1s 10ms/step - loss: 1.0046 - accuracy: 0.6258 - val_loss: 1.0831 - val_accuracy: 0.5985\n",
      "Epoch 65/500\n",
      "132/132 [==============================] - 1s 10ms/step - loss: 0.9902 - accuracy: 0.6315 - val_loss: 1.0772 - val_accuracy: 0.6032\n",
      "Epoch 66/500\n",
      "132/132 [==============================] - 1s 11ms/step - loss: 1.0014 - accuracy: 0.6318 - val_loss: 1.0723 - val_accuracy: 0.6023\n",
      "Epoch 67/500\n",
      "132/132 [==============================] - 1s 9ms/step - loss: 0.9885 - accuracy: 0.6332 - val_loss: 1.0869 - val_accuracy: 0.5947\n",
      "Epoch 68/500\n",
      "132/132 [==============================] - 1s 9ms/step - loss: 0.9688 - accuracy: 0.6475 - val_loss: 1.0656 - val_accuracy: 0.6099\n",
      "Epoch 69/500\n",
      "132/132 [==============================] - 1s 10ms/step - loss: 0.9841 - accuracy: 0.6408 - val_loss: 1.0569 - val_accuracy: 0.6070\n",
      "Epoch 70/500\n",
      "132/132 [==============================] - 1s 9ms/step - loss: 0.9808 - accuracy: 0.6407 - val_loss: 1.0605 - val_accuracy: 0.6166\n",
      "Epoch 71/500\n",
      "132/132 [==============================] - 1s 10ms/step - loss: 0.9571 - accuracy: 0.6516 - val_loss: 1.0516 - val_accuracy: 0.6185\n",
      "Epoch 72/500\n",
      "132/132 [==============================] - 1s 10ms/step - loss: 0.9481 - accuracy: 0.6570 - val_loss: 1.0449 - val_accuracy: 0.6204\n",
      "Epoch 73/500\n",
      "132/132 [==============================] - 1s 10ms/step - loss: 0.9556 - accuracy: 0.6441 - val_loss: 1.0406 - val_accuracy: 0.6118\n",
      "Epoch 74/500\n",
      "132/132 [==============================] - 1s 10ms/step - loss: 0.9298 - accuracy: 0.6656 - val_loss: 1.0372 - val_accuracy: 0.6213\n",
      "Epoch 75/500\n",
      "132/132 [==============================] - 1s 9ms/step - loss: 0.9795 - accuracy: 0.6330 - val_loss: 1.0342 - val_accuracy: 0.6213\n",
      "Epoch 76/500\n",
      "132/132 [==============================] - 1s 11ms/step - loss: 0.9426 - accuracy: 0.6573 - val_loss: 1.0315 - val_accuracy: 0.6242\n",
      "Epoch 77/500\n",
      "132/132 [==============================] - 1s 9ms/step - loss: 0.9306 - accuracy: 0.6541 - val_loss: 1.0289 - val_accuracy: 0.6213\n",
      "Epoch 78/500\n",
      "132/132 [==============================] - 1s 10ms/step - loss: 0.9439 - accuracy: 0.6541 - val_loss: 1.0274 - val_accuracy: 0.6213\n",
      "Epoch 79/500\n",
      "132/132 [==============================] - 1s 11ms/step - loss: 0.9614 - accuracy: 0.6456 - val_loss: 1.0256 - val_accuracy: 0.6213\n",
      "Epoch 80/500\n",
      "132/132 [==============================] - 1s 11ms/step - loss: 0.9350 - accuracy: 0.6597 - val_loss: 1.0142 - val_accuracy: 0.6232\n",
      "Epoch 81/500\n",
      "132/132 [==============================] - 1s 9ms/step - loss: 0.9239 - accuracy: 0.6660 - val_loss: 1.0147 - val_accuracy: 0.6242\n",
      "Epoch 82/500\n",
      "132/132 [==============================] - 1s 10ms/step - loss: 0.9152 - accuracy: 0.6679 - val_loss: 1.0159 - val_accuracy: 0.6232\n",
      "Epoch 83/500\n",
      "132/132 [==============================] - 1s 9ms/step - loss: 0.9235 - accuracy: 0.6560 - val_loss: 1.0122 - val_accuracy: 0.6270\n",
      "Epoch 84/500\n",
      "132/132 [==============================] - 1s 10ms/step - loss: 0.9350 - accuracy: 0.6570 - val_loss: 1.0174 - val_accuracy: 0.6242\n",
      "Epoch 85/500\n",
      "132/132 [==============================] - 1s 10ms/step - loss: 0.9035 - accuracy: 0.6670 - val_loss: 0.9998 - val_accuracy: 0.6299\n",
      "Epoch 86/500\n",
      "132/132 [==============================] - 1s 10ms/step - loss: 0.9354 - accuracy: 0.6592 - val_loss: 0.9976 - val_accuracy: 0.6289\n",
      "Epoch 87/500\n",
      "132/132 [==============================] - 1s 11ms/step - loss: 0.8941 - accuracy: 0.6697 - val_loss: 1.0006 - val_accuracy: 0.6318\n",
      "Epoch 88/500\n",
      "132/132 [==============================] - 1s 11ms/step - loss: 0.9237 - accuracy: 0.6538 - val_loss: 0.9948 - val_accuracy: 0.6299\n",
      "Epoch 89/500\n",
      "132/132 [==============================] - 1s 10ms/step - loss: 0.9135 - accuracy: 0.6584 - val_loss: 0.9884 - val_accuracy: 0.6375\n",
      "Epoch 90/500\n",
      "132/132 [==============================] - 1s 11ms/step - loss: 0.8921 - accuracy: 0.6573 - val_loss: 0.9926 - val_accuracy: 0.6308\n",
      "Epoch 91/500\n",
      "132/132 [==============================] - 1s 10ms/step - loss: 0.9069 - accuracy: 0.6661 - val_loss: 0.9881 - val_accuracy: 0.6299\n",
      "Epoch 92/500\n",
      "132/132 [==============================] - 1s 10ms/step - loss: 0.8791 - accuracy: 0.6766 - val_loss: 0.9830 - val_accuracy: 0.6394\n",
      "Epoch 93/500\n",
      "132/132 [==============================] - 1s 10ms/step - loss: 0.8984 - accuracy: 0.6620 - val_loss: 0.9913 - val_accuracy: 0.6270\n",
      "Epoch 94/500\n",
      "132/132 [==============================] - 1s 9ms/step - loss: 0.9084 - accuracy: 0.6640 - val_loss: 0.9963 - val_accuracy: 0.6232\n",
      "Epoch 95/500\n",
      "132/132 [==============================] - 1s 9ms/step - loss: 0.8749 - accuracy: 0.6786 - val_loss: 0.9823 - val_accuracy: 0.6327\n",
      "Epoch 96/500\n",
      "132/132 [==============================] - 1s 11ms/step - loss: 0.8685 - accuracy: 0.6766 - val_loss: 0.9721 - val_accuracy: 0.6375\n",
      "Epoch 97/500\n",
      "132/132 [==============================] - 1s 10ms/step - loss: 0.8892 - accuracy: 0.6647 - val_loss: 0.9734 - val_accuracy: 0.6365\n",
      "Epoch 98/500\n",
      "132/132 [==============================] - 1s 10ms/step - loss: 0.8620 - accuracy: 0.6828 - val_loss: 0.9749 - val_accuracy: 0.6394\n",
      "Epoch 99/500\n",
      "132/132 [==============================] - 1s 10ms/step - loss: 0.8822 - accuracy: 0.6775 - val_loss: 0.9706 - val_accuracy: 0.6451\n",
      "Epoch 100/500\n",
      "132/132 [==============================] - 1s 10ms/step - loss: 0.8766 - accuracy: 0.6776 - val_loss: 0.9706 - val_accuracy: 0.6422\n",
      "Epoch 101/500\n",
      "132/132 [==============================] - 1s 11ms/step - loss: 0.8423 - accuracy: 0.6817 - val_loss: 0.9628 - val_accuracy: 0.6461\n",
      "Epoch 102/500\n",
      "132/132 [==============================] - 1s 10ms/step - loss: 0.8884 - accuracy: 0.6707 - val_loss: 0.9794 - val_accuracy: 0.6308\n",
      "Epoch 103/500\n",
      "132/132 [==============================] - 1s 10ms/step - loss: 0.8697 - accuracy: 0.6814 - val_loss: 0.9588 - val_accuracy: 0.6508\n",
      "Epoch 104/500\n",
      "132/132 [==============================] - 1s 11ms/step - loss: 0.8516 - accuracy: 0.6818 - val_loss: 0.9614 - val_accuracy: 0.6499\n",
      "Epoch 105/500\n",
      "132/132 [==============================] - 1s 10ms/step - loss: 0.8767 - accuracy: 0.6714 - val_loss: 0.9571 - val_accuracy: 0.6527\n",
      "Epoch 106/500\n",
      "132/132 [==============================] - 1s 10ms/step - loss: 0.8716 - accuracy: 0.6806 - val_loss: 0.9511 - val_accuracy: 0.6499\n",
      "Epoch 107/500\n",
      "132/132 [==============================] - 1s 9ms/step - loss: 0.8588 - accuracy: 0.6806 - val_loss: 0.9517 - val_accuracy: 0.6470\n",
      "Epoch 108/500\n",
      "132/132 [==============================] - 1s 10ms/step - loss: 0.8484 - accuracy: 0.6909 - val_loss: 0.9529 - val_accuracy: 0.6499\n",
      "Epoch 109/500\n",
      "132/132 [==============================] - 1s 9ms/step - loss: 0.8548 - accuracy: 0.6729 - val_loss: 0.9506 - val_accuracy: 0.6499\n",
      "Epoch 110/500\n",
      "132/132 [==============================] - 1s 9ms/step - loss: 0.8504 - accuracy: 0.6818 - val_loss: 0.9542 - val_accuracy: 0.6508\n",
      "Epoch 111/500\n",
      "132/132 [==============================] - 1s 10ms/step - loss: 0.8638 - accuracy: 0.6814 - val_loss: 0.9413 - val_accuracy: 0.6546\n",
      "Epoch 112/500\n",
      "132/132 [==============================] - 1s 10ms/step - loss: 0.8444 - accuracy: 0.6856 - val_loss: 0.9381 - val_accuracy: 0.6584\n",
      "Epoch 113/500\n",
      "132/132 [==============================] - 1s 10ms/step - loss: 0.8570 - accuracy: 0.6723 - val_loss: 0.9454 - val_accuracy: 0.6489\n",
      "Epoch 114/500\n",
      "132/132 [==============================] - 1s 10ms/step - loss: 0.8609 - accuracy: 0.6806 - val_loss: 0.9409 - val_accuracy: 0.6527\n",
      "Epoch 115/500\n",
      "132/132 [==============================] - 1s 10ms/step - loss: 0.8732 - accuracy: 0.6628 - val_loss: 0.9305 - val_accuracy: 0.6641\n",
      "Epoch 116/500\n",
      "132/132 [==============================] - 1s 10ms/step - loss: 0.8473 - accuracy: 0.6759 - val_loss: 0.9389 - val_accuracy: 0.6508\n",
      "Epoch 117/500\n",
      "132/132 [==============================] - 1s 10ms/step - loss: 0.8316 - accuracy: 0.6941 - val_loss: 0.9369 - val_accuracy: 0.6565\n",
      "Epoch 118/500\n",
      "132/132 [==============================] - 1s 9ms/step - loss: 0.8382 - accuracy: 0.6920 - val_loss: 0.9257 - val_accuracy: 0.6613\n",
      "Epoch 119/500\n",
      "132/132 [==============================] - 1s 10ms/step - loss: 0.8279 - accuracy: 0.6949 - val_loss: 0.9295 - val_accuracy: 0.6584\n",
      "Epoch 120/500\n",
      "132/132 [==============================] - 1s 10ms/step - loss: 0.8534 - accuracy: 0.6823 - val_loss: 0.9311 - val_accuracy: 0.6603\n",
      "Epoch 121/500\n",
      "132/132 [==============================] - 1s 10ms/step - loss: 0.8258 - accuracy: 0.6908 - val_loss: 0.9210 - val_accuracy: 0.6613\n",
      "Epoch 122/500\n",
      "132/132 [==============================] - 1s 9ms/step - loss: 0.8636 - accuracy: 0.6792 - val_loss: 0.9256 - val_accuracy: 0.6565\n",
      "Epoch 123/500\n",
      "132/132 [==============================] - 1s 10ms/step - loss: 0.8213 - accuracy: 0.6931 - val_loss: 0.9210 - val_accuracy: 0.6689\n",
      "Epoch 124/500\n",
      "132/132 [==============================] - 1s 10ms/step - loss: 0.8459 - accuracy: 0.6780 - val_loss: 0.9312 - val_accuracy: 0.6537\n",
      "Epoch 125/500\n",
      "132/132 [==============================] - 1s 9ms/step - loss: 0.8194 - accuracy: 0.7016 - val_loss: 0.9255 - val_accuracy: 0.6565\n",
      "Epoch 126/500\n",
      "132/132 [==============================] - 1s 10ms/step - loss: 0.8123 - accuracy: 0.6952 - val_loss: 0.9198 - val_accuracy: 0.6708\n",
      "Epoch 127/500\n",
      "132/132 [==============================] - 1s 10ms/step - loss: 0.8210 - accuracy: 0.6977 - val_loss: 0.9225 - val_accuracy: 0.6565\n",
      "Epoch 128/500\n",
      "132/132 [==============================] - 1s 10ms/step - loss: 0.8217 - accuracy: 0.6966 - val_loss: 0.9236 - val_accuracy: 0.6651\n",
      "Epoch 129/500\n",
      "132/132 [==============================] - 1s 9ms/step - loss: 0.8323 - accuracy: 0.6972 - val_loss: 0.9216 - val_accuracy: 0.6679\n",
      "Epoch 130/500\n",
      "132/132 [==============================] - 1s 9ms/step - loss: 0.8012 - accuracy: 0.7013 - val_loss: 0.9023 - val_accuracy: 0.6717\n",
      "Epoch 131/500\n",
      "132/132 [==============================] - 1s 10ms/step - loss: 0.8053 - accuracy: 0.6992 - val_loss: 0.9191 - val_accuracy: 0.6622\n",
      "Epoch 132/500\n",
      "132/132 [==============================] - 2s 11ms/step - loss: 0.8135 - accuracy: 0.6894 - val_loss: 0.9173 - val_accuracy: 0.6632\n",
      "Epoch 133/500\n",
      "132/132 [==============================] - 1s 10ms/step - loss: 0.8103 - accuracy: 0.6995 - val_loss: 0.9089 - val_accuracy: 0.6651\n",
      "Epoch 134/500\n",
      "132/132 [==============================] - 1s 10ms/step - loss: 0.8051 - accuracy: 0.6991 - val_loss: 0.8957 - val_accuracy: 0.6736\n",
      "Epoch 135/500\n",
      "132/132 [==============================] - 1s 10ms/step - loss: 0.8143 - accuracy: 0.6948 - val_loss: 0.9082 - val_accuracy: 0.6708\n",
      "Epoch 136/500\n",
      "132/132 [==============================] - 1s 9ms/step - loss: 0.8207 - accuracy: 0.6972 - val_loss: 0.9062 - val_accuracy: 0.6651\n",
      "Epoch 137/500\n",
      "132/132 [==============================] - 1s 9ms/step - loss: 0.7941 - accuracy: 0.7062 - val_loss: 0.9005 - val_accuracy: 0.6727\n",
      "Epoch 138/500\n",
      "132/132 [==============================] - 1s 11ms/step - loss: 0.7917 - accuracy: 0.7065 - val_loss: 0.8975 - val_accuracy: 0.6660\n",
      "Epoch 139/500\n",
      "132/132 [==============================] - 1s 9ms/step - loss: 0.7927 - accuracy: 0.7046 - val_loss: 0.8971 - val_accuracy: 0.6689\n",
      "Epoch 140/500\n",
      "132/132 [==============================] - 1s 9ms/step - loss: 0.7805 - accuracy: 0.7120 - val_loss: 0.8939 - val_accuracy: 0.6765\n",
      "Epoch 141/500\n",
      "132/132 [==============================] - 1s 10ms/step - loss: 0.7989 - accuracy: 0.7013 - val_loss: 0.8878 - val_accuracy: 0.6746\n",
      "Epoch 142/500\n",
      "132/132 [==============================] - 1s 10ms/step - loss: 0.8083 - accuracy: 0.7042 - val_loss: 0.8848 - val_accuracy: 0.6784\n",
      "Epoch 143/500\n",
      "132/132 [==============================] - 1s 10ms/step - loss: 0.7959 - accuracy: 0.7157 - val_loss: 0.8867 - val_accuracy: 0.6784\n",
      "Epoch 144/500\n",
      "132/132 [==============================] - 1s 11ms/step - loss: 0.7749 - accuracy: 0.7124 - val_loss: 0.8837 - val_accuracy: 0.6717\n",
      "Epoch 145/500\n",
      "132/132 [==============================] - 1s 10ms/step - loss: 0.7804 - accuracy: 0.7148 - val_loss: 0.8830 - val_accuracy: 0.6755\n",
      "Epoch 146/500\n",
      "132/132 [==============================] - 1s 10ms/step - loss: 0.7721 - accuracy: 0.7127 - val_loss: 0.8862 - val_accuracy: 0.6708\n",
      "Epoch 147/500\n",
      "132/132 [==============================] - 1s 10ms/step - loss: 0.7769 - accuracy: 0.7144 - val_loss: 0.8776 - val_accuracy: 0.6860\n",
      "Epoch 148/500\n",
      "132/132 [==============================] - 1s 11ms/step - loss: 0.8093 - accuracy: 0.7058 - val_loss: 0.8803 - val_accuracy: 0.6698\n",
      "Epoch 149/500\n",
      "132/132 [==============================] - 1s 10ms/step - loss: 0.8015 - accuracy: 0.7073 - val_loss: 0.8780 - val_accuracy: 0.6784\n",
      "Epoch 150/500\n",
      "132/132 [==============================] - 1s 10ms/step - loss: 0.7620 - accuracy: 0.7152 - val_loss: 0.8819 - val_accuracy: 0.6794\n",
      "Epoch 151/500\n",
      "132/132 [==============================] - 1s 10ms/step - loss: 0.7707 - accuracy: 0.7168 - val_loss: 0.8891 - val_accuracy: 0.6746\n",
      "Epoch 152/500\n",
      "132/132 [==============================] - 1s 10ms/step - loss: 0.7700 - accuracy: 0.7103 - val_loss: 0.8774 - val_accuracy: 0.6746\n",
      "Epoch 153/500\n",
      "132/132 [==============================] - 1s 10ms/step - loss: 0.7854 - accuracy: 0.7105 - val_loss: 0.8750 - val_accuracy: 0.6717\n",
      "Epoch 154/500\n",
      "132/132 [==============================] - 1s 10ms/step - loss: 0.7941 - accuracy: 0.7130 - val_loss: 0.8649 - val_accuracy: 0.6860\n",
      "Epoch 155/500\n",
      "132/132 [==============================] - 1s 10ms/step - loss: 0.7849 - accuracy: 0.7060 - val_loss: 0.8745 - val_accuracy: 0.6775\n",
      "Epoch 156/500\n",
      "132/132 [==============================] - 1s 10ms/step - loss: 0.7860 - accuracy: 0.7089 - val_loss: 0.8657 - val_accuracy: 0.6841\n",
      "Epoch 157/500\n",
      "132/132 [==============================] - 1s 10ms/step - loss: 0.7710 - accuracy: 0.7157 - val_loss: 0.8627 - val_accuracy: 0.6822\n",
      "Epoch 158/500\n",
      "132/132 [==============================] - 1s 10ms/step - loss: 0.7903 - accuracy: 0.7043 - val_loss: 0.8617 - val_accuracy: 0.6784\n",
      "Epoch 159/500\n",
      "132/132 [==============================] - 1s 10ms/step - loss: 0.7852 - accuracy: 0.7085 - val_loss: 0.8665 - val_accuracy: 0.6736\n",
      "Epoch 160/500\n",
      "132/132 [==============================] - 1s 10ms/step - loss: 0.8087 - accuracy: 0.6937 - val_loss: 0.8632 - val_accuracy: 0.6851\n",
      "Epoch 161/500\n",
      "132/132 [==============================] - 1s 10ms/step - loss: 0.7812 - accuracy: 0.7114 - val_loss: 0.8593 - val_accuracy: 0.6898\n",
      "Epoch 162/500\n",
      "132/132 [==============================] - 1s 9ms/step - loss: 0.7788 - accuracy: 0.7251 - val_loss: 0.8510 - val_accuracy: 0.6917\n",
      "Epoch 163/500\n",
      "132/132 [==============================] - 1s 9ms/step - loss: 0.7539 - accuracy: 0.7316 - val_loss: 0.8511 - val_accuracy: 0.6870\n",
      "Epoch 164/500\n",
      "132/132 [==============================] - 1s 10ms/step - loss: 0.7716 - accuracy: 0.7154 - val_loss: 0.8554 - val_accuracy: 0.6851\n",
      "Epoch 165/500\n",
      "132/132 [==============================] - 1s 10ms/step - loss: 0.7722 - accuracy: 0.7129 - val_loss: 0.8575 - val_accuracy: 0.6917\n",
      "Epoch 166/500\n",
      "132/132 [==============================] - 1s 10ms/step - loss: 0.7754 - accuracy: 0.7157 - val_loss: 0.8480 - val_accuracy: 0.6927\n",
      "Epoch 167/500\n",
      "132/132 [==============================] - 1s 10ms/step - loss: 0.7868 - accuracy: 0.7068 - val_loss: 0.8456 - val_accuracy: 0.6927\n",
      "Epoch 168/500\n",
      "132/132 [==============================] - 1s 11ms/step - loss: 0.7465 - accuracy: 0.7258 - val_loss: 0.8502 - val_accuracy: 0.6908\n",
      "Epoch 169/500\n",
      "132/132 [==============================] - 1s 10ms/step - loss: 0.7489 - accuracy: 0.7287 - val_loss: 0.8551 - val_accuracy: 0.6879\n",
      "Epoch 170/500\n",
      "132/132 [==============================] - 1s 10ms/step - loss: 0.7549 - accuracy: 0.7204 - val_loss: 0.8453 - val_accuracy: 0.6851\n",
      "Epoch 171/500\n",
      "132/132 [==============================] - 1s 10ms/step - loss: 0.7595 - accuracy: 0.7222 - val_loss: 0.8411 - val_accuracy: 0.6917\n",
      "Epoch 172/500\n",
      "132/132 [==============================] - 1s 10ms/step - loss: 0.7415 - accuracy: 0.7303 - val_loss: 0.8569 - val_accuracy: 0.6832\n",
      "Epoch 173/500\n",
      "132/132 [==============================] - 1s 10ms/step - loss: 0.7468 - accuracy: 0.7303 - val_loss: 0.8486 - val_accuracy: 0.6832\n",
      "Epoch 174/500\n",
      "132/132 [==============================] - 1s 10ms/step - loss: 0.7280 - accuracy: 0.7316 - val_loss: 0.8448 - val_accuracy: 0.6794\n",
      "Epoch 175/500\n",
      "132/132 [==============================] - 1s 11ms/step - loss: 0.7413 - accuracy: 0.7238 - val_loss: 0.8419 - val_accuracy: 0.6917\n",
      "Epoch 176/500\n",
      "132/132 [==============================] - 1s 11ms/step - loss: 0.7472 - accuracy: 0.7229 - val_loss: 0.8398 - val_accuracy: 0.6936\n",
      "Epoch 177/500\n",
      "132/132 [==============================] - 1s 10ms/step - loss: 0.7490 - accuracy: 0.7225 - val_loss: 0.8401 - val_accuracy: 0.6870\n",
      "Epoch 178/500\n",
      "132/132 [==============================] - 1s 10ms/step - loss: 0.7595 - accuracy: 0.7209 - val_loss: 0.8403 - val_accuracy: 0.6870\n",
      "Epoch 179/500\n",
      "132/132 [==============================] - 1s 10ms/step - loss: 0.7478 - accuracy: 0.7222 - val_loss: 0.8407 - val_accuracy: 0.6927\n",
      "Epoch 180/500\n",
      "132/132 [==============================] - 1s 10ms/step - loss: 0.7206 - accuracy: 0.7387 - val_loss: 0.8327 - val_accuracy: 0.6993\n",
      "Epoch 181/500\n",
      "132/132 [==============================] - 1s 11ms/step - loss: 0.7376 - accuracy: 0.7286 - val_loss: 0.8320 - val_accuracy: 0.6927\n",
      "Epoch 182/500\n",
      "132/132 [==============================] - 1s 10ms/step - loss: 0.7469 - accuracy: 0.7239 - val_loss: 0.8337 - val_accuracy: 0.6974\n",
      "Epoch 183/500\n",
      "132/132 [==============================] - 1s 10ms/step - loss: 0.7430 - accuracy: 0.7184 - val_loss: 0.8315 - val_accuracy: 0.6879\n",
      "Epoch 184/500\n",
      "132/132 [==============================] - 1s 9ms/step - loss: 0.7445 - accuracy: 0.7315 - val_loss: 0.8227 - val_accuracy: 0.7003\n",
      "Epoch 185/500\n",
      "132/132 [==============================] - 1s 10ms/step - loss: 0.7197 - accuracy: 0.7302 - val_loss: 0.8320 - val_accuracy: 0.6974\n",
      "Epoch 186/500\n",
      "132/132 [==============================] - 1s 10ms/step - loss: 0.7086 - accuracy: 0.7350 - val_loss: 0.8257 - val_accuracy: 0.6927\n",
      "Epoch 187/500\n",
      "132/132 [==============================] - 1s 10ms/step - loss: 0.7490 - accuracy: 0.7238 - val_loss: 0.8437 - val_accuracy: 0.6927\n",
      "Epoch 188/500\n",
      "132/132 [==============================] - 1s 10ms/step - loss: 0.7483 - accuracy: 0.7284 - val_loss: 0.8279 - val_accuracy: 0.6908\n",
      "Epoch 189/500\n",
      "132/132 [==============================] - 1s 10ms/step - loss: 0.7175 - accuracy: 0.7310 - val_loss: 0.8222 - val_accuracy: 0.6927\n",
      "Epoch 190/500\n",
      "132/132 [==============================] - 1s 10ms/step - loss: 0.7243 - accuracy: 0.7269 - val_loss: 0.8174 - val_accuracy: 0.7003\n",
      "Epoch 191/500\n",
      "132/132 [==============================] - 1s 10ms/step - loss: 0.7538 - accuracy: 0.7272 - val_loss: 0.8214 - val_accuracy: 0.6984\n",
      "Epoch 192/500\n",
      "132/132 [==============================] - 1s 10ms/step - loss: 0.7285 - accuracy: 0.7408 - val_loss: 0.8285 - val_accuracy: 0.6936\n",
      "Epoch 193/500\n",
      "132/132 [==============================] - 1s 9ms/step - loss: 0.7228 - accuracy: 0.7377 - val_loss: 0.8210 - val_accuracy: 0.6993\n",
      "Epoch 194/500\n",
      "132/132 [==============================] - 1s 10ms/step - loss: 0.7246 - accuracy: 0.7373 - val_loss: 0.8141 - val_accuracy: 0.7012\n",
      "Epoch 195/500\n",
      "132/132 [==============================] - 1s 10ms/step - loss: 0.7184 - accuracy: 0.7331 - val_loss: 0.8246 - val_accuracy: 0.6851\n",
      "Epoch 196/500\n",
      "132/132 [==============================] - 1s 10ms/step - loss: 0.7215 - accuracy: 0.7313 - val_loss: 0.8106 - val_accuracy: 0.7041\n",
      "Epoch 197/500\n",
      "132/132 [==============================] - 1s 10ms/step - loss: 0.7138 - accuracy: 0.7372 - val_loss: 0.8170 - val_accuracy: 0.7003\n",
      "Epoch 198/500\n",
      "132/132 [==============================] - 2s 11ms/step - loss: 0.7261 - accuracy: 0.7285 - val_loss: 0.8148 - val_accuracy: 0.6917\n",
      "Epoch 199/500\n",
      "132/132 [==============================] - 1s 11ms/step - loss: 0.7338 - accuracy: 0.7246 - val_loss: 0.8141 - val_accuracy: 0.7012\n",
      "Epoch 200/500\n",
      "132/132 [==============================] - 1s 10ms/step - loss: 0.7350 - accuracy: 0.7240 - val_loss: 0.8161 - val_accuracy: 0.6917\n",
      "Epoch 201/500\n",
      "132/132 [==============================] - 1s 10ms/step - loss: 0.7019 - accuracy: 0.7439 - val_loss: 0.8197 - val_accuracy: 0.6936\n",
      "Epoch 202/500\n",
      "132/132 [==============================] - 1s 10ms/step - loss: 0.7045 - accuracy: 0.7359 - val_loss: 0.8098 - val_accuracy: 0.6965\n",
      "Epoch 203/500\n",
      "132/132 [==============================] - 1s 10ms/step - loss: 0.7050 - accuracy: 0.7451 - val_loss: 0.8091 - val_accuracy: 0.6955\n",
      "Epoch 204/500\n",
      "132/132 [==============================] - 1s 10ms/step - loss: 0.7165 - accuracy: 0.7312 - val_loss: 0.8008 - val_accuracy: 0.7193\n",
      "Epoch 205/500\n",
      "132/132 [==============================] - 1s 10ms/step - loss: 0.7160 - accuracy: 0.7358 - val_loss: 0.8046 - val_accuracy: 0.7088\n",
      "Epoch 206/500\n",
      "132/132 [==============================] - 1s 11ms/step - loss: 0.7233 - accuracy: 0.7451 - val_loss: 0.8108 - val_accuracy: 0.6927\n",
      "Epoch 207/500\n",
      "132/132 [==============================] - 1s 10ms/step - loss: 0.6923 - accuracy: 0.7413 - val_loss: 0.8003 - val_accuracy: 0.7165\n",
      "Epoch 208/500\n",
      "132/132 [==============================] - 1s 10ms/step - loss: 0.7178 - accuracy: 0.7440 - val_loss: 0.7992 - val_accuracy: 0.7184\n",
      "Epoch 209/500\n",
      "132/132 [==============================] - 1s 11ms/step - loss: 0.6817 - accuracy: 0.7519 - val_loss: 0.8023 - val_accuracy: 0.7108\n",
      "Epoch 210/500\n",
      "132/132 [==============================] - 1s 10ms/step - loss: 0.7194 - accuracy: 0.7378 - val_loss: 0.8114 - val_accuracy: 0.6936\n",
      "Epoch 211/500\n",
      "132/132 [==============================] - 1s 10ms/step - loss: 0.7027 - accuracy: 0.7450 - val_loss: 0.7942 - val_accuracy: 0.7117\n",
      "Epoch 212/500\n",
      "132/132 [==============================] - 1s 10ms/step - loss: 0.7235 - accuracy: 0.7313 - val_loss: 0.7946 - val_accuracy: 0.7050\n",
      "Epoch 213/500\n",
      "132/132 [==============================] - 1s 10ms/step - loss: 0.7207 - accuracy: 0.7374 - val_loss: 0.8048 - val_accuracy: 0.7050\n",
      "Epoch 214/500\n",
      "132/132 [==============================] - 2s 12ms/step - loss: 0.6946 - accuracy: 0.7543 - val_loss: 0.7945 - val_accuracy: 0.7136\n",
      "Epoch 215/500\n",
      "132/132 [==============================] - 2s 12ms/step - loss: 0.7128 - accuracy: 0.7384 - val_loss: 0.7906 - val_accuracy: 0.7117\n",
      "Epoch 216/500\n",
      "132/132 [==============================] - 1s 11ms/step - loss: 0.6826 - accuracy: 0.7470 - val_loss: 0.8056 - val_accuracy: 0.7003\n",
      "Epoch 217/500\n",
      "132/132 [==============================] - 1s 10ms/step - loss: 0.6909 - accuracy: 0.7468 - val_loss: 0.7888 - val_accuracy: 0.7212\n",
      "Epoch 218/500\n",
      "132/132 [==============================] - 1s 10ms/step - loss: 0.6733 - accuracy: 0.7564 - val_loss: 0.7949 - val_accuracy: 0.7098\n",
      "Epoch 219/500\n",
      "132/132 [==============================] - 1s 10ms/step - loss: 0.6715 - accuracy: 0.7556 - val_loss: 0.7898 - val_accuracy: 0.7146\n",
      "Epoch 220/500\n",
      "132/132 [==============================] - 1s 10ms/step - loss: 0.7089 - accuracy: 0.7325 - val_loss: 0.7854 - val_accuracy: 0.7250\n",
      "Epoch 221/500\n",
      "132/132 [==============================] - 1s 10ms/step - loss: 0.6806 - accuracy: 0.7545 - val_loss: 0.7848 - val_accuracy: 0.7155\n",
      "Epoch 222/500\n",
      "132/132 [==============================] - 1s 10ms/step - loss: 0.7067 - accuracy: 0.7379 - val_loss: 0.7872 - val_accuracy: 0.7127\n",
      "Epoch 223/500\n",
      "132/132 [==============================] - 1s 11ms/step - loss: 0.6756 - accuracy: 0.7511 - val_loss: 0.7897 - val_accuracy: 0.7165\n",
      "Epoch 224/500\n",
      "132/132 [==============================] - 1s 10ms/step - loss: 0.6955 - accuracy: 0.7455 - val_loss: 0.7833 - val_accuracy: 0.7136\n",
      "Epoch 225/500\n",
      "132/132 [==============================] - 1s 10ms/step - loss: 0.7031 - accuracy: 0.7400 - val_loss: 0.7936 - val_accuracy: 0.7146\n",
      "Epoch 226/500\n",
      "132/132 [==============================] - 1s 10ms/step - loss: 0.6893 - accuracy: 0.7443 - val_loss: 0.7829 - val_accuracy: 0.7165\n",
      "Epoch 227/500\n",
      "132/132 [==============================] - 1s 11ms/step - loss: 0.6819 - accuracy: 0.7523 - val_loss: 0.7814 - val_accuracy: 0.7212\n",
      "Epoch 228/500\n",
      "132/132 [==============================] - 1s 10ms/step - loss: 0.6992 - accuracy: 0.7429 - val_loss: 0.7748 - val_accuracy: 0.7241\n",
      "Epoch 229/500\n",
      "132/132 [==============================] - 1s 10ms/step - loss: 0.6607 - accuracy: 0.7552 - val_loss: 0.7759 - val_accuracy: 0.7260\n",
      "Epoch 230/500\n",
      "132/132 [==============================] - 1s 11ms/step - loss: 0.6831 - accuracy: 0.7465 - val_loss: 0.7839 - val_accuracy: 0.7108\n",
      "Epoch 231/500\n",
      "132/132 [==============================] - 1s 10ms/step - loss: 0.6978 - accuracy: 0.7481 - val_loss: 0.7721 - val_accuracy: 0.7279\n",
      "Epoch 232/500\n",
      "132/132 [==============================] - 1s 10ms/step - loss: 0.6744 - accuracy: 0.7561 - val_loss: 0.7902 - val_accuracy: 0.7079\n",
      "Epoch 233/500\n",
      "132/132 [==============================] - 1s 10ms/step - loss: 0.6603 - accuracy: 0.7593 - val_loss: 0.7709 - val_accuracy: 0.7260\n",
      "Epoch 234/500\n",
      "132/132 [==============================] - 1s 10ms/step - loss: 0.6608 - accuracy: 0.7560 - val_loss: 0.7670 - val_accuracy: 0.7326\n",
      "Epoch 235/500\n",
      "132/132 [==============================] - 1s 11ms/step - loss: 0.6597 - accuracy: 0.7591 - val_loss: 0.7825 - val_accuracy: 0.7174\n",
      "Epoch 236/500\n",
      "132/132 [==============================] - 1s 10ms/step - loss: 0.6950 - accuracy: 0.7421 - val_loss: 0.7722 - val_accuracy: 0.7174\n",
      "Epoch 237/500\n",
      "132/132 [==============================] - 1s 10ms/step - loss: 0.6698 - accuracy: 0.7611 - val_loss: 0.7772 - val_accuracy: 0.7212\n",
      "Epoch 238/500\n",
      "132/132 [==============================] - 1s 10ms/step - loss: 0.6742 - accuracy: 0.7470 - val_loss: 0.7700 - val_accuracy: 0.7193\n",
      "Epoch 239/500\n",
      "132/132 [==============================] - 1s 10ms/step - loss: 0.6641 - accuracy: 0.7504 - val_loss: 0.7721 - val_accuracy: 0.7108\n",
      "Epoch 240/500\n",
      "132/132 [==============================] - 1s 10ms/step - loss: 0.6758 - accuracy: 0.7555 - val_loss: 0.7698 - val_accuracy: 0.7241\n",
      "Epoch 241/500\n",
      "132/132 [==============================] - 1s 10ms/step - loss: 0.6850 - accuracy: 0.7503 - val_loss: 0.7622 - val_accuracy: 0.7250\n",
      "Epoch 242/500\n",
      "132/132 [==============================] - 1s 10ms/step - loss: 0.7068 - accuracy: 0.7440 - val_loss: 0.7614 - val_accuracy: 0.7260\n",
      "Epoch 243/500\n",
      "132/132 [==============================] - 1s 11ms/step - loss: 0.6745 - accuracy: 0.7534 - val_loss: 0.7670 - val_accuracy: 0.7231\n",
      "Epoch 244/500\n",
      "132/132 [==============================] - 1s 11ms/step - loss: 0.6796 - accuracy: 0.7483 - val_loss: 0.7665 - val_accuracy: 0.7241\n",
      "Epoch 245/500\n",
      "132/132 [==============================] - 1s 10ms/step - loss: 0.6815 - accuracy: 0.7470 - val_loss: 0.7787 - val_accuracy: 0.7098\n",
      "Epoch 246/500\n",
      "132/132 [==============================] - 1s 10ms/step - loss: 0.6927 - accuracy: 0.7430 - val_loss: 0.7651 - val_accuracy: 0.7279\n",
      "Epoch 247/500\n",
      "132/132 [==============================] - 1s 10ms/step - loss: 0.6708 - accuracy: 0.7491 - val_loss: 0.7532 - val_accuracy: 0.7288\n",
      "Epoch 248/500\n",
      "132/132 [==============================] - 1s 10ms/step - loss: 0.6397 - accuracy: 0.7621 - val_loss: 0.7551 - val_accuracy: 0.7279\n",
      "Epoch 249/500\n",
      "132/132 [==============================] - 1s 10ms/step - loss: 0.6576 - accuracy: 0.7585 - val_loss: 0.7586 - val_accuracy: 0.7279\n",
      "Epoch 250/500\n",
      "132/132 [==============================] - 1s 10ms/step - loss: 0.6753 - accuracy: 0.7501 - val_loss: 0.7765 - val_accuracy: 0.7136\n",
      "Epoch 251/500\n",
      "132/132 [==============================] - 1s 10ms/step - loss: 0.6895 - accuracy: 0.7494 - val_loss: 0.7678 - val_accuracy: 0.7165\n",
      "Epoch 252/500\n",
      "132/132 [==============================] - 1s 10ms/step - loss: 0.6771 - accuracy: 0.7505 - val_loss: 0.7534 - val_accuracy: 0.7250\n",
      "Epoch 253/500\n",
      "132/132 [==============================] - 1s 10ms/step - loss: 0.6497 - accuracy: 0.7708 - val_loss: 0.7585 - val_accuracy: 0.7326\n",
      "Epoch 254/500\n",
      "132/132 [==============================] - 1s 10ms/step - loss: 0.6376 - accuracy: 0.7690 - val_loss: 0.7572 - val_accuracy: 0.7146\n",
      "Epoch 255/500\n",
      "132/132 [==============================] - 1s 10ms/step - loss: 0.6602 - accuracy: 0.7519 - val_loss: 0.7530 - val_accuracy: 0.7260\n",
      "Epoch 256/500\n",
      "132/132 [==============================] - 1s 11ms/step - loss: 0.6326 - accuracy: 0.7694 - val_loss: 0.7561 - val_accuracy: 0.7193\n",
      "Epoch 257/500\n",
      "132/132 [==============================] - 2s 11ms/step - loss: 0.6485 - accuracy: 0.7550 - val_loss: 0.7481 - val_accuracy: 0.7317\n",
      "Epoch 258/500\n",
      "132/132 [==============================] - 1s 11ms/step - loss: 0.6322 - accuracy: 0.7652 - val_loss: 0.7540 - val_accuracy: 0.7250\n",
      "Epoch 259/500\n",
      "132/132 [==============================] - 1s 11ms/step - loss: 0.6588 - accuracy: 0.7539 - val_loss: 0.7591 - val_accuracy: 0.7250\n",
      "Epoch 260/500\n",
      "132/132 [==============================] - 1s 10ms/step - loss: 0.6393 - accuracy: 0.7661 - val_loss: 0.7671 - val_accuracy: 0.7127\n",
      "Epoch 261/500\n",
      "132/132 [==============================] - 1s 10ms/step - loss: 0.6467 - accuracy: 0.7617 - val_loss: 0.7477 - val_accuracy: 0.7269\n",
      "Epoch 262/500\n",
      "132/132 [==============================] - 1s 10ms/step - loss: 0.6493 - accuracy: 0.7613 - val_loss: 0.7526 - val_accuracy: 0.7298\n",
      "Epoch 263/500\n",
      "132/132 [==============================] - 1s 11ms/step - loss: 0.6198 - accuracy: 0.7724 - val_loss: 0.7608 - val_accuracy: 0.7165\n",
      "Epoch 264/500\n",
      "132/132 [==============================] - 2s 12ms/step - loss: 0.6418 - accuracy: 0.7592 - val_loss: 0.7502 - val_accuracy: 0.7269\n",
      "Epoch 265/500\n",
      "132/132 [==============================] - 1s 11ms/step - loss: 0.6638 - accuracy: 0.7532 - val_loss: 0.7603 - val_accuracy: 0.7155\n",
      "Epoch 266/500\n",
      "132/132 [==============================] - 1s 10ms/step - loss: 0.6356 - accuracy: 0.7701 - val_loss: 0.7405 - val_accuracy: 0.7355\n",
      "Epoch 267/500\n",
      "132/132 [==============================] - 1s 11ms/step - loss: 0.6459 - accuracy: 0.7593 - val_loss: 0.7390 - val_accuracy: 0.7345\n",
      "Epoch 268/500\n",
      "132/132 [==============================] - 1s 11ms/step - loss: 0.6620 - accuracy: 0.7661 - val_loss: 0.7481 - val_accuracy: 0.7279\n",
      "Epoch 269/500\n",
      "132/132 [==============================] - 1s 10ms/step - loss: 0.6423 - accuracy: 0.7639 - val_loss: 0.7451 - val_accuracy: 0.7298\n",
      "Epoch 270/500\n",
      "132/132 [==============================] - 1s 11ms/step - loss: 0.6457 - accuracy: 0.7613 - val_loss: 0.7556 - val_accuracy: 0.7212\n",
      "Epoch 271/500\n",
      "132/132 [==============================] - 1s 10ms/step - loss: 0.6299 - accuracy: 0.7688 - val_loss: 0.7415 - val_accuracy: 0.7326\n",
      "Epoch 272/500\n",
      "132/132 [==============================] - 1s 10ms/step - loss: 0.6492 - accuracy: 0.7605 - val_loss: 0.7429 - val_accuracy: 0.7336\n",
      "Epoch 273/500\n",
      "132/132 [==============================] - 1s 10ms/step - loss: 0.6327 - accuracy: 0.7720 - val_loss: 0.7362 - val_accuracy: 0.7288\n",
      "Epoch 274/500\n",
      "132/132 [==============================] - 1s 10ms/step - loss: 0.6481 - accuracy: 0.7572 - val_loss: 0.7360 - val_accuracy: 0.7260\n",
      "Epoch 275/500\n",
      "132/132 [==============================] - 1s 10ms/step - loss: 0.6467 - accuracy: 0.7626 - val_loss: 0.7406 - val_accuracy: 0.7288\n",
      "Epoch 276/500\n",
      "132/132 [==============================] - 1s 10ms/step - loss: 0.6079 - accuracy: 0.7748 - val_loss: 0.7394 - val_accuracy: 0.7279\n",
      "Epoch 277/500\n",
      "132/132 [==============================] - 1s 11ms/step - loss: 0.6218 - accuracy: 0.7720 - val_loss: 0.7408 - val_accuracy: 0.7307\n",
      "Epoch 278/500\n",
      "132/132 [==============================] - 1s 10ms/step - loss: 0.6222 - accuracy: 0.7647 - val_loss: 0.7345 - val_accuracy: 0.7317\n",
      "Epoch 279/500\n",
      "132/132 [==============================] - 1s 10ms/step - loss: 0.6457 - accuracy: 0.7552 - val_loss: 0.7406 - val_accuracy: 0.7383\n",
      "Epoch 280/500\n",
      "132/132 [==============================] - 1s 10ms/step - loss: 0.6341 - accuracy: 0.7670 - val_loss: 0.7378 - val_accuracy: 0.7269\n",
      "Epoch 281/500\n",
      "132/132 [==============================] - 1s 11ms/step - loss: 0.6319 - accuracy: 0.7760 - val_loss: 0.7507 - val_accuracy: 0.7184\n",
      "Epoch 282/500\n",
      "132/132 [==============================] - 2s 13ms/step - loss: 0.6467 - accuracy: 0.7623 - val_loss: 0.7388 - val_accuracy: 0.7326\n",
      "Epoch 283/500\n",
      "132/132 [==============================] - 1s 11ms/step - loss: 0.6296 - accuracy: 0.7662 - val_loss: 0.7348 - val_accuracy: 0.7307\n",
      "Epoch 284/500\n",
      "132/132 [==============================] - 1s 10ms/step - loss: 0.6339 - accuracy: 0.7638 - val_loss: 0.7342 - val_accuracy: 0.7288\n",
      "Epoch 285/500\n",
      "132/132 [==============================] - 1s 10ms/step - loss: 0.6262 - accuracy: 0.7644 - val_loss: 0.7513 - val_accuracy: 0.7279\n",
      "Epoch 286/500\n",
      "132/132 [==============================] - 1s 11ms/step - loss: 0.6386 - accuracy: 0.7560 - val_loss: 0.7286 - val_accuracy: 0.7383\n",
      "Epoch 287/500\n",
      "132/132 [==============================] - 1s 11ms/step - loss: 0.6336 - accuracy: 0.7633 - val_loss: 0.7499 - val_accuracy: 0.7184\n",
      "Epoch 288/500\n",
      "132/132 [==============================] - 1s 10ms/step - loss: 0.6271 - accuracy: 0.7697 - val_loss: 0.7261 - val_accuracy: 0.7441\n",
      "Epoch 289/500\n",
      "132/132 [==============================] - 1s 10ms/step - loss: 0.6367 - accuracy: 0.7622 - val_loss: 0.7395 - val_accuracy: 0.7269\n",
      "Epoch 290/500\n",
      "132/132 [==============================] - 1s 11ms/step - loss: 0.6397 - accuracy: 0.7654 - val_loss: 0.7391 - val_accuracy: 0.7288\n",
      "Epoch 291/500\n",
      "132/132 [==============================] - 1s 11ms/step - loss: 0.6267 - accuracy: 0.7734 - val_loss: 0.7347 - val_accuracy: 0.7231\n",
      "Epoch 292/500\n",
      "132/132 [==============================] - 1s 10ms/step - loss: 0.6352 - accuracy: 0.7716 - val_loss: 0.7389 - val_accuracy: 0.7279\n",
      "Epoch 293/500\n",
      "132/132 [==============================] - 1s 10ms/step - loss: 0.6062 - accuracy: 0.7693 - val_loss: 0.7275 - val_accuracy: 0.7326\n",
      "Epoch 294/500\n",
      "132/132 [==============================] - 1s 10ms/step - loss: 0.6009 - accuracy: 0.7816 - val_loss: 0.7184 - val_accuracy: 0.7402\n",
      "Epoch 295/500\n",
      "132/132 [==============================] - 1s 10ms/step - loss: 0.6104 - accuracy: 0.7764 - val_loss: 0.7353 - val_accuracy: 0.7317\n",
      "Epoch 296/500\n",
      "132/132 [==============================] - 1s 11ms/step - loss: 0.6178 - accuracy: 0.7740 - val_loss: 0.7244 - val_accuracy: 0.7374\n",
      "Epoch 297/500\n",
      "132/132 [==============================] - 1s 11ms/step - loss: 0.6049 - accuracy: 0.7741 - val_loss: 0.7246 - val_accuracy: 0.7326\n",
      "Epoch 298/500\n",
      "132/132 [==============================] - 1s 11ms/step - loss: 0.6143 - accuracy: 0.7791 - val_loss: 0.7215 - val_accuracy: 0.7402\n",
      "Epoch 299/500\n",
      "132/132 [==============================] - 1s 10ms/step - loss: 0.5920 - accuracy: 0.7803 - val_loss: 0.7220 - val_accuracy: 0.7383\n",
      "Epoch 300/500\n",
      "132/132 [==============================] - 1s 11ms/step - loss: 0.6128 - accuracy: 0.7664 - val_loss: 0.7227 - val_accuracy: 0.7383\n",
      "Epoch 301/500\n",
      "132/132 [==============================] - 1s 10ms/step - loss: 0.6085 - accuracy: 0.7785 - val_loss: 0.7136 - val_accuracy: 0.7422\n",
      "Epoch 302/500\n",
      "132/132 [==============================] - 1s 10ms/step - loss: 0.5963 - accuracy: 0.7783 - val_loss: 0.7308 - val_accuracy: 0.7269\n",
      "Epoch 303/500\n",
      "132/132 [==============================] - 1s 10ms/step - loss: 0.6041 - accuracy: 0.7807 - val_loss: 0.7172 - val_accuracy: 0.7402\n",
      "Epoch 304/500\n",
      "132/132 [==============================] - 1s 10ms/step - loss: 0.6154 - accuracy: 0.7702 - val_loss: 0.7270 - val_accuracy: 0.7326\n",
      "Epoch 305/500\n",
      "132/132 [==============================] - 1s 10ms/step - loss: 0.6026 - accuracy: 0.7712 - val_loss: 0.7113 - val_accuracy: 0.7488\n",
      "Epoch 306/500\n",
      "132/132 [==============================] - 1s 11ms/step - loss: 0.6157 - accuracy: 0.7745 - val_loss: 0.7143 - val_accuracy: 0.7374\n",
      "Epoch 307/500\n",
      "132/132 [==============================] - 1s 10ms/step - loss: 0.6571 - accuracy: 0.7503 - val_loss: 0.7201 - val_accuracy: 0.7441\n",
      "Epoch 308/500\n",
      "132/132 [==============================] - 1s 10ms/step - loss: 0.5970 - accuracy: 0.7807 - val_loss: 0.7202 - val_accuracy: 0.7374\n",
      "Epoch 309/500\n",
      "132/132 [==============================] - 1s 10ms/step - loss: 0.6132 - accuracy: 0.7766 - val_loss: 0.7179 - val_accuracy: 0.7488\n",
      "Epoch 310/500\n",
      "132/132 [==============================] - 1s 10ms/step - loss: 0.6011 - accuracy: 0.7744 - val_loss: 0.7151 - val_accuracy: 0.7345\n",
      "Epoch 311/500\n",
      "132/132 [==============================] - 1s 10ms/step - loss: 0.5817 - accuracy: 0.7837 - val_loss: 0.7142 - val_accuracy: 0.7460\n",
      "Epoch 312/500\n",
      "132/132 [==============================] - 1s 11ms/step - loss: 0.6107 - accuracy: 0.7834 - val_loss: 0.7082 - val_accuracy: 0.7412\n",
      "Epoch 313/500\n",
      "132/132 [==============================] - 1s 11ms/step - loss: 0.5963 - accuracy: 0.7771 - val_loss: 0.7211 - val_accuracy: 0.7326\n",
      "Epoch 314/500\n",
      "132/132 [==============================] - 1s 11ms/step - loss: 0.6052 - accuracy: 0.7678 - val_loss: 0.7082 - val_accuracy: 0.7431\n",
      "Epoch 315/500\n",
      "132/132 [==============================] - 1s 11ms/step - loss: 0.5907 - accuracy: 0.7897 - val_loss: 0.7135 - val_accuracy: 0.7441\n",
      "Epoch 316/500\n",
      "132/132 [==============================] - 1s 10ms/step - loss: 0.5986 - accuracy: 0.7756 - val_loss: 0.7118 - val_accuracy: 0.7450\n",
      "Epoch 317/500\n",
      "132/132 [==============================] - 1s 11ms/step - loss: 0.6036 - accuracy: 0.7781 - val_loss: 0.7167 - val_accuracy: 0.7412\n",
      "Epoch 318/500\n",
      "132/132 [==============================] - 1s 10ms/step - loss: 0.6096 - accuracy: 0.7697 - val_loss: 0.7167 - val_accuracy: 0.7364\n",
      "Epoch 319/500\n",
      "132/132 [==============================] - 1s 10ms/step - loss: 0.6054 - accuracy: 0.7694 - val_loss: 0.7105 - val_accuracy: 0.7402\n",
      "Epoch 320/500\n",
      "132/132 [==============================] - 1s 10ms/step - loss: 0.6001 - accuracy: 0.7748 - val_loss: 0.7100 - val_accuracy: 0.7441\n",
      "Epoch 321/500\n",
      "132/132 [==============================] - 1s 11ms/step - loss: 0.5899 - accuracy: 0.7815 - val_loss: 0.7111 - val_accuracy: 0.7441\n",
      "Epoch 322/500\n",
      "132/132 [==============================] - 1s 10ms/step - loss: 0.5905 - accuracy: 0.7847 - val_loss: 0.7051 - val_accuracy: 0.7526\n",
      "Epoch 323/500\n",
      "132/132 [==============================] - 1s 10ms/step - loss: 0.6055 - accuracy: 0.7733 - val_loss: 0.7097 - val_accuracy: 0.7441\n",
      "Epoch 324/500\n",
      "132/132 [==============================] - 1s 10ms/step - loss: 0.5871 - accuracy: 0.7864 - val_loss: 0.7069 - val_accuracy: 0.7393\n",
      "Epoch 325/500\n",
      "132/132 [==============================] - 1s 10ms/step - loss: 0.6034 - accuracy: 0.7771 - val_loss: 0.7002 - val_accuracy: 0.7498\n",
      "Epoch 326/500\n",
      "132/132 [==============================] - 2s 11ms/step - loss: 0.6052 - accuracy: 0.7744 - val_loss: 0.7101 - val_accuracy: 0.7298\n",
      "Epoch 327/500\n",
      "132/132 [==============================] - 1s 11ms/step - loss: 0.5940 - accuracy: 0.7720 - val_loss: 0.7060 - val_accuracy: 0.7450\n",
      "Epoch 328/500\n",
      "132/132 [==============================] - 2s 12ms/step - loss: 0.5524 - accuracy: 0.7979 - val_loss: 0.7057 - val_accuracy: 0.7393\n",
      "Epoch 329/500\n",
      "132/132 [==============================] - 1s 11ms/step - loss: 0.6086 - accuracy: 0.7676 - val_loss: 0.7073 - val_accuracy: 0.7345\n",
      "Epoch 330/500\n",
      "132/132 [==============================] - 1s 11ms/step - loss: 0.5999 - accuracy: 0.7682 - val_loss: 0.7069 - val_accuracy: 0.7402\n",
      "Epoch 331/500\n",
      "132/132 [==============================] - 1s 11ms/step - loss: 0.5938 - accuracy: 0.7813 - val_loss: 0.7066 - val_accuracy: 0.7422\n",
      "Epoch 332/500\n",
      "132/132 [==============================] - 1s 10ms/step - loss: 0.6072 - accuracy: 0.7823 - val_loss: 0.7052 - val_accuracy: 0.7412\n",
      "Epoch 333/500\n",
      "132/132 [==============================] - 2s 12ms/step - loss: 0.5837 - accuracy: 0.7861 - val_loss: 0.7049 - val_accuracy: 0.7422\n",
      "Epoch 334/500\n",
      "132/132 [==============================] - 1s 11ms/step - loss: 0.5813 - accuracy: 0.7812 - val_loss: 0.7013 - val_accuracy: 0.7393\n",
      "Epoch 335/500\n",
      "132/132 [==============================] - 1s 11ms/step - loss: 0.5869 - accuracy: 0.7855 - val_loss: 0.7074 - val_accuracy: 0.7431\n",
      "Epoch 336/500\n",
      "132/132 [==============================] - 1s 10ms/step - loss: 0.5937 - accuracy: 0.7893 - val_loss: 0.6964 - val_accuracy: 0.7488\n",
      "Epoch 337/500\n",
      "132/132 [==============================] - 2s 12ms/step - loss: 0.5921 - accuracy: 0.7797 - val_loss: 0.7108 - val_accuracy: 0.7383\n",
      "Epoch 338/500\n",
      "132/132 [==============================] - 1s 11ms/step - loss: 0.5828 - accuracy: 0.7889 - val_loss: 0.7096 - val_accuracy: 0.7460\n",
      "Epoch 339/500\n",
      "132/132 [==============================] - 1s 11ms/step - loss: 0.5966 - accuracy: 0.7824 - val_loss: 0.7088 - val_accuracy: 0.7412\n",
      "Epoch 340/500\n",
      "132/132 [==============================] - 1s 11ms/step - loss: 0.5750 - accuracy: 0.7907 - val_loss: 0.6946 - val_accuracy: 0.7460\n",
      "Epoch 341/500\n",
      "132/132 [==============================] - 2s 12ms/step - loss: 0.5698 - accuracy: 0.7856 - val_loss: 0.6869 - val_accuracy: 0.7536\n",
      "Epoch 342/500\n",
      "132/132 [==============================] - 2s 12ms/step - loss: 0.6000 - accuracy: 0.7759 - val_loss: 0.7048 - val_accuracy: 0.7441\n",
      "Epoch 343/500\n",
      "132/132 [==============================] - 1s 11ms/step - loss: 0.5659 - accuracy: 0.7896 - val_loss: 0.6954 - val_accuracy: 0.7488\n",
      "Epoch 344/500\n",
      "132/132 [==============================] - 1s 11ms/step - loss: 0.5749 - accuracy: 0.7861 - val_loss: 0.7154 - val_accuracy: 0.7298\n",
      "Epoch 345/500\n",
      "132/132 [==============================] - 2s 12ms/step - loss: 0.5911 - accuracy: 0.7812 - val_loss: 0.6988 - val_accuracy: 0.7402\n",
      "Epoch 346/500\n",
      "132/132 [==============================] - 1s 11ms/step - loss: 0.5628 - accuracy: 0.7963 - val_loss: 0.7075 - val_accuracy: 0.7422\n",
      "Epoch 347/500\n",
      "132/132 [==============================] - 1s 10ms/step - loss: 0.5825 - accuracy: 0.7841 - val_loss: 0.7108 - val_accuracy: 0.7374\n",
      "Epoch 348/500\n",
      "132/132 [==============================] - 1s 11ms/step - loss: 0.5667 - accuracy: 0.7885 - val_loss: 0.7068 - val_accuracy: 0.7336\n",
      "Epoch 349/500\n",
      "132/132 [==============================] - 2s 12ms/step - loss: 0.5755 - accuracy: 0.7888 - val_loss: 0.6971 - val_accuracy: 0.7441\n",
      "Epoch 350/500\n",
      "132/132 [==============================] - 1s 11ms/step - loss: 0.5815 - accuracy: 0.7884 - val_loss: 0.7010 - val_accuracy: 0.7383\n",
      "Epoch 351/500\n",
      "132/132 [==============================] - 1s 11ms/step - loss: 0.5908 - accuracy: 0.7796 - val_loss: 0.6910 - val_accuracy: 0.7450\n",
      "Epoch 352/500\n",
      "132/132 [==============================] - 1s 11ms/step - loss: 0.5773 - accuracy: 0.7893 - val_loss: 0.6973 - val_accuracy: 0.7460\n",
      "Epoch 353/500\n",
      "132/132 [==============================] - 2s 12ms/step - loss: 0.5712 - accuracy: 0.7922 - val_loss: 0.7026 - val_accuracy: 0.7526\n",
      "Epoch 354/500\n",
      "132/132 [==============================] - 2s 12ms/step - loss: 0.5442 - accuracy: 0.7923 - val_loss: 0.6884 - val_accuracy: 0.7507\n",
      "Epoch 355/500\n",
      "132/132 [==============================] - 1s 11ms/step - loss: 0.5762 - accuracy: 0.7827 - val_loss: 0.6926 - val_accuracy: 0.7450\n",
      "Epoch 356/500\n",
      "132/132 [==============================] - 2s 11ms/step - loss: 0.5701 - accuracy: 0.7893 - val_loss: 0.6860 - val_accuracy: 0.7469\n",
      "Epoch 357/500\n",
      "132/132 [==============================] - 1s 11ms/step - loss: 0.5748 - accuracy: 0.7848 - val_loss: 0.6871 - val_accuracy: 0.7507\n",
      "Epoch 358/500\n",
      "132/132 [==============================] - 1s 11ms/step - loss: 0.5986 - accuracy: 0.7844 - val_loss: 0.7050 - val_accuracy: 0.7441\n",
      "Epoch 359/500\n",
      "132/132 [==============================] - 1s 10ms/step - loss: 0.5802 - accuracy: 0.7817 - val_loss: 0.6988 - val_accuracy: 0.7469\n",
      "Epoch 360/500\n",
      "132/132 [==============================] - 1s 10ms/step - loss: 0.5533 - accuracy: 0.7999 - val_loss: 0.6894 - val_accuracy: 0.7564\n",
      "Epoch 361/500\n",
      "132/132 [==============================] - 1s 11ms/step - loss: 0.5723 - accuracy: 0.7838 - val_loss: 0.6898 - val_accuracy: 0.7441\n",
      "Epoch 362/500\n",
      "132/132 [==============================] - 1s 10ms/step - loss: 0.5765 - accuracy: 0.7817 - val_loss: 0.6848 - val_accuracy: 0.7536\n",
      "Epoch 363/500\n",
      "132/132 [==============================] - 1s 10ms/step - loss: 0.5669 - accuracy: 0.7932 - val_loss: 0.6862 - val_accuracy: 0.7574\n",
      "Epoch 364/500\n",
      "132/132 [==============================] - 1s 10ms/step - loss: 0.5291 - accuracy: 0.8036 - val_loss: 0.6890 - val_accuracy: 0.7488\n",
      "Epoch 365/500\n",
      "132/132 [==============================] - 1s 11ms/step - loss: 0.5603 - accuracy: 0.7890 - val_loss: 0.6862 - val_accuracy: 0.7488\n",
      "Epoch 366/500\n",
      "132/132 [==============================] - 1s 11ms/step - loss: 0.5554 - accuracy: 0.7875 - val_loss: 0.6841 - val_accuracy: 0.7498\n",
      "Epoch 367/500\n",
      "132/132 [==============================] - 1s 11ms/step - loss: 0.5532 - accuracy: 0.7944 - val_loss: 0.6926 - val_accuracy: 0.7498\n",
      "Epoch 368/500\n",
      "132/132 [==============================] - 2s 12ms/step - loss: 0.5410 - accuracy: 0.8002 - val_loss: 0.6943 - val_accuracy: 0.7450\n",
      "Epoch 369/500\n",
      "132/132 [==============================] - 2s 11ms/step - loss: 0.5482 - accuracy: 0.7983 - val_loss: 0.6915 - val_accuracy: 0.7536\n",
      "Epoch 370/500\n",
      "132/132 [==============================] - 1s 11ms/step - loss: 0.5711 - accuracy: 0.7883 - val_loss: 0.6948 - val_accuracy: 0.7431\n",
      "Epoch 371/500\n",
      "132/132 [==============================] - 1s 10ms/step - loss: 0.5741 - accuracy: 0.7805 - val_loss: 0.6964 - val_accuracy: 0.7469\n",
      "Epoch 372/500\n",
      "132/132 [==============================] - 1s 10ms/step - loss: 0.5654 - accuracy: 0.7900 - val_loss: 0.6838 - val_accuracy: 0.7564\n",
      "Epoch 373/500\n",
      "132/132 [==============================] - 1s 11ms/step - loss: 0.5615 - accuracy: 0.7910 - val_loss: 0.6989 - val_accuracy: 0.7536\n",
      "Epoch 374/500\n",
      "132/132 [==============================] - 1s 11ms/step - loss: 0.5721 - accuracy: 0.7893 - val_loss: 0.6871 - val_accuracy: 0.7507\n",
      "Epoch 375/500\n",
      "132/132 [==============================] - 1s 11ms/step - loss: 0.5863 - accuracy: 0.7785 - val_loss: 0.6904 - val_accuracy: 0.7460\n",
      "Epoch 376/500\n",
      "132/132 [==============================] - 1s 11ms/step - loss: 0.5638 - accuracy: 0.7927 - val_loss: 0.6908 - val_accuracy: 0.7469\n",
      "Epoch 377/500\n",
      "132/132 [==============================] - 1s 11ms/step - loss: 0.5560 - accuracy: 0.7959 - val_loss: 0.6792 - val_accuracy: 0.7536\n",
      "Epoch 378/500\n",
      "132/132 [==============================] - 1s 11ms/step - loss: 0.5762 - accuracy: 0.7912 - val_loss: 0.6964 - val_accuracy: 0.7374\n",
      "Epoch 379/500\n",
      "132/132 [==============================] - 1s 11ms/step - loss: 0.5388 - accuracy: 0.7979 - val_loss: 0.6857 - val_accuracy: 0.7479\n",
      "Epoch 380/500\n",
      "132/132 [==============================] - 1s 11ms/step - loss: 0.5958 - accuracy: 0.7704 - val_loss: 0.6908 - val_accuracy: 0.7583\n",
      "Epoch 381/500\n",
      "132/132 [==============================] - 2s 12ms/step - loss: 0.5373 - accuracy: 0.7966 - val_loss: 0.6864 - val_accuracy: 0.7488\n",
      "Epoch 382/500\n",
      "132/132 [==============================] - 1s 11ms/step - loss: 0.5431 - accuracy: 0.7992 - val_loss: 0.6863 - val_accuracy: 0.7507\n",
      "Epoch 383/500\n",
      "132/132 [==============================] - 2s 12ms/step - loss: 0.5445 - accuracy: 0.7922 - val_loss: 0.6883 - val_accuracy: 0.7488\n",
      "Epoch 384/500\n",
      "132/132 [==============================] - 1s 11ms/step - loss: 0.5530 - accuracy: 0.7904 - val_loss: 0.6815 - val_accuracy: 0.7441\n",
      "Epoch 385/500\n",
      "132/132 [==============================] - 1s 10ms/step - loss: 0.5267 - accuracy: 0.7995 - val_loss: 0.6724 - val_accuracy: 0.7574\n",
      "Epoch 386/500\n",
      "132/132 [==============================] - 2s 12ms/step - loss: 0.5533 - accuracy: 0.8047 - val_loss: 0.6816 - val_accuracy: 0.7574\n",
      "Epoch 387/500\n",
      "132/132 [==============================] - 1s 11ms/step - loss: 0.5503 - accuracy: 0.8031 - val_loss: 0.6819 - val_accuracy: 0.7517\n",
      "Epoch 388/500\n",
      "132/132 [==============================] - 1s 11ms/step - loss: 0.5582 - accuracy: 0.7870 - val_loss: 0.6831 - val_accuracy: 0.7498\n",
      "Epoch 389/500\n",
      "132/132 [==============================] - 1s 11ms/step - loss: 0.5310 - accuracy: 0.8002 - val_loss: 0.6751 - val_accuracy: 0.7574\n",
      "Epoch 390/500\n",
      "132/132 [==============================] - 1s 10ms/step - loss: 0.5441 - accuracy: 0.7934 - val_loss: 0.6805 - val_accuracy: 0.7536\n",
      "Epoch 391/500\n",
      "132/132 [==============================] - 1s 11ms/step - loss: 0.5494 - accuracy: 0.7948 - val_loss: 0.6746 - val_accuracy: 0.7507\n",
      "Epoch 392/500\n",
      "132/132 [==============================] - 1s 11ms/step - loss: 0.5392 - accuracy: 0.7962 - val_loss: 0.6841 - val_accuracy: 0.7536\n",
      "Epoch 393/500\n",
      "132/132 [==============================] - 1s 11ms/step - loss: 0.5216 - accuracy: 0.7997 - val_loss: 0.6734 - val_accuracy: 0.7583\n",
      "Epoch 394/500\n",
      "132/132 [==============================] - 2s 12ms/step - loss: 0.5626 - accuracy: 0.7864 - val_loss: 0.6714 - val_accuracy: 0.7564\n",
      "Epoch 395/500\n",
      "132/132 [==============================] - 2s 12ms/step - loss: 0.5385 - accuracy: 0.7984 - val_loss: 0.6794 - val_accuracy: 0.7479\n",
      "Epoch 396/500\n",
      "132/132 [==============================] - 1s 11ms/step - loss: 0.5368 - accuracy: 0.7941 - val_loss: 0.6704 - val_accuracy: 0.7564\n",
      "Epoch 397/500\n",
      "132/132 [==============================] - 1s 11ms/step - loss: 0.5453 - accuracy: 0.7974 - val_loss: 0.6797 - val_accuracy: 0.7479\n",
      "Epoch 398/500\n",
      "132/132 [==============================] - 1s 11ms/step - loss: 0.5302 - accuracy: 0.8011 - val_loss: 0.6685 - val_accuracy: 0.7659\n",
      "Epoch 399/500\n",
      "132/132 [==============================] - 2s 12ms/step - loss: 0.5368 - accuracy: 0.7903 - val_loss: 0.6805 - val_accuracy: 0.7659\n",
      "Epoch 400/500\n",
      "132/132 [==============================] - 1s 10ms/step - loss: 0.5199 - accuracy: 0.8067 - val_loss: 0.6890 - val_accuracy: 0.7517\n",
      "Epoch 401/500\n",
      "132/132 [==============================] - 1s 10ms/step - loss: 0.5401 - accuracy: 0.7968 - val_loss: 0.6729 - val_accuracy: 0.7526\n",
      "Epoch 402/500\n",
      "132/132 [==============================] - 1s 10ms/step - loss: 0.5446 - accuracy: 0.7921 - val_loss: 0.6746 - val_accuracy: 0.7507\n",
      "Epoch 403/500\n",
      "132/132 [==============================] - 1s 11ms/step - loss: 0.5187 - accuracy: 0.8052 - val_loss: 0.6810 - val_accuracy: 0.7536\n",
      "Epoch 404/500\n",
      "132/132 [==============================] - 1s 11ms/step - loss: 0.5641 - accuracy: 0.7909 - val_loss: 0.6803 - val_accuracy: 0.7498\n",
      "Epoch 405/500\n",
      "132/132 [==============================] - 1s 11ms/step - loss: 0.5284 - accuracy: 0.8102 - val_loss: 0.6781 - val_accuracy: 0.7574\n",
      "Epoch 406/500\n",
      "132/132 [==============================] - 1s 10ms/step - loss: 0.5174 - accuracy: 0.8092 - val_loss: 0.6748 - val_accuracy: 0.7536\n",
      "Epoch 407/500\n",
      "132/132 [==============================] - 1s 11ms/step - loss: 0.5578 - accuracy: 0.7921 - val_loss: 0.6829 - val_accuracy: 0.7498\n",
      "Epoch 408/500\n",
      "132/132 [==============================] - 1s 11ms/step - loss: 0.5062 - accuracy: 0.8166 - val_loss: 0.6734 - val_accuracy: 0.7469\n",
      "Epoch 409/500\n",
      "132/132 [==============================] - 1s 11ms/step - loss: 0.5472 - accuracy: 0.8047 - val_loss: 0.6736 - val_accuracy: 0.7564\n",
      "Epoch 410/500\n",
      "132/132 [==============================] - 2s 12ms/step - loss: 0.5027 - accuracy: 0.8144 - val_loss: 0.6692 - val_accuracy: 0.7583\n",
      "Epoch 411/500\n",
      "132/132 [==============================] - 1s 11ms/step - loss: 0.5308 - accuracy: 0.8018 - val_loss: 0.6695 - val_accuracy: 0.7488\n",
      "Epoch 412/500\n",
      "132/132 [==============================] - 1s 11ms/step - loss: 0.5427 - accuracy: 0.7941 - val_loss: 0.6663 - val_accuracy: 0.7612\n",
      "Epoch 413/500\n",
      "132/132 [==============================] - 1s 11ms/step - loss: 0.5251 - accuracy: 0.8042 - val_loss: 0.6780 - val_accuracy: 0.7574\n",
      "Epoch 414/500\n",
      "132/132 [==============================] - 2s 12ms/step - loss: 0.5459 - accuracy: 0.7988 - val_loss: 0.6748 - val_accuracy: 0.7564\n",
      "Epoch 415/500\n",
      "132/132 [==============================] - 1s 11ms/step - loss: 0.5202 - accuracy: 0.8058 - val_loss: 0.6747 - val_accuracy: 0.7555\n",
      "Epoch 416/500\n",
      "132/132 [==============================] - 1s 10ms/step - loss: 0.5556 - accuracy: 0.7978 - val_loss: 0.6797 - val_accuracy: 0.7517\n",
      "Epoch 417/500\n",
      "132/132 [==============================] - 1s 10ms/step - loss: 0.5302 - accuracy: 0.8011 - val_loss: 0.6836 - val_accuracy: 0.7555\n",
      "Epoch 418/500\n",
      "132/132 [==============================] - 1s 11ms/step - loss: 0.5383 - accuracy: 0.7964 - val_loss: 0.6819 - val_accuracy: 0.7526\n",
      "Epoch 419/500\n",
      "132/132 [==============================] - 1s 10ms/step - loss: 0.5319 - accuracy: 0.8001 - val_loss: 0.6656 - val_accuracy: 0.7621\n",
      "Epoch 420/500\n",
      "132/132 [==============================] - 1s 10ms/step - loss: 0.5318 - accuracy: 0.7983 - val_loss: 0.6700 - val_accuracy: 0.7574\n",
      "Epoch 421/500\n",
      "132/132 [==============================] - 1s 11ms/step - loss: 0.5354 - accuracy: 0.8042 - val_loss: 0.6616 - val_accuracy: 0.7536\n",
      "Epoch 422/500\n",
      "132/132 [==============================] - 2s 12ms/step - loss: 0.5372 - accuracy: 0.7981 - val_loss: 0.6774 - val_accuracy: 0.7450\n",
      "Epoch 423/500\n",
      "132/132 [==============================] - 1s 11ms/step - loss: 0.5039 - accuracy: 0.8145 - val_loss: 0.6736 - val_accuracy: 0.7602\n",
      "Epoch 424/500\n",
      "132/132 [==============================] - 1s 11ms/step - loss: 0.5215 - accuracy: 0.8080 - val_loss: 0.6724 - val_accuracy: 0.7555\n",
      "Epoch 425/500\n",
      "132/132 [==============================] - 1s 11ms/step - loss: 0.5137 - accuracy: 0.8111 - val_loss: 0.6675 - val_accuracy: 0.7602\n",
      "Epoch 426/500\n",
      "132/132 [==============================] - 2s 12ms/step - loss: 0.5360 - accuracy: 0.8073 - val_loss: 0.6636 - val_accuracy: 0.7640\n",
      "Epoch 427/500\n",
      "132/132 [==============================] - 1s 11ms/step - loss: 0.5218 - accuracy: 0.8054 - val_loss: 0.6731 - val_accuracy: 0.7498\n",
      "Epoch 428/500\n",
      "132/132 [==============================] - 1s 11ms/step - loss: 0.5142 - accuracy: 0.8140 - val_loss: 0.6747 - val_accuracy: 0.7593\n",
      "Epoch 429/500\n",
      "132/132 [==============================] - 1s 11ms/step - loss: 0.5120 - accuracy: 0.8143 - val_loss: 0.6597 - val_accuracy: 0.7640\n",
      "Epoch 430/500\n",
      "132/132 [==============================] - 2s 11ms/step - loss: 0.5167 - accuracy: 0.8087 - val_loss: 0.6710 - val_accuracy: 0.7631\n",
      "Epoch 431/500\n",
      "132/132 [==============================] - 1s 11ms/step - loss: 0.5006 - accuracy: 0.8138 - val_loss: 0.6590 - val_accuracy: 0.7678\n",
      "Epoch 432/500\n",
      "132/132 [==============================] - 2s 12ms/step - loss: 0.5161 - accuracy: 0.8066 - val_loss: 0.6794 - val_accuracy: 0.7536\n",
      "Epoch 433/500\n",
      "132/132 [==============================] - 1s 11ms/step - loss: 0.5317 - accuracy: 0.7970 - val_loss: 0.6790 - val_accuracy: 0.7507\n",
      "Epoch 434/500\n",
      "132/132 [==============================] - 2s 11ms/step - loss: 0.4922 - accuracy: 0.8161 - val_loss: 0.6631 - val_accuracy: 0.7688\n",
      "Epoch 435/500\n",
      "132/132 [==============================] - 1s 11ms/step - loss: 0.5102 - accuracy: 0.8090 - val_loss: 0.6566 - val_accuracy: 0.7650\n",
      "Epoch 436/500\n",
      "132/132 [==============================] - 2s 12ms/step - loss: 0.5228 - accuracy: 0.8124 - val_loss: 0.6696 - val_accuracy: 0.7593\n",
      "Epoch 437/500\n",
      "132/132 [==============================] - 1s 10ms/step - loss: 0.5150 - accuracy: 0.8092 - val_loss: 0.6716 - val_accuracy: 0.7564\n",
      "Epoch 438/500\n",
      "132/132 [==============================] - 1s 11ms/step - loss: 0.5106 - accuracy: 0.8152 - val_loss: 0.6646 - val_accuracy: 0.7650\n",
      "Epoch 439/500\n",
      "132/132 [==============================] - 1s 10ms/step - loss: 0.4963 - accuracy: 0.8183 - val_loss: 0.6717 - val_accuracy: 0.7583\n",
      "Epoch 440/500\n",
      "132/132 [==============================] - 1s 11ms/step - loss: 0.5168 - accuracy: 0.8028 - val_loss: 0.6670 - val_accuracy: 0.7631\n",
      "Epoch 441/500\n",
      "132/132 [==============================] - 1s 11ms/step - loss: 0.5124 - accuracy: 0.8085 - val_loss: 0.6631 - val_accuracy: 0.7669\n",
      "Epoch 442/500\n",
      "132/132 [==============================] - 1s 11ms/step - loss: 0.4920 - accuracy: 0.8193 - val_loss: 0.6639 - val_accuracy: 0.7612\n",
      "Epoch 443/500\n",
      "132/132 [==============================] - 1s 11ms/step - loss: 0.5092 - accuracy: 0.8080 - val_loss: 0.6754 - val_accuracy: 0.7593\n",
      "Epoch 444/500\n",
      "132/132 [==============================] - 1s 11ms/step - loss: 0.4984 - accuracy: 0.8166 - val_loss: 0.6619 - val_accuracy: 0.7593\n",
      "Epoch 445/500\n",
      "132/132 [==============================] - 1s 11ms/step - loss: 0.5149 - accuracy: 0.8004 - val_loss: 0.6597 - val_accuracy: 0.7640\n",
      "Epoch 446/500\n",
      "132/132 [==============================] - 1s 11ms/step - loss: 0.4899 - accuracy: 0.8234 - val_loss: 0.6657 - val_accuracy: 0.7697\n",
      "Epoch 447/500\n",
      "132/132 [==============================] - 1s 11ms/step - loss: 0.5206 - accuracy: 0.8065 - val_loss: 0.6814 - val_accuracy: 0.7526\n",
      "Epoch 448/500\n",
      "132/132 [==============================] - 1s 11ms/step - loss: 0.4918 - accuracy: 0.8068 - val_loss: 0.6693 - val_accuracy: 0.7621\n",
      "Epoch 449/500\n",
      "132/132 [==============================] - 2s 11ms/step - loss: 0.5064 - accuracy: 0.8082 - val_loss: 0.6615 - val_accuracy: 0.7621\n",
      "Epoch 450/500\n",
      "132/132 [==============================] - 1s 10ms/step - loss: 0.4838 - accuracy: 0.8130 - val_loss: 0.6618 - val_accuracy: 0.7669\n",
      "Epoch 451/500\n",
      "132/132 [==============================] - 1s 10ms/step - loss: 0.5314 - accuracy: 0.8025 - val_loss: 0.6630 - val_accuracy: 0.7697\n",
      "Epoch 452/500\n",
      "132/132 [==============================] - 1s 11ms/step - loss: 0.4922 - accuracy: 0.8182 - val_loss: 0.6546 - val_accuracy: 0.7650\n",
      "Epoch 453/500\n",
      "132/132 [==============================] - 1s 11ms/step - loss: 0.4792 - accuracy: 0.8294 - val_loss: 0.6651 - val_accuracy: 0.7564\n",
      "Epoch 454/500\n",
      "132/132 [==============================] - 2s 11ms/step - loss: 0.5035 - accuracy: 0.8138 - val_loss: 0.6756 - val_accuracy: 0.7602\n",
      "Epoch 455/500\n",
      "132/132 [==============================] - 1s 10ms/step - loss: 0.4997 - accuracy: 0.8193 - val_loss: 0.6527 - val_accuracy: 0.7707\n",
      "Epoch 456/500\n",
      "132/132 [==============================] - 1s 10ms/step - loss: 0.5067 - accuracy: 0.8146 - val_loss: 0.6585 - val_accuracy: 0.7707\n",
      "Epoch 457/500\n",
      "132/132 [==============================] - 1s 10ms/step - loss: 0.4910 - accuracy: 0.8174 - val_loss: 0.6554 - val_accuracy: 0.7707\n",
      "Epoch 458/500\n",
      "132/132 [==============================] - 1s 11ms/step - loss: 0.5075 - accuracy: 0.8140 - val_loss: 0.6690 - val_accuracy: 0.7555\n",
      "Epoch 459/500\n",
      "132/132 [==============================] - 1s 11ms/step - loss: 0.5161 - accuracy: 0.8041 - val_loss: 0.6611 - val_accuracy: 0.7678\n",
      "Epoch 460/500\n",
      "132/132 [==============================] - 1s 11ms/step - loss: 0.4782 - accuracy: 0.8255 - val_loss: 0.6522 - val_accuracy: 0.7640\n",
      "Epoch 461/500\n",
      "132/132 [==============================] - 1s 11ms/step - loss: 0.4912 - accuracy: 0.8179 - val_loss: 0.6605 - val_accuracy: 0.7697\n",
      "Epoch 462/500\n",
      "132/132 [==============================] - 2s 12ms/step - loss: 0.5248 - accuracy: 0.8001 - val_loss: 0.6597 - val_accuracy: 0.7678\n",
      "Epoch 463/500\n",
      "132/132 [==============================] - 2s 11ms/step - loss: 0.5177 - accuracy: 0.8085 - val_loss: 0.6612 - val_accuracy: 0.7716\n",
      "Epoch 464/500\n",
      "132/132 [==============================] - 2s 12ms/step - loss: 0.5068 - accuracy: 0.8136 - val_loss: 0.6565 - val_accuracy: 0.7650\n",
      "Epoch 465/500\n",
      "132/132 [==============================] - 2s 12ms/step - loss: 0.4926 - accuracy: 0.8239 - val_loss: 0.6595 - val_accuracy: 0.7564\n",
      "Epoch 466/500\n",
      "132/132 [==============================] - 1s 11ms/step - loss: 0.4810 - accuracy: 0.8233 - val_loss: 0.6570 - val_accuracy: 0.7669\n",
      "Epoch 467/500\n",
      "132/132 [==============================] - 1s 11ms/step - loss: 0.4852 - accuracy: 0.8146 - val_loss: 0.6538 - val_accuracy: 0.7678\n",
      "Epoch 468/500\n",
      "132/132 [==============================] - 1s 10ms/step - loss: 0.4911 - accuracy: 0.8205 - val_loss: 0.6540 - val_accuracy: 0.7726\n",
      "Epoch 469/500\n",
      "132/132 [==============================] - 1s 11ms/step - loss: 0.4832 - accuracy: 0.8244 - val_loss: 0.6493 - val_accuracy: 0.7735\n",
      "Epoch 470/500\n",
      "132/132 [==============================] - 2s 12ms/step - loss: 0.4849 - accuracy: 0.8169 - val_loss: 0.6687 - val_accuracy: 0.7574\n",
      "Epoch 471/500\n",
      "132/132 [==============================] - 1s 11ms/step - loss: 0.5133 - accuracy: 0.8133 - val_loss: 0.6599 - val_accuracy: 0.7669\n",
      "Epoch 472/500\n",
      "132/132 [==============================] - 1s 11ms/step - loss: 0.5022 - accuracy: 0.8147 - val_loss: 0.6490 - val_accuracy: 0.7735\n",
      "Epoch 473/500\n",
      "132/132 [==============================] - 1s 11ms/step - loss: 0.4759 - accuracy: 0.8197 - val_loss: 0.6520 - val_accuracy: 0.7678\n",
      "Epoch 474/500\n",
      "132/132 [==============================] - 1s 11ms/step - loss: 0.4854 - accuracy: 0.8225 - val_loss: 0.6645 - val_accuracy: 0.7555\n",
      "Epoch 475/500\n",
      "132/132 [==============================] - 1s 11ms/step - loss: 0.4949 - accuracy: 0.8150 - val_loss: 0.6558 - val_accuracy: 0.7669\n",
      "Epoch 476/500\n",
      "132/132 [==============================] - 1s 11ms/step - loss: 0.4785 - accuracy: 0.8263 - val_loss: 0.6521 - val_accuracy: 0.7669\n",
      "Epoch 477/500\n",
      "132/132 [==============================] - 2s 11ms/step - loss: 0.4853 - accuracy: 0.8181 - val_loss: 0.6551 - val_accuracy: 0.7612\n",
      "Epoch 478/500\n",
      "132/132 [==============================] - 1s 11ms/step - loss: 0.4848 - accuracy: 0.8180 - val_loss: 0.6595 - val_accuracy: 0.7650\n",
      "Epoch 479/500\n",
      "132/132 [==============================] - 1s 10ms/step - loss: 0.5110 - accuracy: 0.8137 - val_loss: 0.6577 - val_accuracy: 0.7697\n",
      "Epoch 480/500\n",
      "132/132 [==============================] - 1s 11ms/step - loss: 0.4702 - accuracy: 0.8297 - val_loss: 0.6572 - val_accuracy: 0.7602\n",
      "Epoch 481/500\n",
      "132/132 [==============================] - 1s 11ms/step - loss: 0.4773 - accuracy: 0.8246 - val_loss: 0.6536 - val_accuracy: 0.7678\n",
      "Epoch 482/500\n",
      "132/132 [==============================] - 1s 11ms/step - loss: 0.4918 - accuracy: 0.8151 - val_loss: 0.6485 - val_accuracy: 0.7678\n",
      "Epoch 483/500\n",
      "132/132 [==============================] - 1s 11ms/step - loss: 0.4972 - accuracy: 0.8196 - val_loss: 0.6382 - val_accuracy: 0.7735\n",
      "Epoch 484/500\n",
      "132/132 [==============================] - 1s 11ms/step - loss: 0.4528 - accuracy: 0.8346 - val_loss: 0.6465 - val_accuracy: 0.7688\n",
      "Epoch 485/500\n",
      "132/132 [==============================] - 1s 11ms/step - loss: 0.4728 - accuracy: 0.8237 - val_loss: 0.6491 - val_accuracy: 0.7640\n",
      "Epoch 486/500\n",
      "132/132 [==============================] - 2s 11ms/step - loss: 0.4971 - accuracy: 0.8155 - val_loss: 0.6443 - val_accuracy: 0.7764\n",
      "Epoch 487/500\n",
      "132/132 [==============================] - 1s 11ms/step - loss: 0.5071 - accuracy: 0.8091 - val_loss: 0.6424 - val_accuracy: 0.7745\n",
      "Epoch 488/500\n",
      "132/132 [==============================] - 1s 11ms/step - loss: 0.4937 - accuracy: 0.8258 - val_loss: 0.6515 - val_accuracy: 0.7631\n",
      "Epoch 489/500\n",
      "132/132 [==============================] - 1s 10ms/step - loss: 0.4953 - accuracy: 0.8210 - val_loss: 0.6516 - val_accuracy: 0.7650\n",
      "Epoch 490/500\n",
      "132/132 [==============================] - 1s 11ms/step - loss: 0.4771 - accuracy: 0.8231 - val_loss: 0.6480 - val_accuracy: 0.7678\n",
      "Epoch 491/500\n",
      "132/132 [==============================] - 1s 10ms/step - loss: 0.4959 - accuracy: 0.8156 - val_loss: 0.6519 - val_accuracy: 0.7726\n",
      "Epoch 492/500\n",
      "132/132 [==============================] - 1s 10ms/step - loss: 0.4768 - accuracy: 0.8256 - val_loss: 0.6633 - val_accuracy: 0.7678\n",
      "Epoch 493/500\n",
      "132/132 [==============================] - 1s 10ms/step - loss: 0.4653 - accuracy: 0.8303 - val_loss: 0.6438 - val_accuracy: 0.7659\n",
      "Epoch 494/500\n",
      "132/132 [==============================] - 1s 11ms/step - loss: 0.4765 - accuracy: 0.8204 - val_loss: 0.6425 - val_accuracy: 0.7716\n",
      "Epoch 495/500\n",
      "132/132 [==============================] - 1s 11ms/step - loss: 0.4610 - accuracy: 0.8367 - val_loss: 0.6412 - val_accuracy: 0.7774\n",
      "Epoch 496/500\n",
      "132/132 [==============================] - 1s 11ms/step - loss: 0.5022 - accuracy: 0.8089 - val_loss: 0.6486 - val_accuracy: 0.7650\n",
      "Epoch 497/500\n",
      "132/132 [==============================] - 1s 11ms/step - loss: 0.4691 - accuracy: 0.8317 - val_loss: 0.6478 - val_accuracy: 0.7650\n",
      "Epoch 498/500\n",
      "132/132 [==============================] - 2s 12ms/step - loss: 0.4720 - accuracy: 0.8257 - val_loss: 0.6505 - val_accuracy: 0.7688\n",
      "Epoch 499/500\n",
      "132/132 [==============================] - 2s 12ms/step - loss: 0.4854 - accuracy: 0.8246 - val_loss: 0.6454 - val_accuracy: 0.7716\n",
      "Epoch 500/500\n",
      "132/132 [==============================] - 1s 11ms/step - loss: 0.4799 - accuracy: 0.8257 - val_loss: 0.6397 - val_accuracy: 0.7793\n"
     ]
    }
   ],
   "source": [
    "classifier = Sequential()\n",
    "#Adding the input LSTM network layer\n",
    "classifier.add(LSTM(128, input_shape=x_traincnn.shape[1:], return_sequences=True))\n",
    "classifier.add(Dropout(0.1))\n",
    "classifier.add(LSTM(128))\n",
    "classifier.add(Dropout(0.1))\n",
    "classifier.add(Dense(64)) \n",
    "classifier.add(Dense(8, activation='softmax')) \n",
    "#Compiling the network\n",
    "opt = optimizers.RMSprop(learning_rate=0.00001)\n",
    "classifier.compile(loss='sparse_categorical_crossentropy',optimizer=opt,metrics=['accuracy'] )\n",
    "\n",
    "#Fitting the data to the model\n",
    "lstmhist = classifier.fit(x_traincnn,y_train,epochs=500,validation_data=(x_testcnn, y_test))"
   ]
  },
  {
   "cell_type": "code",
   "execution_count": null,
   "metadata": {
    "colab": {
     "base_uri": "https://localhost:8080/",
     "height": 312
    },
    "id": "en6tGuIyRx0h",
    "outputId": "bb27035d-c30f-4e84-ce51-5c4114358537"
   },
   "outputs": [
    {
     "name": "stdout",
     "output_type": "stream",
     "text": [
      "(0.7859921273349321, 0.7792578496669839, 0.780278098608173, None)\n"
     ]
    },
    {
     "data": {
      "image/png": "[encoded data removed]",
      "text/plain": [
       "<Figure size 432x288 with 1 Axes>"
      ]
     },
     "metadata": {
      "needs_background": "light",
      "tags": []
     },
     "output_type": "display_data"
    }
   ],
   "source": [
    "y_pred = np.argmax(classifier.predict(x_testcnn),axis=-1)\n",
    "print(precision_recall_fscore_support(y_test,y_pred,average=\"weighted\"))\n",
    "\n",
    "# Başarı oranımızın grafiği\n",
    "\n",
    "plt.plot(lstmhist.history['accuracy'])\n",
    "plt.plot(lstmhist.history['val_accuracy'])\n",
    "plt.title('LSTM Başarı Oranı')\n",
    "plt.ylabel('Başarı')\n",
    "plt.xlabel('Epoch')\n",
    "plt.legend(['train', 'test'], loc='lower right')\n",
    "plt.savefig('accuracyLSTM.png')"
   ]
  },
  {
   "cell_type": "markdown",
   "metadata": {
    "id": "IOX10MNZuIaq"
   },
   "source": [
    "### CoLSTM"
   ]
  },
  {
   "cell_type": "code",
   "execution_count": null,
   "metadata": {
    "colab": {
     "base_uri": "https://localhost:8080/"
    },
    "id": "-T75QQUA75I4",
    "outputId": "991d5e74-22c2-4118-a519-4de3a9b78c82"
   },
   "outputs": [
    {
     "name": "stdout",
     "output_type": "stream",
     "text": [
      "Model: \"sequential_10\"\n",
      "_________________________________________________________________\n",
      "Layer (type)                 Output Shape              Param #   \n",
      "=================================================================\n",
      "conv1d_28 (Conv1D)           (None, 40, 128)           512       \n",
      "_________________________________________________________________\n",
      "B.Norm.1 (BatchNormalization (None, 40, 128)           512       \n",
      "_________________________________________________________________\n",
      "ReLU-1 (Activation)          (None, 40, 128)           0         \n",
      "_________________________________________________________________\n",
      "conv1d_29 (Conv1D)           (None, 40, 256)           98560     \n",
      "_________________________________________________________________\n",
      "B.Norm.2 (BatchNormalization (None, 40, 256)           1024      \n",
      "_________________________________________________________________\n",
      "ReLU-2 (Activation)          (None, 40, 256)           0         \n",
      "_________________________________________________________________\n",
      "conv1d_30 (Conv1D)           (None, 40, 256)           196864    \n",
      "_________________________________________________________________\n",
      "B.Norm.3 (BatchNormalization (None, 40, 256)           1024      \n",
      "_________________________________________________________________\n",
      "ReLU-3 (Activation)          (None, 40, 256)           0         \n",
      "_________________________________________________________________\n",
      "conv1d_31 (Conv1D)           (None, 40, 512)           393728    \n",
      "_________________________________________________________________\n",
      "B.Norm.4 (BatchNormalization (None, 40, 512)           2048      \n",
      "_________________________________________________________________\n",
      "ReLU-4 (Activation)          (None, 40, 512)           0         \n",
      "_________________________________________________________________\n",
      "lstm_10 (LSTM)               (None, 40, 256)           787456    \n",
      "_________________________________________________________________\n",
      "dropout_10 (Dropout)         (None, 40, 256)           0         \n",
      "_________________________________________________________________\n",
      "lstm_11 (LSTM)               (None, 40, 128)           197120    \n",
      "_________________________________________________________________\n",
      "dropout_11 (Dropout)         (None, 40, 128)           0         \n",
      "_________________________________________________________________\n",
      "flatten_5 (Flatten)          (None, 5120)              0         \n",
      "_________________________________________________________________\n",
      "dense_5 (Dense)              (None, 8)                 40968     \n",
      "=================================================================\n",
      "Total params: 1,719,816\n",
      "Trainable params: 1,717,512\n",
      "Non-trainable params: 2,304\n",
      "_________________________________________________________________\n",
      "Epoch 1/50\n",
      "132/132 [==============================] - 11s 28ms/step - loss: 1.6377 - accuracy: 0.4171 - val_loss: 1.4984 - val_accuracy: 0.4900\n",
      "Epoch 2/50\n",
      "132/132 [==============================] - 3s 19ms/step - loss: 0.9273 - accuracy: 0.6628 - val_loss: 0.8693 - val_accuracy: 0.6755\n",
      "Epoch 3/50\n",
      "132/132 [==============================] - 2s 19ms/step - loss: 0.8031 - accuracy: 0.7043 - val_loss: 0.6849 - val_accuracy: 0.7460\n",
      "Epoch 4/50\n",
      "132/132 [==============================] - 2s 19ms/step - loss: 0.6790 - accuracy: 0.7506 - val_loss: 0.6508 - val_accuracy: 0.7507\n",
      "Epoch 5/50\n",
      "132/132 [==============================] - 3s 19ms/step - loss: 0.6609 - accuracy: 0.7498 - val_loss: 0.7653 - val_accuracy: 0.7241\n",
      "Epoch 6/50\n",
      "132/132 [==============================] - 3s 19ms/step - loss: 0.6379 - accuracy: 0.7698 - val_loss: 0.6488 - val_accuracy: 0.7602\n",
      "Epoch 7/50\n",
      "132/132 [==============================] - 2s 19ms/step - loss: 0.5919 - accuracy: 0.7845 - val_loss: 0.8173 - val_accuracy: 0.7241\n",
      "Epoch 8/50\n",
      "132/132 [==============================] - 3s 19ms/step - loss: 0.5539 - accuracy: 0.7999 - val_loss: 0.6414 - val_accuracy: 0.7697\n",
      "Epoch 9/50\n",
      "132/132 [==============================] - 2s 19ms/step - loss: 0.5486 - accuracy: 0.8011 - val_loss: 0.6357 - val_accuracy: 0.7659\n",
      "Epoch 10/50\n",
      "132/132 [==============================] - 3s 19ms/step - loss: 0.5460 - accuracy: 0.7902 - val_loss: 0.5711 - val_accuracy: 0.7973\n",
      "Epoch 11/50\n",
      "132/132 [==============================] - 3s 19ms/step - loss: 0.5127 - accuracy: 0.8173 - val_loss: 0.6343 - val_accuracy: 0.7688\n",
      "Epoch 12/50\n",
      "132/132 [==============================] - 3s 19ms/step - loss: 0.4919 - accuracy: 0.8242 - val_loss: 0.6397 - val_accuracy: 0.7821\n",
      "Epoch 13/50\n",
      "132/132 [==============================] - 3s 19ms/step - loss: 0.4587 - accuracy: 0.8266 - val_loss: 0.6050 - val_accuracy: 0.7926\n",
      "Epoch 14/50\n",
      "132/132 [==============================] - 3s 19ms/step - loss: 0.4452 - accuracy: 0.8316 - val_loss: 0.5912 - val_accuracy: 0.7878\n",
      "\n",
      "Epoch 00014: ReduceLROnPlateau reducing learning rate to 5.999999848427251e-05.\n",
      "Epoch 15/50\n",
      "132/132 [==============================] - 3s 19ms/step - loss: 0.3960 - accuracy: 0.8597 - val_loss: 0.5209 - val_accuracy: 0.8192\n",
      "Epoch 16/50\n",
      "132/132 [==============================] - 2s 19ms/step - loss: 0.3519 - accuracy: 0.8703 - val_loss: 0.5841 - val_accuracy: 0.8030\n",
      "Epoch 17/50\n",
      "132/132 [==============================] - 3s 19ms/step - loss: 0.3034 - accuracy: 0.8869 - val_loss: 0.5563 - val_accuracy: 0.8107\n",
      "Epoch 18/50\n",
      "132/132 [==============================] - 3s 19ms/step - loss: 0.3180 - accuracy: 0.8835 - val_loss: 0.4861 - val_accuracy: 0.8202\n",
      "Epoch 19/50\n",
      "132/132 [==============================] - 3s 19ms/step - loss: 0.2973 - accuracy: 0.8877 - val_loss: 0.4874 - val_accuracy: 0.8287\n",
      "Epoch 20/50\n",
      "132/132 [==============================] - 3s 19ms/step - loss: 0.2716 - accuracy: 0.9058 - val_loss: 0.5021 - val_accuracy: 0.8430\n",
      "Epoch 21/50\n",
      "132/132 [==============================] - 3s 19ms/step - loss: 0.2611 - accuracy: 0.9020 - val_loss: 0.5665 - val_accuracy: 0.8173\n",
      "Epoch 22/50\n",
      "132/132 [==============================] - 3s 19ms/step - loss: 0.2803 - accuracy: 0.8950 - val_loss: 0.5279 - val_accuracy: 0.8278\n",
      "\n",
      "Epoch 00022: ReduceLROnPlateau reducing learning rate to 3.599999909056351e-05.\n",
      "Epoch 23/50\n",
      "132/132 [==============================] - 3s 19ms/step - loss: 0.2108 - accuracy: 0.9234 - val_loss: 0.4595 - val_accuracy: 0.8449\n",
      "Epoch 24/50\n",
      "132/132 [==============================] - 3s 19ms/step - loss: 0.1719 - accuracy: 0.9448 - val_loss: 0.4693 - val_accuracy: 0.8525\n",
      "Epoch 25/50\n",
      "132/132 [==============================] - 3s 19ms/step - loss: 0.1623 - accuracy: 0.9444 - val_loss: 0.4611 - val_accuracy: 0.8506\n",
      "Epoch 26/50\n",
      "132/132 [==============================] - 3s 20ms/step - loss: 0.1503 - accuracy: 0.9517 - val_loss: 0.5714 - val_accuracy: 0.8363\n",
      "Epoch 27/50\n",
      "132/132 [==============================] - 3s 19ms/step - loss: 0.1517 - accuracy: 0.9504 - val_loss: 0.4752 - val_accuracy: 0.8421\n",
      "\n",
      "Epoch 00027: ReduceLROnPlateau reducing learning rate to 2.1599998581223188e-05.\n",
      "Epoch 28/50\n",
      "132/132 [==============================] - 3s 19ms/step - loss: 0.1176 - accuracy: 0.9681 - val_loss: 0.4567 - val_accuracy: 0.8601\n",
      "Epoch 29/50\n",
      "132/132 [==============================] - 2s 19ms/step - loss: 0.0960 - accuracy: 0.9724 - val_loss: 0.4678 - val_accuracy: 0.8601\n",
      "Epoch 30/50\n",
      "132/132 [==============================] - 3s 19ms/step - loss: 0.0880 - accuracy: 0.9769 - val_loss: 0.5009 - val_accuracy: 0.8611\n",
      "Epoch 31/50\n",
      "132/132 [==============================] - 3s 19ms/step - loss: 0.0825 - accuracy: 0.9797 - val_loss: 0.4981 - val_accuracy: 0.8525\n",
      "Epoch 32/50\n",
      "132/132 [==============================] - 3s 19ms/step - loss: 0.0769 - accuracy: 0.9785 - val_loss: 0.4807 - val_accuracy: 0.8611\n",
      "\n",
      "Epoch 00032: ReduceLROnPlateau reducing learning rate to 1.2959999367012642e-05.\n",
      "Epoch 33/50\n",
      "132/132 [==============================] - 2s 19ms/step - loss: 0.0799 - accuracy: 0.9792 - val_loss: 0.4711 - val_accuracy: 0.8611\n",
      "Epoch 34/50\n",
      "132/132 [==============================] - 3s 19ms/step - loss: 0.0557 - accuracy: 0.9893 - val_loss: 0.4838 - val_accuracy: 0.8639\n",
      "Epoch 35/50\n",
      "132/132 [==============================] - 3s 19ms/step - loss: 0.0555 - accuracy: 0.9849 - val_loss: 0.4735 - val_accuracy: 0.8620\n",
      "Epoch 36/50\n",
      "132/132 [==============================] - 3s 19ms/step - loss: 0.0639 - accuracy: 0.9862 - val_loss: 0.4812 - val_accuracy: 0.8563\n",
      "\n",
      "Epoch 00036: ReduceLROnPlateau reducing learning rate to 7.775999620207585e-06.\n",
      "Epoch 37/50\n",
      "132/132 [==============================] - 2s 19ms/step - loss: 0.0445 - accuracy: 0.9947 - val_loss: 0.4750 - val_accuracy: 0.8687\n",
      "Epoch 38/50\n",
      "132/132 [==============================] - 3s 19ms/step - loss: 0.0467 - accuracy: 0.9907 - val_loss: 0.4855 - val_accuracy: 0.8668\n",
      "Epoch 39/50\n",
      "132/132 [==============================] - 2s 19ms/step - loss: 0.0415 - accuracy: 0.9939 - val_loss: 0.4836 - val_accuracy: 0.8735\n",
      "Epoch 40/50\n",
      "132/132 [==============================] - 3s 19ms/step - loss: 0.0429 - accuracy: 0.9941 - val_loss: 0.4926 - val_accuracy: 0.8658\n",
      "\n",
      "Epoch 00040: ReduceLROnPlateau reducing learning rate to 4.665599772124551e-06.\n",
      "Epoch 41/50\n",
      "132/132 [==============================] - 3s 19ms/step - loss: 0.0380 - accuracy: 0.9955 - val_loss: 0.4899 - val_accuracy: 0.8677\n",
      "Epoch 42/50\n",
      "132/132 [==============================] - 3s 19ms/step - loss: 0.0330 - accuracy: 0.9962 - val_loss: 0.4865 - val_accuracy: 0.8639\n",
      "Epoch 43/50\n",
      "132/132 [==============================] - 3s 19ms/step - loss: 0.0362 - accuracy: 0.9952 - val_loss: 0.4942 - val_accuracy: 0.8677\n",
      "Epoch 44/50\n",
      "132/132 [==============================] - 3s 19ms/step - loss: 0.0311 - accuracy: 0.9969 - val_loss: 0.4901 - val_accuracy: 0.8668\n",
      "\n",
      "Epoch 00044: ReduceLROnPlateau reducing learning rate to 2.7993597541353666e-06.\n",
      "Epoch 45/50\n",
      "132/132 [==============================] - 3s 19ms/step - loss: 0.0299 - accuracy: 0.9970 - val_loss: 0.4914 - val_accuracy: 0.8677\n",
      "Epoch 46/50\n",
      "132/132 [==============================] - 3s 19ms/step - loss: 0.0320 - accuracy: 0.9975 - val_loss: 0.4903 - val_accuracy: 0.8696\n",
      "Epoch 47/50\n",
      "132/132 [==============================] - 3s 19ms/step - loss: 0.0342 - accuracy: 0.9956 - val_loss: 0.4927 - val_accuracy: 0.8696\n",
      "Epoch 48/50\n",
      "132/132 [==============================] - 3s 19ms/step - loss: 0.0317 - accuracy: 0.9967 - val_loss: 0.4941 - val_accuracy: 0.8677\n",
      "\n",
      "Epoch 00048: ReduceLROnPlateau reducing learning rate to 1.6796157979115377e-06.\n",
      "Epoch 49/50\n",
      "132/132 [==============================] - 3s 19ms/step - loss: 0.0331 - accuracy: 0.9966 - val_loss: 0.4936 - val_accuracy: 0.8706\n",
      "Epoch 50/50\n",
      "132/132 [==============================] - 2s 19ms/step - loss: 0.0326 - accuracy: 0.9965 - val_loss: 0.4955 - val_accuracy: 0.8677\n"
     ]
    }
   ],
   "source": [
    "model = Sequential()\n",
    "model.add(Conv1D(filters=128,kernel_size=3,input_shape=x_traincnn.shape[1:],padding='same'))\n",
    "model.add(BatchNormalization(name=\"B.Norm.1\"))\n",
    "model.add(Activation('relu',name=\"ReLU-1\"))\n",
    "model.add(Conv1D(filters=256,kernel_size=3,padding='same'))\n",
    "model.add(BatchNormalization(name=\"B.Norm.2\"))\n",
    "model.add(Activation('relu',name=\"ReLU-2\"))\n",
    "model.add(Conv1D(filters=256,kernel_size=3,padding='same'))\n",
    "model.add(BatchNormalization(name=\"B.Norm.3\"))\n",
    "model.add(Activation('relu',name=\"ReLU-3\"))\n",
    "model.add(Conv1D(filters=512,kernel_size=3,padding='same'))\n",
    "model.add(BatchNormalization(name=\"B.Norm.4\"))\n",
    "model.add(Activation('relu',name=\"ReLU-4\"))\n",
    "\n",
    "model.add(LSTM(256,return_sequences=True))\n",
    "model.add(Dropout(0.1))\n",
    "model.add(LSTM(128,return_sequences=True))\n",
    "model.add(Dropout(0.1))\n",
    "\n",
    "\n",
    "model.add(Flatten())\n",
    "model.add(Dense(8, activation='softmax'))\n",
    "#Compiling the network\n",
    "opt = AdaBound(learning_rate=1e-4, final_lr=0.1)\n",
    "model.compile(optimizer=opt, loss=keras.losses.sparse_categorical_crossentropy, metrics=['accuracy'])\n",
    "#Fitting the data to the model\n",
    "model.summary()\n",
    "\n",
    "num_epochs = 50\n",
    "lr_reduce = ReduceLROnPlateau(monitor='val_loss', factor=0.6, patience=4, min_lr=0.000001, verbose=1)\n",
    "cnnhistory=model.fit(x_traincnn, y_train, epochs=num_epochs,validation_data=(x_testcnn, y_test),callbacks=[lr_reduce])"
   ]
  },
  {
   "cell_type": "code",
   "execution_count": null,
   "metadata": {
    "colab": {
     "base_uri": "https://localhost:8080/"
    },
    "id": "g93ERUGYukAc",
    "outputId": "af7a0a42-3053-4275-90fb-536cfd19fa05"
   },
   "outputs": [
    {
     "name": "stdout",
     "output_type": "stream",
     "text": [
      "0.8677450047573739\n"
     ]
    },
    {
     "data": {
      "text/plain": [
       "(0.8698254329428383, 0.8677450047573739, 0.8682402982028936, None)"
      ]
     },
     "execution_count": 32,
     "metadata": {
      "tags": []
     },
     "output_type": "execute_result"
    }
   ],
   "source": [
    "y_pred = np.argmax(model.predict(x_testcnn),axis=-1)\n",
    "print(accuracy_score(y_test, y_pred))\n",
    "#85.71 128 256 256 / 3 all / lr 1.4\n",
    "precision_recall_fscore_support(y_test,y_pred,average=\"weighted\")"
   ]
  },
  {
   "cell_type": "code",
   "execution_count": null,
   "metadata": {
    "colab": {
     "base_uri": "https://localhost:8080/",
     "height": 295
    },
    "id": "cYdzfnumuIat",
    "outputId": "b8224711-bcde-4970-81d8-2c583a1352c1"
   },
   "outputs": [
    {
     "data": {
      "image/png": "[encoded data removed]",
      "text/plain": [
       "<Figure size 432x288 with 1 Axes>"
      ]
     },
     "metadata": {
      "needs_background": "light",
      "tags": []
     },
     "output_type": "display_data"
    }
   ],
   "source": [
    "# Loss oranımızın grafiği\n",
    "plt.plot(cnnhistory.history['loss'])\n",
    "plt.plot(cnnhistory.history['val_loss'])\n",
    "plt.title('CNN+LSTM Loss Oranı')\n",
    "plt.ylabel('Loss')\n",
    "plt.xlabel('Epoch')\n",
    "plt.legend(['train', 'test'], loc='upper right')\n",
    "plt.savefig('loss.png')"
   ]
  },
  {
   "cell_type": "code",
   "execution_count": null,
   "metadata": {
    "colab": {
     "base_uri": "https://localhost:8080/",
     "height": 295
    },
    "id": "LOCs65J3uIau",
    "outputId": "09237e10-f7b9-46d8-9db5-496ba19a65eb"
   },
   "outputs": [
    {
     "data": {
      "image/png": "[encoded data removed]",
      "text/plain": [
       "<Figure size 432x288 with 1 Axes>"
      ]
     },
     "metadata": {
      "needs_background": "light",
      "tags": []
     },
     "output_type": "display_data"
    }
   ],
   "source": [
    "# Başarı oranımızın grafiği\n",
    "plt.plot(cnnhistory.history['accuracy'])\n",
    "plt.plot(cnnhistory.history['val_accuracy'])\n",
    "plt.title('CNN+LSTM Başarı Oranı')\n",
    "plt.ylabel('Başarı')\n",
    "plt.xlabel('Epoch')\n",
    "plt.legend(['train', 'test'], loc='lower right')\n",
    "plt.savefig('accuracy.png')"
   ]
  }
 ],
 "metadata": {
  "accelerator": "GPU",
  "colab": {
   "collapsed_sections": [
    "iWWrGaRbuIau",
    "nv16gJaluIav",
    "5g2wnOIduIaw",
    "EFQWpH1uuIaw",
    "qc4orAAWuIax"
   ],
   "name": "deneme.ipynb",
   "provenance": []
  },
  "kernelspec": {
   "display_name": "Python 3 (ipykernel)",
   "language": "python",
   "name": "python3"
  },
  "language_info": {
   "codemirror_mode": {
    "name": "ipython",
    "version": 3
   },
   "file_extension": ".py",
   "mimetype": "text/x-python",
   "name": "python",
   "nbconvert_exporter": "python",
   "pygments_lexer": "ipython3",
   "version": "3.9.6"
  },
  "metadata": {
   "interpreter": {
    "hash": "31f2aee4e71d21fbe5cf8b01ff0e069b9275f58929596ceb00d14d90e3e16cd6"
   }
  },
  "widgets": {
   "application/vnd.jupyter.widget-state+json": {
    "4a2e806b1a5243b0af361778732f137c": {
     "model_module": "@jupyter-widgets/controls",
     "model_name": "ProgressStyleModel",
     "state": {
      "_model_module": "@jupyter-widgets/controls",
      "_model_module_version": "1.5.0",
      "_model_name": "ProgressStyleModel",
      "_view_count": null,
      "_view_module": "@jupyter-widgets/base",
      "_view_module_version": "1.2.0",
      "_view_name": "StyleView",
      "bar_color": null,
      "description_width": "initial"
     }
    },
    "6eab77adf1f542ab9c22d76a63251f33": {
     "model_module": "@jupyter-widgets/controls",
     "model_name": "DescriptionStyleModel",
     "state": {
      "_model_module": "@jupyter-widgets/controls",
      "_model_module_version": "1.5.0",
      "_model_name": "DescriptionStyleModel",
      "_view_count": null,
      "_view_module": "@jupyter-widgets/base",
      "_view_module_version": "1.2.0",
      "_view_name": "StyleView",
      "description_width": ""
     }
    },
    "83ad67d5c119441dbedf53f234bebdf5": {
     "model_module": "@jupyter-widgets/base",
     "model_name": "LayoutModel",
     "state": {
      "_model_module": "@jupyter-widgets/base",
      "_model_module_version": "1.2.0",
      "_model_name": "LayoutModel",
      "_view_count": null,
      "_view_module": "@jupyter-widgets/base",
      "_view_module_version": "1.2.0",
      "_view_name": "LayoutView",
      "align_content": null,
      "align_items": null,
      "align_self": null,
      "border": null,
      "bottom": null,
      "display": null,
      "flex": null,
      "flex_flow": null,
      "grid_area": null,
      "grid_auto_columns": null,
      "grid_auto_flow": null,
      "grid_auto_rows": null,
      "grid_column": null,
      "grid_gap": null,
      "grid_row": null,
      "grid_template_areas": null,
      "grid_template_columns": null,
      "grid_template_rows": null,
      "height": null,
      "justify_content": null,
      "justify_items": null,
      "left": null,
      "margin": null,
      "max_height": null,
      "max_width": null,
      "min_height": null,
      "min_width": null,
      "object_fit": null,
      "object_position": null,
      "order": null,
      "overflow": null,
      "overflow_x": null,
      "overflow_y": null,
      "padding": null,
      "right": null,
      "top": null,
      "visibility": null,
      "width": null
     }
    },
    "9ceb6e7edec9463ab6192d10902c5c7b": {
     "model_module": "@jupyter-widgets/controls",
     "model_name": "HTMLModel",
     "state": {
      "_dom_classes": [],
      "_model_module": "@jupyter-widgets/controls",
      "_model_module_version": "1.5.0",
      "_model_name": "HTMLModel",
      "_view_count": null,
      "_view_module": "@jupyter-widgets/controls",
      "_view_module_version": "1.5.0",
      "_view_name": "HTMLView",
      "description": "",
      "description_tooltip": null,
      "layout": "IPY_MODEL_83ad67d5c119441dbedf53f234bebdf5",
      "placeholder": "​",
      "style": "IPY_MODEL_6eab77adf1f542ab9c22d76a63251f33",
      "value": " 517/5252 [04:26&lt;38:20,  2.06it/s]"
     }
    },
    "9e0688ef13f745f7ad1bf027ddfed2de": {
     "model_module": "@jupyter-widgets/base",
     "model_name": "LayoutModel",
     "state": {
      "_model_module": "@jupyter-widgets/base",
      "_model_module_version": "1.2.0",
      "_model_name": "LayoutModel",
      "_view_count": null,
      "_view_module": "@jupyter-widgets/base",
      "_view_module_version": "1.2.0",
      "_view_name": "LayoutView",
      "align_content": null,
      "align_items": null,
      "align_self": null,
      "border": null,
      "bottom": null,
      "display": null,
      "flex": null,
      "flex_flow": null,
      "grid_area": null,
      "grid_auto_columns": null,
      "grid_auto_flow": null,
      "grid_auto_rows": null,
      "grid_column": null,
      "grid_gap": null,
      "grid_row": null,
      "grid_template_areas": null,
      "grid_template_columns": null,
      "grid_template_rows": null,
      "height": null,
      "justify_content": null,
      "justify_items": null,
      "left": null,
      "margin": null,
      "max_height": null,
      "max_width": null,
      "min_height": null,
      "min_width": null,
      "object_fit": null,
      "object_position": null,
      "order": null,
      "overflow": null,
      "overflow_x": null,
      "overflow_y": null,
      "padding": null,
      "right": null,
      "top": null,
      "visibility": null,
      "width": null
     }
    },
    "cf80a04fdda34d62a507291fa84a521e": {
     "model_module": "@jupyter-widgets/base",
     "model_name": "LayoutModel",
     "state": {
      "_model_module": "@jupyter-widgets/base",
      "_model_module_version": "1.2.0",
      "_model_name": "LayoutModel",
      "_view_count": null,
      "_view_module": "@jupyter-widgets/base",
      "_view_module_version": "1.2.0",
      "_view_name": "LayoutView",
      "align_content": null,
      "align_items": null,
      "align_self": null,
      "border": null,
      "bottom": null,
      "display": null,
      "flex": null,
      "flex_flow": null,
      "grid_area": null,
      "grid_auto_columns": null,
      "grid_auto_flow": null,
      "grid_auto_rows": null,
      "grid_column": null,
      "grid_gap": null,
      "grid_row": null,
      "grid_template_areas": null,
      "grid_template_columns": null,
      "grid_template_rows": null,
      "height": null,
      "justify_content": null,
      "justify_items": null,
      "left": null,
      "margin": null,
      "max_height": null,
      "max_width": null,
      "min_height": null,
      "min_width": null,
      "object_fit": null,
      "object_position": null,
      "order": null,
      "overflow": null,
      "overflow_x": null,
      "overflow_y": null,
      "padding": null,
      "right": null,
      "top": null,
      "visibility": null,
      "width": null
     }
    },
    "d153754947f0471391e6be012b07c703": {
     "model_module": "@jupyter-widgets/controls",
     "model_name": "HBoxModel",
     "state": {
      "_dom_classes": [],
      "_model_module": "@jupyter-widgets/controls",
      "_model_module_version": "1.5.0",
      "_model_name": "HBoxModel",
      "_view_count": null,
      "_view_module": "@jupyter-widgets/controls",
      "_view_module_version": "1.5.0",
      "_view_name": "HBoxView",
      "box_style": "",
      "children": [
       "IPY_MODEL_d292c824d8c74fbdac065af0a18f6a7b",
       "IPY_MODEL_9ceb6e7edec9463ab6192d10902c5c7b"
      ],
      "layout": "IPY_MODEL_9e0688ef13f745f7ad1bf027ddfed2de"
     }
    },
    "d292c824d8c74fbdac065af0a18f6a7b": {
     "model_module": "@jupyter-widgets/controls",
     "model_name": "FloatProgressModel",
     "state": {
      "_dom_classes": [],
      "_model_module": "@jupyter-widgets/controls",
      "_model_module_version": "1.5.0",
      "_model_name": "FloatProgressModel",
      "_view_count": null,
      "_view_module": "@jupyter-widgets/controls",
      "_view_module_version": "1.5.0",
      "_view_name": "ProgressView",
      "bar_style": "danger",
      "description": " 10%",
      "description_tooltip": null,
      "layout": "IPY_MODEL_cf80a04fdda34d62a507291fa84a521e",
      "max": 5252,
      "min": 0,
      "orientation": "horizontal",
      "style": "IPY_MODEL_4a2e806b1a5243b0af361778732f137c",
      "value": 517
     }
    }
   }
  }
 },
 "nbformat": 4,
 "nbformat_minor": 1
}
