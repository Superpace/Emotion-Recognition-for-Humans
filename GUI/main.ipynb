{
 "cells": [
  {
   "cell_type": "code",
   "execution_count": 1,
   "metadata": {},
   "outputs": [
    {
     "name": "stderr",
     "output_type": "stream",
     "text": [
      "C:\\Users\\Omer\\Anaconda3\\lib\\site-packages\\tqdm\\autonotebook.py:17: TqdmExperimentalWarning: Using `tqdm.autonotebook.tqdm` in notebook mode. Use `tqdm.tqdm` instead to force console mode (e.g. in jupyter console)\n",
      "  \" (e.g. in jupyter console)\", TqdmExperimentalWarning)\n"
     ]
    },
    {
     "data": {
      "text/plain": [
       "0"
      ]
     },
     "execution_count": 1,
     "metadata": {},
     "output_type": "execute_result"
    }
   ],
   "source": [
    "# Kütüphanelerin Aktarılması\n",
    "import sys\n",
    "import threading\n",
    "import datetime\n",
    "import time\n",
    "import os\n",
    "import pickle\n",
    "import glob\n",
    "import contextlib\n",
    "import numpy as np\n",
    "from shutil import copyfile\n",
    "\n",
    "from PyQt5 import QtWidgets\n",
    "from PyQt5.QtWidgets import *\n",
    "from PyQt5.QtCore import QDir,QTimer,Qt\n",
    "from PyQt5.QtChart import QChart, QChartView, QBarSet, QBarSeries, QBarCategoryAxis, QValueAxis\n",
    "\n",
    "from anasayfa import *\n",
    "from kayitekrani import *\n",
    "from yukleniyor import *\n",
    "from analiz import *\n",
    "from dialogUyari import *\n",
    "from dialogKaydet import *\n",
    "\n",
    "import noisereduce as nr\n",
    "import librosa\n",
    "import sounddevice as sd\n",
    "from scipy.io.wavfile import write,read\n",
    "\n",
    "import ctypes\n",
    "myappid = 'IGU.bitirmeprojesi.2020'\n",
    "ctypes.windll.shell32.SetCurrentProcessExplicitAppUserModelID(myappid)"
   ]
  },
  {
   "cell_type": "code",
   "execution_count": 2,
   "metadata": {},
   "outputs": [],
   "source": [
    "# Global değişkenlerin tanımlanması\n",
    "file_path = None\n",
    "isRecPart = None\n",
    "myrecording=None\n",
    "timer = None\n",
    "timer2 = None\n",
    "event = None\n",
    "predY=[]\n",
    "\n",
    "# Bu kısım diğer bilgisayarlarda uygun bir şekilde değiştirilmeli\n",
    "MODEL_PATH = 'C:\\\\Users\\\\Omer\\\\Desktop\\\\Dersler\\\\Proje\\\\Emotion_Recognition\\\\Models\\\\modelMLP.sav'\n",
    "\n",
    "situation=\"Record\"\n",
    "clock = '00:00:00'\n",
    "\n",
    "count = 0\n",
    "labeltexts = [\n",
    "    \"Seste varolan gürültüler gideriliyor ...\",\n",
    "    \"Sesin özellik çıkarımları gerçekleştiriliyor ...\",\n",
    "    \"Modeller hazırlanıyor ...\",\n",
    "    \"Ses analiz ediliyor ...\",\n",
    "    \"Sonuçlar Hazır !\"\n",
    "]\n",
    "texts = [\n",
    "    \"Dosya Adı : \",\n",
    "    \"Tarih : \",\n",
    "    \"Verilen Asıl Duygu : \",\n",
    "    \"Kullanılan Model : \",\n",
    "    \"Sonuçlar : \\n\"\n",
    "]\n",
    "emotions = [\n",
    "    \"Normal\",\n",
    "    \"Sakin\",\n",
    "    \"Mutlu\",\n",
    "    \"Üzgün\",\n",
    "    \"Sinirli\"\n",
    "]"
   ]
  },
  {
   "cell_type": "code",
   "execution_count": 3,
   "metadata": {},
   "outputs": [],
   "source": [
    "# Pencere ve Dialogların oluşturulması\n",
    "\n",
    "app = QApplication(sys.argv)\n",
    "\n",
    "#Main Window\n",
    "mainWindow = QMainWindow()\n",
    "ui =Ui_MainWindow()\n",
    "ui.setupUi(mainWindow)\n",
    "\n",
    "#Record Window\n",
    "recordWindow = QWidget()\n",
    "ui2 = Ui_Kayit_Ekrani()\n",
    "ui2.setupUi(recordWindow)\n",
    "\n",
    "#Analysis Window\n",
    "analysisWindow = QWidget()\n",
    "ui4 = Ui_ERForm()\n",
    "ui4.setupUi(analysisWindow)\n",
    "\n",
    "#Loading Dialog\n",
    "loading_dialog = QDialog()\n",
    "ui3 = Ui_Dialog()\n",
    "ui3.setupUi(loading_dialog)\n",
    "\n",
    "# Warning Dialog\n",
    "uyariDialog = QDialog()\n",
    "ui5 = Ui_DialogUyari()\n",
    "ui5.setupUi(uyariDialog)\n",
    "\n",
    "# Save Dialog\n",
    "save_dialog = QDialog()\n",
    "ui6 = Ui_KaydetDialog()\n",
    "ui6.setupUi(save_dialog)"
   ]
  },
  {
   "cell_type": "code",
   "execution_count": 4,
   "metadata": {},
   "outputs": [],
   "source": [
    "# Kayıt ekranının açılması için tanımlanan fonksiyon\n",
    "def openRW(): # Record Window \n",
    "    global isRecPart\n",
    "    recordWindow.show()\n",
    "    situation = \"Record\"\n",
    "    isRecPart=True"
   ]
  },
  {
   "cell_type": "code",
   "execution_count": 5,
   "metadata": {},
   "outputs": [],
   "source": [
    "# Dosya seçmek için tanımlanan fonksiyon\n",
    "def openFileWindow():\n",
    "    global isRecPart,file_path\n",
    "    isRecPart=False\n",
    "    # Dosya seçme penceresi için\n",
    "    # Başlangıç yolu olarak C diskini seçtik ve sadece wav dosyalarını göstermesini istedik\n",
    "    file_path = QFileDialog.getOpenFileName(None, 'Bir wav dosyası seçiniz', \n",
    "   'C:\\\\',\"Wav Files (*.wav)\") \n",
    "    file_path = file_path[0]\n",
    "    filename = file_path.split(\"/\") # Dosya yolunu '/' karakterlerini baz alarak bölüp bir diziye atadık \n",
    "    filename=filename[-1] # Dosya ismimiz son kısımda olduğundan dolayı -1. indeksi aldık\n",
    "    \n",
    "    # Uyarı verdik\n",
    "    ui5.uyari_lbl.setText(\"Seçtiğiniz \\\"\"+filename+\"\\\" dosyasının sadece ilk 5 saniyesi kullanılacaktır\\n\"+\n",
    "    \"Onaylıyor musunuz ?\")\n",
    "    ui5.onay_btn.clicked.connect(lambda: openLW(file_path))\n",
    "    if file_path != \"\":\n",
    "        uyariDialog.show()"
   ]
  },
  {
   "cell_type": "code",
   "execution_count": 6,
   "metadata": {},
   "outputs": [],
   "source": [
    "# Kayıt ekranında kayıt , durduma ve oynatmak işlemlerini tanımladık\n",
    "# situation adındaki global değişken ile durumları hafızada tuttuk\n",
    "def RPP(): # Record Play Pause\n",
    "    global situation\n",
    "    if situation in \"Record\":\n",
    "        ui2.record_btn.setStyleSheet(\"border-radius : 75;\\n\"\n",
    "                                     \"image: url(:/newPrefix/stop.png);\")\n",
    "        situation = \"Paused\"\n",
    "        record()\n",
    "        \n",
    "    elif situation in \"Paused\":\n",
    "        stop()\n",
    "    elif situation in \"Play\":\n",
    "        play()"
   ]
  },
  {
   "cell_type": "code",
   "execution_count": 7,
   "metadata": {},
   "outputs": [],
   "source": [
    "# Ses kaydı için tanımlanan fonksiyon\n",
    "# myrecording global değişkeni ile kaydettiğimiz dosyanın her yerden erişilebilirliği sağladık\n",
    "def record():\n",
    "    global myrecording\n",
    "    start_timer()\n",
    "    seconds = 5\n",
    "    myrecording = sd.rec(int(seconds * 44100), samplerate=44100, channels=1,blocking=False)\n",
    "    "
   ]
  },
  {
   "cell_type": "code",
   "execution_count": 8,
   "metadata": {},
   "outputs": [],
   "source": [
    "# Kaydı oynatma için tanımlanan fonksiyon\n",
    "def play():\n",
    "    global myrecording\n",
    "    sd.play(myrecording,44100)"
   ]
  },
  {
   "cell_type": "code",
   "execution_count": 9,
   "metadata": {},
   "outputs": [],
   "source": [
    "# Ses kaydının durdurulması için tanımlanan fonksiyon\n",
    "def stop():\n",
    "    global myrecording,situation\n",
    "    sd.stop()\n",
    "    stop_timer()\n",
    "    write('output.wav', 44100, myrecording)  # Save as WAV file \n",
    "    ui2.record_btn.setStyleSheet(\"border-radius : 75;\\n\"\n",
    "                                     \"image: url(:/newPrefix/play-button.png);\")\n",
    "    situation = \"Play\"\n",
    "    # Silme ve Onaylama butonlarını aktifleştirdik\n",
    "    ui2.delete_btn.setEnabled(True)\n",
    "    ui2.okey_btn.setEnabled(True)"
   ]
  },
  {
   "cell_type": "code",
   "execution_count": 10,
   "metadata": {},
   "outputs": [],
   "source": [
    "# Ses kaydının beğenilmemesi durumunda silinmesi için tanımlanan fonksiyon\n",
    "def deleteSound():\n",
    "    global situation\n",
    "    # Silinmesi durumunda zaman kısmının tekrar başlanımı\n",
    "    ui2.time_label.setText('00:00:00')\n",
    "    ui2.record_btn.setStyleSheet(\"border-radius : 75;\\n\"\n",
    "                                 \"image: url(:/newPrefix/radio-microphone.png);\")\n",
    "    situation=\"Record\"\n",
    "    # Silme ve Onaylama butonlarını deaktif ettik\n",
    "    ui2.delete_btn.setEnabled(False)\n",
    "    ui2.okey_btn.setEnabled(False)"
   ]
  },
  {
   "cell_type": "code",
   "execution_count": 11,
   "metadata": {},
   "outputs": [],
   "source": [
    "# Zamanın başlatılması işlemi\n",
    "# Threadlar yardımı ile kontrolünü yaptık\n",
    "def start_timer():\n",
    "    global timer,event\n",
    "    print('start')\n",
    "    timer = threading.Thread(target=get_time)\n",
    "    event = threading.Event()\n",
    "    timer.daemon=True\n",
    "    timer.start() "
   ]
  },
  {
   "cell_type": "code",
   "execution_count": 12,
   "metadata": {},
   "outputs": [],
   "source": [
    "# Zaman arttırımı işlemini bu fonksiyon içerisinde yaptık\n",
    "def get_time():\n",
    "    global event,clock\n",
    "    seconds = 0\n",
    "    while not event.is_set():\n",
    "        seconds += 1\n",
    "        clock = str(datetime.timedelta(seconds = seconds))\n",
    "        ui2.time_label.setText(clock)\n",
    "        time.sleep(1)\n",
    "        if seconds == 5:\n",
    "            stop()"
   ]
  },
  {
   "cell_type": "code",
   "execution_count": 13,
   "metadata": {},
   "outputs": [],
   "source": [
    "# Zamanlayıcıyı durdumak için tanımlanan fonksiyon \n",
    "def stop_timer():\n",
    "    global event\n",
    "    print('stop')\n",
    "    event.set()\n",
    "    timer = None"
   ]
  },
  {
   "cell_type": "code",
   "execution_count": 14,
   "metadata": {},
   "outputs": [],
   "source": [
    "# Sesi onayladıktan sonra açılan yükleme ekranı için tanımlanan fonksiyon\n",
    "def openLW(file_path=\"output.wav\"): # LW = Loading Window\n",
    "    global isRecPart\n",
    "    # Bu global değişkende kayıt ekranında isek uyarının gösterilmemesi amaçlanmıştır\n",
    "    if not isRecPart:\n",
    "        uyariDialog.hide()\n",
    "    global loading_dialog,ui3,count\n",
    "    count=0\n",
    "    loading_dialog = QDialog()\n",
    "    ui3.setupUi(loading_dialog)\n",
    "    ui3.sonuc_btn.clicked.connect(lambda: openAW(file_path))\n",
    "    loading_dialog.show()\n",
    "    global timer2\n",
    "    timer2 = QTimer()\n",
    "    timer2.timeout.connect(increaseProgress)\n",
    "    timer2.start(1000)"
   ]
  },
  {
   "cell_type": "code",
   "execution_count": 15,
   "metadata": {},
   "outputs": [],
   "source": [
    "#Progress Bar'ın ilerlemesi için tanımlan fonksiyon\n",
    "def increaseProgress():\n",
    "    global count,labeltexts\n",
    "    value = ui3.progressBar.value()\n",
    "    if value < 100:\n",
    "        value = value + 20\n",
    "        ui3.progressBar.setValue(value)\n",
    "        \n",
    "        ui3.info_label.setText(labeltexts[count])\n",
    "        count+=1\n",
    "    else:\n",
    "        ui3.sonuc_btn.setEnabled(True)\n",
    "        timer2.stop()"
   ]
  },
  {
   "cell_type": "code",
   "execution_count": 16,
   "metadata": {},
   "outputs": [],
   "source": [
    "# Analiz Ekranının gelen verilerle oluşturulması için tanımlanan fonksiyon\n",
    "def openAW(file_path=\"output.wav\"): # Analysis Window\n",
    "    global analysisWindow,ui4,emotions,predY\n",
    "    analysisWindow = QWidget()\n",
    "    ui4 = Ui_ERForm()\n",
    "    ui4.setupUi(analysisWindow)\n",
    "    ui4.kaydet_btn.clicked.connect(openSD)\n",
    "    \n",
    "    loading_dialog.hide()\n",
    "    analysisWindow.show()\n",
    "    loaded_model = pickle.load(open(MODEL_PATH, 'rb'))\n",
    "    print(file_path)\n",
    "    for file in glob.glob(file_path):\n",
    "        feature = np.array(extract_feature(file))\n",
    "        predY = loaded_model.predict_proba([feature])\n",
    "    print(predY)\n",
    "    \n",
    "    if file_path in \"output.wav\":\n",
    "        ui4.filename_lbl.setText(file_path)\n",
    "    else:\n",
    "        ui4.filename_lbl.setText(file_path.split(\"/\")[-1])\n",
    "        \n",
    "    \n",
    "    ui4.normal_lbl.setText(toPercantage(predY[0][0]))\n",
    "    ui4.sakin_lbl.setText(toPercantage(predY[0][1]))\n",
    "    ui4.mutlu_lbl.setText(toPercantage(predY[0][2]))\n",
    "    ui4.uzgun_lbl.setText(toPercantage(predY[0][3]))\n",
    "    ui4.sinirli_lbl.setText(toPercantage(predY[0][4]))\n",
    "    \n",
    "    set0 = QBarSet(emotions[0])\n",
    "    set1 = QBarSet(emotions[1])\n",
    "    set2 = QBarSet(emotions[2])\n",
    "    set3 = QBarSet(emotions[3])\n",
    "    set4 = QBarSet(emotions[4])\n",
    "    \n",
    "    set0.append(predY[0][0])\n",
    "    set1.append(predY[0][1])\n",
    "    set2.append(predY[0][2])\n",
    "    set3.append(predY[0][3])\n",
    "    set4.append(predY[0][4])\n",
    "\n",
    "    series = QBarSeries()\n",
    "    series.append(set0)\n",
    "    series.append(set1)\n",
    "    series.append(set2)\n",
    "    series.append(set3)\n",
    "    series.append(set4)\n",
    "\n",
    "    chart = QChart()\n",
    "    chart.setTitle('Sesin analizine göre yüzdelikler')\n",
    "    chart.addSeries(series)\n",
    "\n",
    "    chart.setAnimationOptions(QChart.SeriesAnimations)\n",
    "\n",
    "    axisX = QBarCategoryAxis()\n",
    "    axisX.append(\" \")\n",
    "    chart.addAxis(axisX, Qt.AlignBottom)\n",
    "    series.attachAxis(axisX)\n",
    "    \n",
    "    axisY = QValueAxis()\n",
    "    chart.addAxis(axisY, Qt.AlignLeft)\n",
    "    series.attachAxis(axisY)\n",
    "\n",
    "    chart.legend().setVisible(True)\n",
    "    chart.legend().setAlignment(Qt.AlignBottom)\n",
    "    \n",
    "    ui4.analiz_gbox.setStyleSheet(\"padding:5px\")\n",
    "    chartView = QChartView(chart)\n",
    "    \n",
    "    vbox = QVBoxLayout()\n",
    "    ui4.analiz_gbox.setLayout(vbox)\n",
    "    vbox.addWidget(chartView)"
   ]
  },
  {
   "cell_type": "code",
   "execution_count": 17,
   "metadata": {},
   "outputs": [],
   "source": [
    "# Seslerin özelliklerinin çıkarılması için tanımlananan fonksiyon\n",
    "def extract_feature(file_name):\n",
    "    result=np.array([])\n",
    "    x, sample_rate = librosa.load(os.path.join(file_name),duration=3)\n",
    "    x = nr.reduce_noise(audio_clip=x, noise_clip=x)\n",
    "    mfccs=np.mean(librosa.feature.mfcc(y=x, sr=sample_rate, n_mfcc=40).T, axis=0)\n",
    "    result=np.hstack((result, mfccs))\n",
    "    return result"
   ]
  },
  {
   "cell_type": "code",
   "execution_count": 18,
   "metadata": {},
   "outputs": [],
   "source": [
    "# Gelen sayıyı yüzdeliğe çevirmek için tanımlanan fonksiyon\n",
    "def toPercantage(number):\n",
    "    percentage = \"{:.2%}\".format(number)\n",
    "    return percentage"
   ]
  },
  {
   "cell_type": "code",
   "execution_count": 19,
   "metadata": {},
   "outputs": [],
   "source": [
    "# Analizleri kaydetme ekranımızın açılması için tanımlanan fonksiyon\n",
    "def openSD(): # Save Dialog\n",
    "    global save_dialog,ui6\n",
    "    save_dialog = QDialog()\n",
    "    ui6 = Ui_KaydetDialog()\n",
    "    ui6.setupUi(save_dialog)\n",
    "    save_dialog.show()\n",
    "    ui6.kaydet_btn.clicked.connect(saveFiles)"
   ]
  },
  {
   "cell_type": "code",
   "execution_count": 20,
   "metadata": {},
   "outputs": [],
   "source": [
    "# Üstteki ekranda tanımlı olan kaydet butonu için tanımlanan fonksiyon\n",
    "# Bu kısımda bir adet wav uzantılı ses dosyası ve bir adet analizlere sahip txt\n",
    "# uzantılı metin dosyası oluşturulur\n",
    "def saveFiles():\n",
    "    global ui6,isRecPart,myrecording,texts,predY,emotions,file_path\n",
    "    \n",
    "    parent_dir = os.getcwd()\n",
    "    child_dir = \"Analyzes\"\n",
    "    \n",
    "    path=os.path.join(parent_dir,child_dir)\n",
    "    if not os.path.exists(path):\n",
    "        print(\"not exist\")\n",
    "        os.mkdir(path)\n",
    "    \n",
    "    filename = ui6.filename_LE.text()\n",
    "    realEmotion = ui6.realemo_LE.text()\n",
    "    \n",
    "    path=os.path.join(path,filename)\n",
    "    \n",
    "    sname = filename+\".wav\"\n",
    "    tname = filename+\".txt\"\n",
    "    \n",
    "    now = datetime.datetime.now()\n",
    "    current_time = now.strftime(\"%H:%M:%S\")\n",
    "    \n",
    "    if not os.path.exists(path):\n",
    "        os.mkdir(path)\n",
    "    else:\n",
    "        path = findNotExistName(path)\n",
    "        os.mkdir(path)\n",
    "    \n",
    "    answers = [sname,current_time,realEmotion,\"MLP\",\" \"]\n",
    "    \n",
    "    pathS=os.path.join(path,sname)\n",
    "    pathT=os.path.join(path,tname)\n",
    "    \n",
    "    if isRecPart:\n",
    "        write(pathS, 44100, myrecording)  # Save as WAV file \n",
    "    else:\n",
    "        copyfile(file_path, pathS)\n",
    "        \n",
    "    textF = open(pathT,\"w+\")\n",
    "    for text, answer in zip(texts, answers):\n",
    "        textF.write(text+answer+\"\\n\")\n",
    "    for prob, emotion in zip(predY[0], emotions):\n",
    "        textF.write(emotion+\" => \"+toPercantage(prob)+\"\\n\")\n",
    "        \n",
    "    textF.close() \n",
    "    save_dialog.hide()"
   ]
  },
  {
   "cell_type": "code",
   "execution_count": 21,
   "metadata": {},
   "outputs": [],
   "source": [
    "# Klasör ismini kontrol etmek için tanımlı fonksiyon\n",
    "# Aynı isme sahip klasör var ise uygun bir klasör ismi aramaya yaramakta\n",
    "def findNotExistName(path):\n",
    "    i = 1\n",
    "    while True:\n",
    "        if not os.path.exists(path+\"-\"+str(i)):\n",
    "            return path+\"-\"+str(i)\n",
    "        else:\n",
    "            i=i+1"
   ]
  },
  {
   "cell_type": "code",
   "execution_count": 22,
   "metadata": {
    "scrolled": true
   },
   "outputs": [
    {
     "name": "stdout",
     "output_type": "stream",
     "text": [
      "C:/Users/Omer/Desktop/Dersler/Proje/Emotion_Recognition/test/test1.wav\n",
      "[[5.65056932e-05 1.37764965e-02 9.83558873e-01 2.75572189e-05\n",
      "  2.58056809e-03]]\n"
     ]
    },
    {
     "ename": "SystemExit",
     "evalue": "0",
     "output_type": "error",
     "traceback": [
      "An exception has occurred, use %tb to see the full traceback.\n",
      "\u001b[1;31mSystemExit\u001b[0m\u001b[1;31m:\u001b[0m 0\n"
     ]
    },
    {
     "name": "stderr",
     "output_type": "stream",
     "text": [
      "C:\\Users\\Omer\\Anaconda3\\lib\\site-packages\\IPython\\core\\interactiveshell.py:3334: UserWarning: To exit: use 'exit', 'quit', or Ctrl-D.\n",
      "  warn(\"To exit: use 'exit', 'quit', or Ctrl-D.\", stacklevel=1)\n"
     ]
    }
   ],
   "source": [
    "# Tıklanma olaylarını tanımladık\n",
    "ui.mic_btn.clicked.connect(openRW)\n",
    "ui.file_btn.clicked.connect(openFileWindow)\n",
    "ui2.record_btn.clicked.connect(RPP)\n",
    "ui2.delete_btn.clicked.connect(deleteSound)\n",
    "ui2.okey_btn.clicked.connect(lambda: openLW())\n",
    "mainWindow.show()\n",
    "# En son uygulamayı sonlandırırız\n",
    "sys.exit(app.exec_())"
   ]
  },
  {
   "cell_type": "code",
   "execution_count": null,
   "metadata": {},
   "outputs": [],
   "source": []
  },
  {
   "cell_type": "code",
   "execution_count": null,
   "metadata": {},
   "outputs": [],
   "source": []
  }
 ],
 "metadata": {
  "kernelspec": {
   "display_name": "Python 3",
   "language": "python",
   "name": "python3"
  },
  "language_info": {
   "codemirror_mode": {
    "name": "ipython",
    "version": 3
   },
   "file_extension": ".py",
   "mimetype": "text/x-python",
   "name": "python",
   "nbconvert_exporter": "python",
   "pygments_lexer": "ipython3",
   "version": "3.7.4"
  }
 },
 "nbformat": 4,
 "nbformat_minor": 2
}
