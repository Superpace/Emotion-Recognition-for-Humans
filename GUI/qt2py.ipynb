{
 "cells": [
  {
   "cell_type": "code",
   "execution_count": 1,
   "metadata": {
    "scrolled": true
   },
   "outputs": [],
   "source": [
    "from PyQt5 import uic\n",
    "# Bu kısımda ui dosyalarımızı python dosyasına çeviriyoruz"
   ]
  },
  {
   "cell_type": "code",
   "execution_count": 10,
   "metadata": {},
   "outputs": [],
   "source": [
    "with open('anasayfa.py','w',encoding='utf-8') as fout:\n",
    "    uic.compileUi('anasayfa.ui',fout)\n",
    "with open('kayitekrani.py','w',encoding='utf-8') as fout:\n",
    "    uic.compileUi('kayitekrani.ui',fout)\n",
    "with open('yukleniyor.py','w',encoding='utf-8') as fout:\n",
    "    uic.compileUi('yukleniyor.ui',fout)\n",
    "with open('analiz.py','w',encoding='utf-8') as fout:\n",
    "    uic.compileUi('analiz.ui',fout)\n",
    "with open('dialogUyari.py','w',encoding='utf-8') as fout:\n",
    "    uic.compileUi('dialogUyari.ui',fout)\n",
    "with open('dialogKaydet.py','w',encoding='utf-8') as fout:\n",
    "    uic.compileUi('dialogKaydet.ui',fout)"
   ]
  },
  {
   "cell_type": "code",
   "execution_count": null,
   "metadata": {},
   "outputs": [],
   "source": []
  }
 ],
 "metadata": {
  "kernelspec": {
   "name": "python3",
   "display_name": "Python 3.9.5 64-bit"
  },
  "language_info": {
   "codemirror_mode": {
    "name": "ipython",
    "version": 3
   },
   "file_extension": ".py",
   "mimetype": "text/x-python",
   "name": "python",
   "nbconvert_exporter": "python",
   "pygments_lexer": "ipython3",
   "version": "3.9.5"
  },
  "interpreter": {
   "hash": "c19cce6f213a774879d03e6d5cfa5305b6dd20a75cc23fd29ca0cfc8de9b0e35"
  }
 },
 "nbformat": 4,
 "nbformat_minor": 2
}