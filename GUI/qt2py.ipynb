{
 "cells": [
  {
   "cell_type": "code",
   "execution_count": 11,
   "metadata": {
    "scrolled": true
   },
   "outputs": [],
   "source": [
    "from PyQt5 import uic\n",
    "# Bu kısımda ui dosyalarımızı python dosyasına çeviriyoruz"
   ]
  },
  {
   "cell_type": "code",
   "execution_count": 10,
   "metadata": {},
   "outputs": [],
   "source": [
    "with open('anasayfa.py','w',encoding='utf-8') as fout:\n",
    "    uic.compileUi('anasayfa.ui',fout)\n",
    "with open('kayitekrani.py','w',encoding='utf-8') as fout:\n",
    "    uic.compileUi('kayitekrani.ui',fout)\n",
    "with open('yukleniyor.py','w',encoding='utf-8') as fout:\n",
    "    uic.compileUi('yukleniyor.ui',fout)\n",
    "with open('analiz.py','w',encoding='utf-8') as fout:\n",
    "    uic.compileUi('analiz.ui',fout)\n",
    "with open('dialogUyari.py','w',encoding='utf-8') as fout:\n",
    "    uic.compileUi('dialogUyari.ui',fout)\n",
    "with open('dialogKaydet.py','w',encoding='utf-8') as fout:\n",
    "    uic.compileUi('dialogKaydet.ui',fout)"
   ]
  },
  {
   "cell_type": "code",
   "execution_count": null,
   "metadata": {},
   "outputs": [],
   "source": []
  }
 ],
 "metadata": {
  "kernelspec": {
   "display_name": "Python 3",
   "language": "python",
   "name": "python3"
  },
  "language_info": {
   "codemirror_mode": {
    "name": "ipython",
    "version": 3
   },
   "file_extension": ".py",
   "mimetype": "text/x-python",
   "name": "python",
   "nbconvert_exporter": "python",
   "pygments_lexer": "ipython3",
   "version": "3.7.4"
  }
 },
 "nbformat": 4,
 "nbformat_minor": 2
}
